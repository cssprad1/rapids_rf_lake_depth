{
 "cells": [
  {
   "cell_type": "code",
   "execution_count": 1,
   "metadata": {},
   "outputs": [],
   "source": [
    "import os\n",
    "import time\n",
    "import random\n",
    "from pprint import pprint\n",
    "import numpy as np\n",
    "import cupy as cp\n",
    "from pprint import pprint\n",
    "\n",
    "from load_dataset import custom_lakedepth as ld\n",
    "\n",
    "from cuml.dask.common import utils as dask_utils\n",
    "from dask.distributed import Client, wait\n",
    "from dask_cuda import LocalCUDACluster\n",
    "import dask_cudf\n",
    "from cuml.dask.ensemble import RandomForestRegressor as cumlDaskRF\n",
    "\n",
    "from sklearn.model_selection import RandomizedSearchCV\n",
    "from sklearn.metrics import mean_absolute_error, r2_score, mean_squared_error\n",
    "# Import data-visualization modules"
   ]
  },
  {
   "cell_type": "code",
   "execution_count": 2,
   "metadata": {},
   "outputs": [
    {
     "name": "stdout",
     "output_type": "stream",
     "text": [
      "/att/gpfsfs/briskfs01/ppl/cssprad1/projects/rapids_rf_lake_depth/load_dataset/LakeDepth/pts_merged_final.csv\n",
      " - from DATA: reading csv into GPU memory\n",
      " - from DATA: done reading csv into GPU memory\n",
      " - from DATA: dropped column: FID\n",
      " - from DATA: dropped column: Date\n"
     ]
    }
   ],
   "source": [
    "# This will use all GPUs on the local host by default\n",
    "cluster = LocalCUDACluster(threads_per_worker=1)\n",
    "c = Client(cluster)\n",
    "\n",
    "# Query the client for all connected workers\n",
    "workers = c.has_what().keys()\n",
    "n_workers = len(workers)\n",
    "n_streams = 8 # Performance optimization\n",
    "\n",
    "c\n",
    "\n",
    "data = ld.LakeDepth(42)\n",
    "cv_train, cv_test, labels_train, labels_test = data.split(0.20)\n"
   ]
  },
  {
   "cell_type": "code",
   "execution_count": 3,
   "metadata": {},
   "outputs": [],
   "source": [
    "n_partitions = n_workers"
   ]
  },
  {
   "cell_type": "code",
   "execution_count": 5,
   "metadata": {},
   "outputs": [
    {
     "name": "stdout",
     "output_type": "stream",
     "text": [
      "{'bootstrap': [True, False],\n",
      " 'max_depth': [10, 20, 30, 40, 50, 60, 70, 80, 90, 100, 110],\n",
      " 'max_features': ['auto', 'sqrt'],\n",
      " 'n_bins': [5, 6, 8, 10, 11, 13, 15, 16, 18, 20],\n",
      " 'n_estimators': [200, 400, 600, 800, 1000, 1200, 1400, 1600, 1800, 2000]}\n"
     ]
    }
   ],
   "source": [
    "results = []\n",
    "TEST_SIZE = 0.20\n",
    "RANDOM_STATE = 42\n",
    "# Introduce lists to the hyperparameters we want to\n",
    "\n",
    "N_ESTIMATORS = [int(x) for x in np.linspace(start=200, stop=2000, num=10)]\n",
    "SPLIT_ALGO = 1\n",
    "SPLIT_CRITERION = 2\n",
    "BOOTSTRAP = [True, False]\n",
    "BOOTSTRAP_FEATURES = False\n",
    "ROWS_SAMPLE = 1.0\n",
    "MAX_DEPTH = [int(x) for x in np.linspace(10, 110, num=11)]\n",
    "MAX_LEAVES = -1\n",
    "MAX_FEATURES = ['auto', 'sqrt']\n",
    "N_BINS = [int(x) for x in np.linspace(start=5, stop=20, num=10)]\n",
    "MIN_ROWS_PER_NODE = 2\n",
    "MIN_IMPURITY_DECREASE = 0.0\n",
    "ACCURACY_METRIC = 'mean_ae'  # 'mse' #'r2' # 'median_aw' #\n",
    "QUANTILEPT = False\n",
    "SEED = 42\n",
    "VERBOSE = False\n",
    "\n",
    "random_grid = {'n_estimators': N_ESTIMATORS,\n",
    "               'max_depth': MAX_DEPTH,\n",
    "               'bootstrap': BOOTSTRAP,\n",
    "               'max_features': MAX_FEATURES,\n",
    "               'n_bins': N_BINS}\n",
    "\n",
    "pprint(random_grid)"
   ]
  },
  {
   "cell_type": "code",
   "execution_count": 6,
   "metadata": {},
   "outputs": [],
   "source": [
    "rf = cumlDaskRF()"
   ]
  },
  {
   "cell_type": "code",
   "execution_count": null,
   "metadata": {},
   "outputs": [],
   "source": [
    "X_dask_cudf = dask_cudf.from_cudf(cv_train, npartitions=n_workers)\n",
    "y_dask_cudf = dask_cudf.from_cudf(labels_train, npartitions=n_workers)\n",
    "X_dask_cudf, y_dask_cudf = dask_utils.persist_across_workers(c,\n",
    "                                                  [X_dask_cudf,\n",
    "                                                   y_dask_cudf])"
   ]
  },
  {
   "cell_type": "code",
   "execution_count": null,
   "metadata": {},
   "outputs": [],
   "source": [
    "rf = md.DaskCumlRF(hyperparameters)"
   ]
  },
  {
   "cell_type": "code",
   "execution_count": null,
   "metadata": {},
   "outputs": [],
   "source": [
    "cv_dt, l_dt = dask.distribute(cv_train, l_train)\n",
    "cv_dte, l_dte = dask.distribute(cv_test, l_test)"
   ]
  },
  {
   "cell_type": "code",
   "execution_count": null,
   "metadata": {},
   "outputs": [],
   "source": [
    "%%time\n",
    "\n",
    "rf.train(cv_dt, l_dt)"
   ]
  },
  {
   "cell_type": "code",
   "execution_count": null,
   "metadata": {},
   "outputs": [],
   "source": [
    "rf.get_metrics(cv_dte, l_test)"
   ]
  },
  {
   "cell_type": "code",
   "execution_count": null,
   "metadata": {},
   "outputs": [],
   "source": [
    "rf.feature_importances(cv_dt, l_dt, True)"
   ]
  },
  {
   "cell_type": "code",
   "execution_count": null,
   "metadata": {},
   "outputs": [],
   "source": []
  }
 ],
 "metadata": {
  "kernelspec": {
   "display_name": "Python [conda env:.conda-myRapids]",
   "language": "python",
   "name": "conda-env-.conda-myRapids-py"
  },
  "language_info": {
   "codemirror_mode": {
    "name": "ipython",
    "version": 3
   },
   "file_extension": ".py",
   "mimetype": "text/x-python",
   "name": "python",
   "nbconvert_exporter": "python",
   "pygments_lexer": "ipython3",
   "version": "3.7.8"
  }
 },
 "nbformat": 4,
 "nbformat_minor": 4
}
