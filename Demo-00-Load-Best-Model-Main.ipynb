{
 "cells": [
  {
   "cell_type": "markdown",
   "metadata": {},
   "source": [
    "# Lake Depth Random Forest model\n",
    "\n",
    "#### Using:\n",
    "1. cuDf for data pre-processing\n",
    "2. cuML for machine learning algorithm implementations\n",
    "3. Dask for rapids parallelization of GPU code\n",
    "4. sklearn for metrics\n",
    "\n",
    "#### Import our model object\n",
    "Best model is saved"
   ]
  },
  {
   "cell_type": "code",
   "execution_count": 1,
   "metadata": {},
   "outputs": [],
   "source": [
    "from load_dataset import custom_lakedepth\n",
    "from models import custom_RF as crf\n",
    "import matplotlib.pyplot as plt\n",
    "plt.rcParams['figure.figsize'] = [10, 7]\n",
    "from pprint import pprint"
   ]
  },
  {
   "cell_type": "markdown",
   "metadata": {},
   "source": [
    "#### Import LakeDepth dataset object\n",
    "##### Split into training and testing"
   ]
  },
  {
   "cell_type": "code",
   "execution_count": 2,
   "metadata": {},
   "outputs": [
    {
     "name": "stdout",
     "output_type": "stream",
     "text": [
      " - from DATA: reading csv into GPU memory\n",
      " - from DATA: done reading csv into GPU memory\n",
      " - from DATA: dropped column: FID\n",
      " - from DATA: dropped column: Date\n"
     ]
    }
   ],
   "source": [
    "primary_dataset = custom_lakedepth.LakeDepth(random_state = 42)\n",
    "covariates_train, covariates_test, labels_train, labels_test = primary_dataset.split(0.20)"
   ]
  },
  {
   "cell_type": "markdown",
   "metadata": {},
   "source": [
    "### Random Forest (best model so far) parameters"
   ]
  },
  {
   "cell_type": "code",
   "execution_count": 3,
   "metadata": {},
   "outputs": [
    {
     "name": "stdout",
     "output_type": "stream",
     "text": [
      "{'accuracy_metric': 'mean_ae',\n",
      " 'bootstrap': False,\n",
      " 'bootstrap_features': False,\n",
      " 'handle': <cuml.raft.common.handle.Handle object at 0x7fc2e35cd530>,\n",
      " 'max_batch_size': 128,\n",
      " 'max_depth': 50,\n",
      " 'max_features': 'sqrt',\n",
      " 'max_leaves': -1,\n",
      " 'min_impurity_decrease': 0.0,\n",
      " 'min_rows_per_node': 2,\n",
      " 'n_bins': 16,\n",
      " 'n_estimators': 1052,\n",
      " 'output_type': 'cudf',\n",
      " 'quantile_per_tree': False,\n",
      " 'rows_sample': 1.0,\n",
      " 'split_algo': 1,\n",
      " 'split_criterion': 2,\n",
      " 'use_experimental_backend': False,\n",
      " 'verbose': 4}\n"
     ]
    }
   ],
   "source": [
    "best_rf_model = crf.load_model('best_test_03.sav')\n",
    "pprint(best_rf_model.model.get_params())"
   ]
  },
  {
   "cell_type": "markdown",
   "metadata": {},
   "source": [
    "### Training times (w/ Dask Implementation):\n",
    "#### with max-depth at sub-80\n",
    "1.        trees < 500  : 01-02 sec training time\n",
    "2. 500  < trees < 1000 : 03-04 sec training time\n",
    "3. 100  < trees < 1500 : 04-05 sec training time\n",
    "5. 1500 < trees < 2000 : 05-12 sec training time\n",
    "\n",
    "#### with max-depth at 80+\n",
    "1.        trees < 500  : 03-04 sec training time\n",
    "2. 500  < trees < 1000 : 04-09 sec training time\n",
    "3. 100  < trees < 1500 : 09-15 sec training time\n",
    "5. 1500 < trees < 2000 : 15-25 sec training time"
   ]
  },
  {
   "cell_type": "markdown",
   "metadata": {},
   "source": [
    "## Metrics\n",
    "#### measure the models abilities through\n",
    "1. Mean Absolute Error\n",
    "2. r2_score\n",
    "3. Mean Square Error"
   ]
  },
  {
   "cell_type": "code",
   "execution_count": 4,
   "metadata": {},
   "outputs": [
    {
     "name": "stdout",
     "output_type": "stream",
     "text": [
      "Scores ------\n",
      " MAE:  0.1695061\n",
      "  r2:  0.9446081943548746\n",
      " MSE:  0.1992717\n"
     ]
    }
   ],
   "source": [
    "predictions, mae, r2, mse = best_rf_model.get_metrics(covariates_test, labels_test)"
   ]
  },
  {
   "cell_type": "markdown",
   "metadata": {},
   "source": [
    "-- Still not great on MAE considering the limited range of depths we're working for"
   ]
  },
  {
   "cell_type": "markdown",
   "metadata": {},
   "source": [
    "## Results Visualization"
   ]
  },
  {
   "cell_type": "code",
   "execution_count": 5,
   "metadata": {},
   "outputs": [
    {
     "data": {
      "image/png": "[encoded data removed]",
      "text/plain": [
       "<Figure size 720x504 with 1 Axes>"
      ]
     },
     "metadata": {
      "needs_background": "light"
     },
     "output_type": "display_data"
    }
   ],
   "source": [
    "plt.scatter(labels_test.to_array(), predictions.to_array())\n",
    "plt.xlabel(\"Actual Depth: $Y_i$\")\n",
    "plt.ylabel(\"Predicted Depth: $\\hat{Y}_i$\")\n",
    "plt.title(\"Actual lake depth vs. Predicted Depth: $Y_i$ vs $\\hat{Y}_i$\")\n",
    "plt.show()"
   ]
  },
  {
   "cell_type": "markdown",
   "metadata": {},
   "source": [
    "### Random sampling of actual vs predicted data"
   ]
  },
  {
   "cell_type": "code",
   "execution_count": 6,
   "metadata": {},
   "outputs": [
    {
     "name": "stdout",
     "output_type": "stream",
     "text": [
      "Data-point:  1757 Actual:   2.1504199504852295 Predicted:   1.9907126426696777\n",
      "Data-point:  4169 Actual:   1.9851000308990479 Predicted:     2.15551495552063\n",
      "Data-point:  2757 Actual:   1.0075000524520874 Predicted:   1.2505210638046265\n",
      "Data-point:  1478 Actual:   1.3428800106048584 Predicted:   1.3384414911270142\n",
      "Data-point:    41 Actual:  0.30000001192092896 Predicted:  0.29999616742134094\n",
      "Data-point:  2609 Actual:    2.192500114440918 Predicted:    1.889277458190918\n",
      "Data-point:  1707 Actual:   1.8895000219345093 Predicted:   1.9550710916519165\n",
      "Data-point:  2608 Actual:  0.30125001072883606 Predicted:  0.30354389548301697\n",
      "Data-point:  3765 Actual:   0.7113680243492126 Predicted:   1.4792966842651367\n",
      "Data-point:  3597 Actual:    2.200000047683716 Predicted:   2.2007861137390137\n",
      "Data-point:  1325 Actual:   1.0133299827575684 Predicted:   1.1188536882400513\n",
      "Data-point:  3967 Actual:    1.842079997062683 Predicted:    1.846307396888733\n",
      "Data-point:  3071 Actual:    1.600000023841858 Predicted:   1.6051181554794312\n",
      "Data-point:   225 Actual:   2.8380000591278076 Predicted:   2.8339526653289795\n",
      "Data-point:   173 Actual:   2.1035399436950684 Predicted:   2.0900020599365234\n",
      "Data-point:   724 Actual:   2.3168599605560303 Predicted:    2.319391965866089\n",
      "Data-point:  3991 Actual:    2.147170066833496 Predicted:   2.1495227813720703\n",
      "Data-point:  3494 Actual:   10.100000381469727 Predicted:    6.774289608001709\n",
      "Data-point:  3811 Actual:     2.05292010307312 Predicted:   2.0534400939941406\n",
      "Data-point:  2086 Actual:   1.2978299856185913 Predicted:   1.3110226392745972\n"
     ]
    }
   ],
   "source": [
    "# Lets look at a random sample of datapoints to see the actual vs predicted depths\n",
    "import random\n",
    "for i in range(20):\n",
    "    random_data_point = random.randint(0, 4635)\n",
    "    print('Data-point: {:5} Actual: {:20} Predicted: {:20}'.format(random_data_point, labels_test.to_array()[random_data_point],\n",
    "                                               predictions.to_array()[random_data_point]))"
   ]
  },
  {
   "cell_type": "markdown",
   "metadata": {},
   "source": [
    "## Feature Importance\n",
    "\n",
    "Using sklearn's permutation importance\n"
   ]
  },
  {
   "cell_type": "code",
   "execution_count": 7,
   "metadata": {},
   "outputs": [
    {
     "name": "stdout",
     "output_type": "stream",
     "text": [
      "Variables: b27_LC8_07           Importance: -0.07294\n",
      "Variables: b35_LC8_07           Importance: -0.07755\n",
      "Variables: b16_LC8_07           Importance: -0.07825\n",
      "Variables: b32_LC8_07           Importance: -0.07874\n",
      "Variables: b31_LC8_07           Importance: -0.07989\n",
      "Variables: b15_LC8_07           Importance: -0.08177\n",
      "Variables: b28_LC8_07           Importance: -0.08556\n",
      "Variables: b4_LC8_075           Importance: -0.08996\n",
      "Variables: b6_LC8_075           Importance: -0.09378\n",
      "Variables: b9_LC8_075           Importance: -0.09588\n",
      "Variables: b22_LC8_07           Importance: -0.09608\n",
      "Variables: b11_LC8_07           Importance: -0.09688\n",
      "Variables: b14_LC8_07           Importance: -0.09769\n",
      "Variables: b5_LC8_075           Importance: -0.10086\n",
      "Variables: b33_LC8_07           Importance: -0.10829\n",
      "Variables: b34_LC8_07           Importance: -0.10896\n",
      "Variables: b10_LC8_07           Importance: -0.11114\n",
      "Variables: b29_LC8_07           Importance: -0.11118\n",
      "Variables: b23_LC8_07           Importance: -0.11357\n",
      "Variables: b30_LC8_07           Importance: -0.11765\n",
      "Variables: b21_LC8_07           Importance: -0.12389\n",
      "Variables: b26_LC8_07           Importance: -0.13189\n",
      "Variables: b2_LC8_075           Importance: -0.14082\n",
      "Variables: b1_LC8_075           Importance: -0.14837\n",
      "Variables: b25_LC8_07           Importance: -0.14905\n",
      "Variables: b19_LC8_07           Importance: -0.17095\n",
      "Variables: b13_LC8_07           Importance: -0.17301\n",
      "Variables: b3_LC8_075           Importance: -0.1753\n",
      "Variables: b12_LC8_07           Importance: -0.19619\n",
      "Variables: b7_LC8_075           Importance: -0.19711\n",
      "Variables: b20_LC8_07           Importance: -0.21182\n",
      "Variables: b18_LC8_07           Importance: -0.22014\n",
      "Variables: b24_LC8_07           Importance: -0.23143\n",
      "Variables: b8_LC8_075           Importance: -0.26523\n",
      "Variables: b17_LC8_07           Importance: -0.28086\n"
     ]
    },
    {
     "data": {
      "image/png": "[encoded data removed]",
      "text/plain": [
       "<Figure size 1440x576 with 1 Axes>"
      ]
     },
     "metadata": {
      "needs_background": "light"
     },
     "output_type": "display_data"
    }
   ],
   "source": [
    "best_rf_model.feature_importances(covariates_train, labels_train, show = True)"
   ]
  },
  {
   "cell_type": "markdown",
   "metadata": {},
   "source": [
    "## Final Points\n",
    "\n",
    "* Dask combined with cuDF/cuML is still experimental\n",
    "* We see significant speedups during training time"
   ]
  },
  {
   "cell_type": "code",
   "execution_count": null,
   "metadata": {},
   "outputs": [],
   "source": []
  }
 ],
 "metadata": {
  "kernelspec": {
   "display_name": "Python [conda env:.conda-rapids-0.16]",
   "language": "python",
   "name": "conda-env-.conda-rapids-0.16-py"
  },
  "language_info": {
   "codemirror_mode": {
    "name": "ipython",
    "version": 3
   },
   "file_extension": ".py",
   "mimetype": "text/x-python",
   "name": "python",
   "nbconvert_exporter": "python",
   "pygments_lexer": "ipython3",
   "version": "3.7.8"
  }
 },
 "nbformat": 4,
 "nbformat_minor": 4
}
