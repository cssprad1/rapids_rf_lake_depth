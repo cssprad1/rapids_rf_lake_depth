{
 "cells": [
  {
   "cell_type": "markdown",
   "metadata": {},
   "source": [
    "# Aviris 2020 random forest model training and testing\n",
    "\n",
    "### What this notebook is doing.\n",
    "\n",
    "#### This notebook takes the AVIRIS data, trains a GPU-based model, and apply's the model to the raster stack\n",
    "\n",
    "\n",
    "1. Data preprocessing- Load the Aviris data into the GPU, narrow down to the bands we want to sample\n",
    "2. Model initialization / training - Initialize a GPU random forest model based on hyperparameters, train through k_fold, save model\n",
    "3. Model raster application - Get the location of the tifs to apply the GPU RF model to, put them in a form (GPU ndarray) that's friendly to the model, then make batch predictions\n",
    "4. Output the batch predictions back to an image shape, write using rasterio to a GTiff at the specified location.\n",
    "\n",
    "\n",
    "#### Things to know\n",
    "\n",
    "1. Before running this make sure you make a directory 'saved_models' inside the 'models' directory\n",
    "2. The models saved during training will overwrite themselves if they are trainied on the same nth band and starting index\n",
    "3.  The rasters written at the end will overwrite themselves if the output path isn't changed, or the tifs aren't changed.\n",
    "4.  If you want to keep every run's output rasters, do one of the above methods."
   ]
  },
  {
   "cell_type": "code",
   "execution_count": 1,
   "metadata": {},
   "outputs": [],
   "source": [
    "import os\n",
    "import time\n",
    "from pprint import pprint\n",
    "\n",
    "import numpy as np\n",
    "\n",
    "from models.custom_RF import cuRF # GPU/RAPIDS custom Random Forest objects\n",
    "from load_dataset.aviris_dataset import Aviris # Aviris is now a dataset object\n",
    "from src.k_fold_train import k_fold_train # Facilitates training using sklearn's kfold\n",
    "from src import apply_model_to_raster as amr # Handles all raster application, io, etc."
   ]
  },
  {
   "cell_type": "markdown",
   "metadata": {},
   "source": [
    "## Control Panel\n",
    "\n",
    "This is where we can set what we need to set.\n",
    "\n",
    "Ideally we'll only need to change stuff in this cell and just run the others without changing them.\n",
    "\n",
    "- Make sure we make the changes before the cell is run"
   ]
  },
  {
   "cell_type": "code",
   "execution_count": 2,
   "metadata": {},
   "outputs": [],
   "source": [
    "NTH_BAND = 10 # Sample every N-th band from dataset.\n",
    "\n",
    "START_INDEX = 0 # Index to start nth band sampling.\n",
    "\n",
    "DATA_SPLIT_RATIO = 0.10 # Controls how much data is reserved for testing. \n",
    "\n",
    "PATH = '/att/nobackup/maronne/AVIRIS_2020/stacks/' # Path to raster stacks to be predicted.\n",
    "\n",
    "K_FOLD_FOLDS = 5 # Controls the folds to use in k_fold cross validation training.\n",
    "\n",
    "OUTPUT_PATH = '/att/nobackup/cssprad1/test_predictions/' # Path for the prediction rasters"
   ]
  },
  {
   "cell_type": "markdown",
   "metadata": {},
   "source": [
    "## Data preprocessing\n",
    "\n",
    "We load the dataset object in, then sample every nth band using variables provided above.\n",
    "\n",
    "We then resplit the 'new' data."
   ]
  },
  {
   "cell_type": "code",
   "execution_count": 3,
   "metadata": {},
   "outputs": [
    {
     "name": "stdout",
     "output_type": "stream",
     "text": [
      " - from DATA: reading csv into GPU memory\n",
      " - from DATA: done reading csv into GPU memory\n",
      "Index(['b36_ang201', 'b46_ang201', 'b56_ang201', 'b66_ang201', 'b76_ang201',\n",
      "       'b86_ang201', 'b96_ang201', 'b106_ang20', 'b116_ang20', 'b126_ang20',\n",
      "       'b136_ang20', 'b146_ang20', 'b156_ang20', 'b166_ang20', 'b176_ang20',\n",
      "       'b186_ang20', 'b196_ang20', 'b206_ang20', 'b216_ang20', 'b226_ang20',\n",
      "       'b236_ang20', 'b246_ang20', 'b256_ang20', 'b266_ang20', 'b276_ang20',\n",
      "       'b286_ang20', 'b296_ang20', 'b306_ang20', 'b316_ang20', 'b326_ang20',\n",
      "       'b336_ang20', 'b346_ang20', 'b356_ang20', 'b366_ang20', 'b376_ang20',\n",
      "       'b386_ang20', 'b396_ang20', 'b406_ang20', 'b416_ang20'],\n",
      "      dtype='object')\n"
     ]
    }
   ],
   "source": [
    "\n",
    "aviris_dataset = Aviris()\n",
    "aviris_dataset.nth_row_sampling(START_INDEX, NTH_BAND)\n",
    "print(aviris_dataset.covariates.columns)\n",
    "aviris_dataset.split(DATA_SPLIT_RATIO)\n",
    "\n",
    "# You can verify below that it samples the correct bands"
   ]
  },
  {
   "cell_type": "markdown",
   "metadata": {},
   "source": [
    "## Hyperparameters for the random forest model\n",
    "\n",
    "Change as you see fit"
   ]
  },
  {
   "cell_type": "code",
   "execution_count": 4,
   "metadata": {},
   "outputs": [],
   "source": [
    "hyperparameters = {'N_ESTIMATORS': 1052,\n",
    "                         'SPLIT_ALGO': 1,\n",
    "                         'SPLIT_CRITERION': 2,\n",
    "                         'BOOTSTRAP': True,\n",
    "                         'BOOTSTRAP_FEATURES': False,\n",
    "                         'ROWS_SAMPLE': 1.0,\n",
    "                         'MAX_DEPTH': 30,\n",
    "                         'MAX_LEAVES': -1,\n",
    "                         'MAX_FEATURES': 'auto',\n",
    "                         'N_BINS': 6,\n",
    "                         'MIN_ROWS_PER_NODE': 2,\n",
    "                         'MIN_IMPURITY_DECREASE': 0.0,\n",
    "                         'ACCURACY_METRIC': 'mean_ae',  # 'mse' #'r2' # 'median_aw' #\n",
    "                         'QUANTILEPT': False,\n",
    "                         'SEED':  42,\n",
    "                         'VERBOSE': False\n",
    "                         }"
   ]
  },
  {
   "cell_type": "markdown",
   "metadata": {},
   "source": [
    "## Random forest model\n",
    "- Initialization\n",
    "- Training\n",
    "- Metrics gathering"
   ]
  },
  {
   "cell_type": "code",
   "execution_count": 5,
   "metadata": {},
   "outputs": [
    {
     "name": "stderr",
     "output_type": "stream",
     "text": [
      "/att/gpfsfs/briskfs01/ppl/cssprad1/projects/aviris/rapids_rf_lake_depth/models/custom_RF.py:154: UserWarning: For reproducible results in Random Forest Classifier or for almost reproducible results in Random Forest Regressor, n_streams==1 is recommended. If n_streams is > 1, results may vary due to stream/thread timing differences, even when random_state is set\n",
      "  verbose=param['VERBOSE'])\n"
     ]
    }
   ],
   "source": [
    "rf_0 = cuRF(hyperparameters)"
   ]
  },
  {
   "cell_type": "markdown",
   "metadata": {},
   "source": [
    "### We're going to use k_fold validation training to ensure some sort of protection against overfitting"
   ]
  },
  {
   "cell_type": "code",
   "execution_count": 6,
   "metadata": {},
   "outputs": [
    {
     "name": "stdout",
     "output_type": "stream",
     "text": [
      "   - from RS_CV: Fold #: 0\n",
      "   - from RS_CV: time to train (sec): 5.28483772277832\n",
      "   - from RS_CV: Score: 1.5161496703022797\n",
      "   - from RS_CV: Fold #: 1\n",
      "   - from RS_CV: time to train (sec): 5.416398763656616\n",
      "   - from RS_CV: Score: 1.5048319437590085\n",
      "   - from RS_CV: Fold #: 2\n",
      "   - from RS_CV: time to train (sec): 4.62768030166626\n",
      "   - from RS_CV: Score: 1.3884193759150956\n",
      "   - from RS_CV: Fold #: 3\n",
      "   - from RS_CV: time to train (sec): 4.5554680824279785\n",
      "   - from RS_CV: Score: 1.4712467736177484\n",
      "   - from RS_CV: Fold #: 4\n",
      "   - from RS_CV: time to train (sec): 4.30668568611145\n",
      "   - from RS_CV: Score: 1.3849432031558866\n",
      " - from k_fold: time to train and eval: 47.02072191238403\n"
     ]
    }
   ],
   "source": [
    "rf_0 = k_fold_train(K_FOLD_FOLDS, \n",
    "                    rf_0,\n",
    "                    NTH_BAND,\n",
    "                    START_INDEX,\n",
    "                    aviris_dataset.covariates_train, \n",
    "                    aviris_dataset.labels_train)"
   ]
  },
  {
   "cell_type": "markdown",
   "metadata": {},
   "source": [
    "### Metrics\n",
    "\n",
    "MAE: mean absolute error\n",
    "r2: r^2 score\n",
    "MSE: mean square error"
   ]
  },
  {
   "cell_type": "code",
   "execution_count": 7,
   "metadata": {},
   "outputs": [
    {
     "name": "stdout",
     "output_type": "stream",
     "text": [
      "Scores ------\n",
      " MAE:  0.22711863\n",
      "  r2:  0.8142140561285998\n",
      " MSE:  0.4505345\n"
     ]
    },
    {
     "data": {
      "text/plain": [
       "(0      0.995870\n",
       " 1      0.639901\n",
       " 2      1.740952\n",
       " 3      0.652489\n",
       " 4      0.830740\n",
       "          ...   \n",
       " 670    1.222998\n",
       " 671    1.440601\n",
       " 672    1.619946\n",
       " 673    1.329381\n",
       " 674    1.741213\n",
       " Length: 675, dtype: float32,\n",
       " 0.22711863,\n",
       " 0.8142140561285998,\n",
       " 0.4505345)"
      ]
     },
     "execution_count": 7,
     "metadata": {},
     "output_type": "execute_result"
    }
   ],
   "source": [
    "rf_0.get_metrics(aviris_dataset.covariates_test, \n",
    "                 aviris_dataset.labels_test)"
   ]
  },
  {
   "cell_type": "markdown",
   "metadata": {},
   "source": [
    "# Raster processing\n",
    "- Raster loading\n",
    "- Reshaping to model-friendly format\n",
    "- Batch prediction\n",
    "- Writing predictions out as tif"
   ]
  },
  {
   "cell_type": "code",
   "execution_count": 8,
   "metadata": {},
   "outputs": [
    {
     "name": "stdout",
     "output_type": "stream",
     "text": [
      "['ang20170714t213741_corr_v2p9.tif',\n",
      " 'ang20170709t230326_corr_v2p9.tif',\n",
      " 'ang20170714t234307_corr_v2p9.tif',\n",
      " 'ang20170709t224222_corr_v2p9.tif',\n",
      " 'ang20170714t212855_corr_v2p9.tif',\n",
      " 'ang20170715t005002_corr_v2p9.tif']\n"
     ]
    }
   ],
   "source": [
    "TIF_FILES = list(amr.list_files(PATH, 'tif'))\n",
    "pprint(TIF_FILES)\n",
    "# Make sure below that these are the tifs you want to apply the model to.\n",
    "# If not, check your 'OUTPUT_PATH'."
   ]
  },
  {
   "cell_type": "code",
   "execution_count": null,
   "metadata": {},
   "outputs": [
    {
     "name": "stdout",
     "output_type": "stream",
     "text": [
      "TIF prediction:  1 / 6\n",
      "/att/nobackup/maronne/AVIRIS_2020/stacks/ang20170714t213741_corr_v2p9.tif\n",
      "ang20170714t213741_corr_v2p9_predicted.tif\n",
      "/att/nobackup/cssprad1/test_predictions/ang20170714t213741_corr_v2p9_predicted.tif\n",
      "TIF prediction:  2 / 6\n",
      "/att/nobackup/maronne/AVIRIS_2020/stacks/ang20170709t230326_corr_v2p9.tif\n",
      "ang20170709t230326_corr_v2p9_predicted.tif\n",
      "/att/nobackup/cssprad1/test_predictions/ang20170709t230326_corr_v2p9_predicted.tif\n",
      "TIF prediction:  3 / 6\n",
      "/att/nobackup/maronne/AVIRIS_2020/stacks/ang20170714t234307_corr_v2p9.tif\n",
      "ang20170714t234307_corr_v2p9_predicted.tif\n",
      "/att/nobackup/cssprad1/test_predictions/ang20170714t234307_corr_v2p9_predicted.tif\n",
      "TIF prediction:  4 / 6\n",
      "/att/nobackup/maronne/AVIRIS_2020/stacks/ang20170709t224222_corr_v2p9.tif\n",
      "ang20170709t224222_corr_v2p9_predicted.tif\n",
      "/att/nobackup/cssprad1/test_predictions/ang20170709t224222_corr_v2p9_predicted.tif\n",
      "TIF prediction:  5 / 6\n",
      "/att/nobackup/maronne/AVIRIS_2020/stacks/ang20170714t212855_corr_v2p9.tif\n"
     ]
    }
   ],
   "source": [
    "for index, TIF_FILE in enumerate(TIF_FILES):\n",
    "    \n",
    "    print(\"TIF prediction: \", index+1, \"/\", len(TIF_FILES))\n",
    "    \n",
    "    img_nd_array, img_nd_array_properties = amr.get_array_from_raster(PATH, \n",
    "                                                                      TIF_FILE)\n",
    "    \n",
    "    img_nd_array_reshape = amr.change_img_shape(img_nd_array)\n",
    "    img_nd_array_resample = img_nd_array_reshape[:, 36+START_INDEX::NTH_BAND]\n",
    "    prediction_raster = amr.map_apply_reduce_pandas(img_nd_array_resample, \n",
    "                                                    rf_0, \n",
    "                                                    img_nd_array[:, :, 0].shape)\n",
    "    \n",
    "    amr.output_gtiff(prediction_raster, \n",
    "                     img_nd_array_properties, \n",
    "                     img_nd_array, \n",
    "                     TIF_FILE, \n",
    "                     OUTPUT_PATH)\n",
    "    \n",
    "    del img_nd_array, img_nd_array_reshape, img_nd_array_resample, prediction_raster\n",
    "    "
   ]
  },
  {
   "cell_type": "code",
   "execution_count": null,
   "metadata": {},
   "outputs": [],
   "source": []
  }
 ],
 "metadata": {
  "kernelspec": {
   "display_name": "Python [conda env:.conda-rapids-0.16]",
   "language": "python",
   "name": "conda-env-.conda-rapids-0.16-py"
  },
  "language_info": {
   "codemirror_mode": {
    "name": "ipython",
    "version": 3
   },
   "file_extension": ".py",
   "mimetype": "text/x-python",
   "name": "python",
   "nbconvert_exporter": "python",
   "pygments_lexer": "ipython3",
   "version": "3.7.8"
  }
 },
 "nbformat": 4,
 "nbformat_minor": 4
}
