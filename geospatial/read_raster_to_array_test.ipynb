{
 "cells": [
  {
   "cell_type": "markdown",
   "metadata": {},
   "source": [
    "# Lake Depth RF to Raster Data"
   ]
  },
  {
   "cell_type": "code",
   "execution_count": 1,
   "metadata": {},
   "outputs": [],
   "source": [
    "# System modules\n",
    "import os\n",
    "import time\n",
    "from pprint import pprint\n",
    "\n",
    "# Anything numeric related\n",
    "import numpy as np\n",
    "import matplotlib.pyplot as plt\n",
    "\n",
    "# Anything geospatial related\n",
    "import rasterio as rio\n",
    "\n",
    "# Anything GPU/ML related\n",
    "import cupy as cp\n",
    "import cuml\n",
    "import cudf\n",
    "from models import custom_RF as crf"
   ]
  },
  {
   "cell_type": "markdown",
   "metadata": {},
   "source": [
    "### Helper functions"
   ]
  },
  {
   "cell_type": "code",
   "execution_count": 2,
   "metadata": {},
   "outputs": [],
   "source": [
    "def list_files(directory, extension):\n",
    "    \"\"\" Helper function to read in files to list\"\"\"\n",
    "    return list((f for f in os.listdir(directory) if f.endswith('.' + extension)))"
   ]
  },
  {
   "cell_type": "code",
   "execution_count": 3,
   "metadata": {},
   "outputs": [],
   "source": [
    "def timer(start, end):\n",
    "    \"\"\" Helper function for timing things \"\"\"\n",
    "    print (end - start)\n",
    "    return (end - start)"
   ]
  },
  {
   "cell_type": "markdown",
   "metadata": {},
   "source": [
    "### Useful file paths"
   ]
  },
  {
   "cell_type": "code",
   "execution_count": 4,
   "metadata": {},
   "outputs": [
    {
     "name": "stdout",
     "output_type": "stream",
     "text": [
      "['LC8_075011_20160706_stack_clip.tif',\n",
      " 'LC8_075011_20170810_stack_clip.tif',\n",
      " 'LC8_078011_20160711_stack_clip.tif',\n",
      " 'LC8_077010_20180710_stack_clip.tif',\n",
      " 'LC8_080010_20170712_stack_clip.tif',\n",
      " 'LC8_075011_20170709_stack_clip.tif',\n",
      " 'LC8_078011_20180701_stack_clip.tif',\n",
      " 'LC8_080010_20170728_stack_clip.tif',\n",
      " 'LC8_075011_20160807_stack_clip.tif',\n",
      " 'LC8_077011_20160720_stack_clip.tif',\n",
      " 'LC8_075011_20160722_stack_clip.tif',\n",
      " 'LC8_079011_20180724_stack_clip.tif',\n",
      " 'LC8_079010_20180724_stack_clip.tif',\n",
      " 'LC8_077010_20160720_stack_clip.tif',\n",
      " 'LC8_080010_20160709_stack_clip.tif',\n",
      " 'LC8_076011_20160830_stack_clip.tif',\n",
      " 'LC8_080011_20160725_stack_clip.tif',\n",
      " 'LC8_077011_20160704_stack_clip.tif',\n",
      " 'LC8_078011_20160812_stack_clip.tif']\n"
     ]
    }
   ],
   "source": [
    "TIF_PATH = '/att/nobackup/maronne/lake/forCaleb/'\n",
    "TIF_FILES = list(list_files(TIF_PATH, 'tif'))\n",
    "CURRENT_TIF = TIF_FILES[7]\n",
    "pprint(TIF_FILES)"
   ]
  },
  {
   "cell_type": "markdown",
   "metadata": {},
   "source": [
    "## Using rasterio for all raster-related things\n",
    "\n",
    "The with statement is nice because it automatically closes the file after getting the necessary data"
   ]
  },
  {
   "cell_type": "code",
   "execution_count": 5,
   "metadata": {},
   "outputs": [
    {
     "name": "stdout",
     "output_type": "stream",
     "text": [
      " - reading in band # 0\n",
      "9.142392635345459\n",
      " - reading in band # 1\n",
      "0.35376477241516113\n",
      " - reading in band # 2\n",
      "0.3525512218475342\n",
      " - reading in band # 3\n",
      "0.35111212730407715\n",
      " - reading in band # 4\n",
      "0.35419392585754395\n",
      " - reading in band # 5\n",
      "0.3577840328216553\n",
      " - reading in band # 6\n",
      "0.35756444931030273\n",
      " - reading in band # 7\n",
      "0.3577606678009033\n",
      " - reading in band # 8\n",
      "0.3587477207183838\n",
      " - reading in band # 9\n",
      "0.35716700553894043\n",
      " - reading in band # 10\n",
      "0.35738062858581543\n",
      " - reading in band # 11\n",
      "0.35813117027282715\n",
      " - reading in band # 12\n",
      "0.3584327697753906\n",
      " - reading in band # 13\n",
      "0.3571295738220215\n",
      " - reading in band # 14\n",
      "0.35422492027282715\n",
      " - reading in band # 15\n",
      "0.35535383224487305\n",
      " - reading in band # 16\n",
      "0.3992147445678711\n",
      " - reading in band # 17\n",
      "0.3936634063720703\n",
      " - reading in band # 18\n",
      "0.4149761199951172\n",
      " - reading in band # 19\n",
      "0.41744208335876465\n",
      " - reading in band # 20\n",
      "0.41695213317871094\n",
      " - reading in band # 21\n",
      "0.3583974838256836\n",
      " - reading in band # 22\n",
      "0.3574349880218506\n",
      " - reading in band # 23\n",
      "0.3592996597290039\n",
      " - reading in band # 24\n",
      "0.3587522506713867\n",
      " - reading in band # 25\n",
      "0.3596630096435547\n",
      " - reading in band # 26\n",
      "0.3739626407623291\n",
      " - reading in band # 27\n",
      "0.3811147212982178\n",
      " - reading in band # 28\n",
      "0.37180352210998535\n",
      " - reading in band # 29\n",
      "0.35759401321411133\n",
      " - reading in band # 30\n",
      "0.36115264892578125\n",
      " - reading in band # 31\n",
      "0.3622128963470459\n",
      " - reading in band # 32\n",
      "0.3597595691680908\n",
      " - reading in band # 33\n",
      "0.35891151428222656\n",
      " - reading in band # 34\n",
      "0.35910654067993164\n",
      "21.609474182128906\n"
     ]
    }
   ],
   "source": [
    "with rio.open(TIF_PATH+CURRENT_TIF) as raster_img:\n",
    "    \"\"\" \n",
    "        The with statement is nice becuase it auto\n",
    "        closes all rasterio tifs opened once below\n",
    "        code is executed\n",
    "    \"\"\"\n",
    "    n_cols = raster_img.width\n",
    "    n_rows = raster_img.height\n",
    "    n_bands = raster_img.count\n",
    "    gt = raster_img.transform\n",
    "    crs = raster_img.crs\n",
    "    ndval = raster_img.nodata\n",
    "    img_properties = (n_cols, n_rows, n_bands, gt, crs)\n",
    "    \n",
    "    st_0 = time.time()\n",
    "    # Create numpy array to mimic tif\n",
    "    img_nd = np.zeros((n_rows, n_cols, n_bands), np.float32) \n",
    "    for b in range(n_bands):\n",
    "        print(\" - reading in band #\", b)\n",
    "        st_1 = time.time()\n",
    "        img_nd[:, :, b] = raster_img.read(b+1) # Populate it with band pixel vals\n",
    "        et_1 = time.time()\n",
    "        timer(st_1, et_1)\n",
    "    et_0 = time.time()\n",
    "    timer(st_0, et_0)"
   ]
  },
  {
   "cell_type": "code",
   "execution_count": 6,
   "metadata": {},
   "outputs": [
    {
     "name": "stdout",
     "output_type": "stream",
     "text": [
      "\n",
      " Image properties \n",
      "\n",
      "(5881,\n",
      " 5351,\n",
      " 35,\n",
      " Affine(30.008648019487495, 0.0, 340610.828997643,\n",
      "       0.0, -30.0040523395777, 7915630.04458002),\n",
      " CRS.from_epsg(32605))\n",
      "\n",
      " Image as ndarray \n",
      "\n",
      "array([[[ 2.3300e+02,  1.7400e+02,  3.9000e+01, ...,  2.6000e+01,\n",
      "          5.0000e+02,  2.5000e+02],\n",
      "        [ 2.3500e+02,  1.6900e+02,  4.5000e+01, ...,  1.1100e+02,\n",
      "          5.0000e+03,  1.6670e+03],\n",
      "        [ 2.3400e+02,  1.7100e+02,  4.5000e+01, ...,  1.3300e+02,\n",
      "          3.2767e+04,  2.0000e+03],\n",
      "        ...,\n",
      "        [-9.9990e+03, -9.9990e+03, -9.9990e+03, ..., -9.9990e+03,\n",
      "         -9.9990e+03, -9.9990e+03],\n",
      "        [-9.9990e+03, -9.9990e+03, -9.9990e+03, ..., -9.9990e+03,\n",
      "         -9.9990e+03, -9.9990e+03],\n",
      "        [-9.9990e+03, -9.9990e+03, -9.9990e+03, ..., -9.9990e+03,\n",
      "         -9.9990e+03, -9.9990e+03]],\n",
      "\n",
      "       [[ 2.2800e+02,  1.7300e+02,  4.0000e+01, ...,  1.2500e+02,\n",
      "          1.0000e+03,  1.6670e+03],\n",
      "        [ 2.3100e+02,  1.6600e+02,  4.5000e+01, ...,  1.1100e+02,\n",
      "          5.0000e+03,  5.0000e+03],\n",
      "        [ 2.3400e+02,  1.6800e+02,  4.6000e+01, ...,  1.3000e+02,\n",
      "          3.2767e+04, -3.0000e+03],\n",
      "        ...,\n",
      "        [-9.9990e+03, -9.9990e+03, -9.9990e+03, ..., -9.9990e+03,\n",
      "         -9.9990e+03, -9.9990e+03],\n",
      "        [-9.9990e+03, -9.9990e+03, -9.9990e+03, ..., -9.9990e+03,\n",
      "         -9.9990e+03, -9.9990e+03],\n",
      "        [-9.9990e+03, -9.9990e+03, -9.9990e+03, ..., -9.9990e+03,\n",
      "         -9.9990e+03, -9.9990e+03]],\n",
      "\n",
      "       [[ 2.2900e+02,  1.7300e+02,  4.3000e+01, ...,  4.7000e+01,\n",
      "         -4.0000e+02,  2.0000e+03],\n",
      "        [ 2.2800e+02,  1.7400e+02,  4.6000e+01, ...,  4.3000e+01,\n",
      "         -1.0000e+03,  2.0000e+03],\n",
      "        [ 2.3300e+02,  1.7500e+02,  4.6000e+01, ...,  2.2000e+01,\n",
      "          2.5000e+02,  5.0000e+02],\n",
      "        ...,\n",
      "        [-9.9990e+03, -9.9990e+03, -9.9990e+03, ..., -9.9990e+03,\n",
      "         -9.9990e+03, -9.9990e+03],\n",
      "        [-9.9990e+03, -9.9990e+03, -9.9990e+03, ..., -9.9990e+03,\n",
      "         -9.9990e+03, -9.9990e+03],\n",
      "        [-9.9990e+03, -9.9990e+03, -9.9990e+03, ..., -9.9990e+03,\n",
      "         -9.9990e+03, -9.9990e+03]],\n",
      "\n",
      "       ...,\n",
      "\n",
      "       [[-9.9990e+03, -9.9990e+03, -9.9990e+03, ..., -9.9990e+03,\n",
      "         -9.9990e+03, -9.9990e+03],\n",
      "        [-9.9990e+03, -9.9990e+03, -9.9990e+03, ..., -9.9990e+03,\n",
      "         -9.9990e+03, -9.9990e+03],\n",
      "        [-9.9990e+03, -9.9990e+03, -9.9990e+03, ..., -9.9990e+03,\n",
      "         -9.9990e+03, -9.9990e+03],\n",
      "        ...,\n",
      "        [-9.9990e+03, -9.9990e+03, -9.9990e+03, ..., -9.9990e+03,\n",
      "         -9.9990e+03, -9.9990e+03],\n",
      "        [-9.9990e+03, -9.9990e+03, -9.9990e+03, ..., -9.9990e+03,\n",
      "         -9.9990e+03, -9.9990e+03],\n",
      "        [-9.9990e+03, -9.9990e+03, -9.9990e+03, ..., -9.9990e+03,\n",
      "         -9.9990e+03, -9.9990e+03]],\n",
      "\n",
      "       [[-9.9990e+03, -9.9990e+03, -9.9990e+03, ..., -9.9990e+03,\n",
      "         -9.9990e+03, -9.9990e+03],\n",
      "        [-9.9990e+03, -9.9990e+03, -9.9990e+03, ..., -9.9990e+03,\n",
      "         -9.9990e+03, -9.9990e+03],\n",
      "        [-9.9990e+03, -9.9990e+03, -9.9990e+03, ..., -9.9990e+03,\n",
      "         -9.9990e+03, -9.9990e+03],\n",
      "        ...,\n",
      "        [-9.9990e+03, -9.9990e+03, -9.9990e+03, ..., -9.9990e+03,\n",
      "         -9.9990e+03, -9.9990e+03],\n",
      "        [-9.9990e+03, -9.9990e+03, -9.9990e+03, ..., -9.9990e+03,\n",
      "         -9.9990e+03, -9.9990e+03],\n",
      "        [-9.9990e+03, -9.9990e+03, -9.9990e+03, ..., -9.9990e+03,\n",
      "         -9.9990e+03, -9.9990e+03]],\n",
      "\n",
      "       [[-9.9990e+03, -9.9990e+03, -9.9990e+03, ..., -9.9990e+03,\n",
      "         -9.9990e+03, -9.9990e+03],\n",
      "        [-9.9990e+03, -9.9990e+03, -9.9990e+03, ..., -9.9990e+03,\n",
      "         -9.9990e+03, -9.9990e+03],\n",
      "        [-9.9990e+03, -9.9990e+03, -9.9990e+03, ..., -9.9990e+03,\n",
      "         -9.9990e+03, -9.9990e+03],\n",
      "        ...,\n",
      "        [-9.9990e+03, -9.9990e+03, -9.9990e+03, ..., -9.9990e+03,\n",
      "         -9.9990e+03, -9.9990e+03],\n",
      "        [-9.9990e+03, -9.9990e+03, -9.9990e+03, ..., -9.9990e+03,\n",
      "         -9.9990e+03, -9.9990e+03],\n",
      "        [-9.9990e+03, -9.9990e+03, -9.9990e+03, ..., -9.9990e+03,\n",
      "         -9.9990e+03, -9.9990e+03]]], dtype=float32)\n",
      "\n",
      " Sample of bands, one row \n",
      "\n",
      "array([-9999., -9999., -9999., -9999., -9999., -9999., -9999., -9999.,\n",
      "       -9999., -9999., -9999., -9999., -9999., -9999., -9999., -9999.,\n",
      "       -9999., -9999., -9999., -9999., -9999., -9999., -9999., -9999.,\n",
      "       -9999., -9999., -9999., -9999., -9999., -9999., -9999., -9999.,\n",
      "       -9999., -9999., -9999.], dtype=float32)\n",
      "(5351, 5881, 35)\n",
      "[-32768. -32765. -32763. ...  32762.  32765.  32767.]\n"
     ]
    }
   ],
   "source": [
    "from pprint import pprint\n",
    "print('\\n Image properties \\n')\n",
    "pprint(img_properties)\n",
    "print(\"\\n Image as ndarray \\n\")\n",
    "pprint(img_nd)\n",
    "print('\\n Sample of bands, one row \\n')\n",
    "pprint(img_nd[5350, 5880, ])\n",
    "# What one 'row' of bands look like\n",
    "print(img_nd.shape)\n",
    "print(np.unique(img_nd))"
   ]
  },
  {
   "cell_type": "code",
   "execution_count": 7,
   "metadata": {},
   "outputs": [],
   "source": [
    "new_shape = (img_nd.shape[0] * img_nd.shape[1], img_nd.shape[2])\n",
    "img_nd_array = img_nd[:, :, :img_nd.shape[2]].reshape(new_shape)"
   ]
  },
  {
   "cell_type": "code",
   "execution_count": 8,
   "metadata": {},
   "outputs": [
    {
     "name": "stdout",
     "output_type": "stream",
     "text": [
      "(31469231, 35)\n",
      "-9999.0\n",
      "95.0\n"
     ]
    }
   ],
   "source": [
    "print(img_nd_array.shape)\n",
    "pprint(img_nd[5350, 5880, 0])\n",
    "pprint(img_nd_array[(5350*5880), 0])"
   ]
  },
  {
   "cell_type": "markdown",
   "metadata": {},
   "source": [
    "### Convert our data to GPU-accelerated data\n",
    "np array -> cupy array -> cudf Dataframe"
   ]
  },
  {
   "cell_type": "code",
   "execution_count": 9,
   "metadata": {},
   "outputs": [],
   "source": [
    "gpu_img = cp.asarray(img_nd_array)"
   ]
  },
  {
   "cell_type": "code",
   "execution_count": 10,
   "metadata": {},
   "outputs": [],
   "source": [
    "cdf_raster = cudf.DataFrame(gpu_img)"
   ]
  },
  {
   "cell_type": "code",
   "execution_count": 11,
   "metadata": {},
   "outputs": [
    {
     "name": "stdout",
     "output_type": "stream",
     "text": [
      "              0       1       2       3       4       5       6       7   \\\n",
      "0          233.0   174.0    39.0     2.0     4.0     1.0  1339.0  5974.0   \n",
      "1          235.0   169.0    45.0     1.0     3.0     5.0  1391.0  5222.0   \n",
      "2          234.0   171.0    45.0     0.0     3.0     6.0  1368.0  5200.0   \n",
      "3          231.0   169.0    47.0     0.0     4.0     3.0  1367.0  4915.0   \n",
      "4          231.0   170.0    45.0     1.0     2.0     2.0  1359.0  5133.0   \n",
      "...          ...     ...     ...     ...     ...     ...     ...     ...   \n",
      "31469226 -9999.0 -9999.0 -9999.0 -9999.0 -9999.0 -9999.0 -9999.0 -9999.0   \n",
      "31469227 -9999.0 -9999.0 -9999.0 -9999.0 -9999.0 -9999.0 -9999.0 -9999.0   \n",
      "31469228 -9999.0 -9999.0 -9999.0 -9999.0 -9999.0 -9999.0 -9999.0 -9999.0   \n",
      "31469229 -9999.0 -9999.0 -9999.0 -9999.0 -9999.0 -9999.0 -9999.0 -9999.0   \n",
      "31469230 -9999.0 -9999.0 -9999.0 -9999.0 -9999.0 -9999.0 -9999.0 -9999.0   \n",
      "\n",
      "               8        9   ...      25      26      27      28       29  \\\n",
      "0         32767.0  32767.0  ...  2000.0    17.0    23.0   103.0   2000.0   \n",
      "1         32767.0  32767.0  ...   200.0    13.0    18.0    67.0   3000.0   \n",
      "2         32767.0  32767.0  ...     0.0    13.0    18.0    67.0  32767.0   \n",
      "3         32767.0  32767.0  ...     0.0    17.0    24.0    85.0  32767.0   \n",
      "4         32767.0  32767.0  ...   500.0     9.0    12.0    44.0   2000.0   \n",
      "...           ...      ...  ...     ...     ...     ...     ...      ...   \n",
      "31469226  -9999.0  -9999.0  ... -9999.0 -9999.0 -9999.0 -9999.0  -9999.0   \n",
      "31469227  -9999.0  -9999.0  ... -9999.0 -9999.0 -9999.0 -9999.0  -9999.0   \n",
      "31469228  -9999.0  -9999.0  ... -9999.0 -9999.0 -9999.0 -9999.0  -9999.0   \n",
      "31469229  -9999.0  -9999.0  ... -9999.0 -9999.0 -9999.0 -9999.0  -9999.0   \n",
      "31469230  -9999.0  -9999.0  ... -9999.0 -9999.0 -9999.0 -9999.0  -9999.0   \n",
      "\n",
      "              30      31      32       33      34  \n",
      "0            4.0     6.0    26.0    500.0   250.0  \n",
      "1           21.0    30.0   111.0   5000.0  1667.0  \n",
      "2           26.0    35.0   133.0  32767.0  2000.0  \n",
      "3           13.0    18.0    64.0  32767.0   750.0  \n",
      "4            9.0    12.0    44.0   2000.0  1000.0  \n",
      "...          ...     ...     ...      ...     ...  \n",
      "31469226 -9999.0 -9999.0 -9999.0  -9999.0 -9999.0  \n",
      "31469227 -9999.0 -9999.0 -9999.0  -9999.0 -9999.0  \n",
      "31469228 -9999.0 -9999.0 -9999.0  -9999.0 -9999.0  \n",
      "31469229 -9999.0 -9999.0 -9999.0  -9999.0 -9999.0  \n",
      "31469230 -9999.0 -9999.0 -9999.0  -9999.0 -9999.0  \n",
      "\n",
      "[31469231 rows x 35 columns]\n",
      "31469231\n",
      "35\n"
     ]
    }
   ],
   "source": [
    "n_rows_raster, n_cols_raster = cdf_raster.shape\n",
    "pprint(cdf_raster)\n",
    "print(n_rows_raster)\n",
    "print(n_cols_raster)"
   ]
  },
  {
   "cell_type": "markdown",
   "metadata": {},
   "source": [
    "#### Load up our perviously trained random forest model"
   ]
  },
  {
   "cell_type": "code",
   "execution_count": 12,
   "metadata": {},
   "outputs": [],
   "source": [
    "model_load = crf.load_model('best_test_03.sav')"
   ]
  },
  {
   "cell_type": "markdown",
   "metadata": {},
   "source": [
    "## Predictions from raster data\n",
    "- We need to split it up due to GPU memory limitations"
   ]
  },
  {
   "cell_type": "code",
   "execution_count": 23,
   "metadata": {},
   "outputs": [
    {
     "name": "stdout",
     "output_type": "stream",
     "text": [
      "15734615\n",
      "31469230\n"
     ]
    }
   ],
   "source": [
    "index_0 = n_rows_raster//2\n",
    "index_1 = index_0 * 2 \n",
    "index_3 = n_rows_raster % 2 # Any indeces left out?\n",
    "print(index_0)\n",
    "print(index_1)"
   ]
  },
  {
   "cell_type": "markdown",
   "metadata": {},
   "source": [
    "Predict first half then second half, no need for any third prediction since total is even"
   ]
  },
  {
   "cell_type": "code",
   "execution_count": 24,
   "metadata": {},
   "outputs": [],
   "source": [
    "predictions_1 = model_load.model.predict(cdf_raster[:index_0]) # Predict first half\n",
    "predictions_2 = model_load.model.predict(cdf_raster[index_0:]) # Predict other hals\n",
    "# No indeces left out so no need for any more predictions"
   ]
  },
  {
   "cell_type": "code",
   "execution_count": 25,
   "metadata": {},
   "outputs": [
    {
     "data": {
      "text/plain": [
       "array([ 0.36128747,  0.37853485,  0.38806912, ..., 12.548393  ,\n",
       "       13.236887  , 13.264563  ], dtype=float32)"
      ]
     },
     "execution_count": 25,
     "metadata": {},
     "output_type": "execute_result"
    }
   ],
   "source": [
    "cp.unique(predictions_1) # Looks like this is ndvals"
   ]
  },
  {
   "cell_type": "code",
   "execution_count": 26,
   "metadata": {},
   "outputs": [
    {
     "data": {
      "text/plain": [
       "array([ 0.2872215,  0.2952346,  0.3019142, ..., 16.339315 , 16.651136 ,\n",
       "       17.037361 ], dtype=float32)"
      ]
     },
     "execution_count": 26,
     "metadata": {},
     "output_type": "execute_result"
    }
   ],
   "source": [
    "cp.unique(predictions_2)"
   ]
  },
  {
   "cell_type": "markdown",
   "metadata": {},
   "source": [
    "Put our predictions back by together by rows"
   ]
  },
  {
   "cell_type": "code",
   "execution_count": 27,
   "metadata": {},
   "outputs": [
    {
     "name": "stdout",
     "output_type": "stream",
     "text": [
      "(31469231,)\n"
     ]
    }
   ],
   "source": [
    "concat_predictions = cudf.concat([predictions_1, predictions_2], axis=0)\n",
    "print(concat_predictions.shape)"
   ]
  },
  {
   "cell_type": "code",
   "execution_count": 28,
   "metadata": {},
   "outputs": [],
   "source": [
    "array_predictions = concat_predictions.to_array()"
   ]
  },
  {
   "cell_type": "code",
   "execution_count": 29,
   "metadata": {},
   "outputs": [],
   "source": [
    "array_predictions = array_predictions.reshape(img_nd[:, :, 0].shape).astype(np.float32)"
   ]
  },
  {
   "cell_type": "code",
   "execution_count": null,
   "metadata": {},
   "outputs": [],
   "source": [
    "pprint(array_predictions)"
   ]
  },
  {
   "cell_type": "code",
   "execution_count": null,
   "metadata": {},
   "outputs": [],
   "source": [
    "print(array_predictions.shape)"
   ]
  },
  {
   "cell_type": "markdown",
   "metadata": {},
   "source": [
    "Make sure we put our ndvals back"
   ]
  },
  {
   "cell_type": "code",
   "execution_count": null,
   "metadata": {},
   "outputs": [],
   "source": [
    "array_predictions[img_nd[:, :, 0] == -9999.0] = ndval"
   ]
  },
  {
   "cell_type": "code",
   "execution_count": null,
   "metadata": {},
   "outputs": [],
   "source": [
    "pprint(array_predictions)"
   ]
  },
  {
   "cell_type": "code",
   "execution_count": null,
   "metadata": {},
   "outputs": [],
   "source": [
    "file_name_no_extension = CURRENT_TIF.split('.', 1)[0]\n",
    "print(file_name_no_extension)\n",
    "file_name_predicted = file_name_no_extension + '_predicted_0.tif'\n",
    "print(file_name_predicted)"
   ]
  },
  {
   "cell_type": "code",
   "execution_count": null,
   "metadata": {},
   "outputs": [],
   "source": [
    "with rio.open(file_name_predicted, \n",
    "                   'w', \n",
    "                   driver='GTiff', \n",
    "                   height = array_predictions.shape[0],\n",
    "                   width = array_predictions.shape[1],\n",
    "                   count = 1,\n",
    "                   dtype = array_predictions.dtype,\n",
    "                   crs = crs,\n",
    "                   transform = gt) as prediction_raster:\n",
    "    prediction_raster.write(array_predictions, 1)"
   ]
  },
  {
   "cell_type": "code",
   "execution_count": null,
   "metadata": {},
   "outputs": [],
   "source": [
    "with rio.open(file_name_predicted) as raster_img_predicted:\n",
    "    \"\"\" \n",
    "        The with statement is nice becuase it auto\n",
    "        closes all rasterio tifs opened once below\n",
    "        code is executed\n",
    "    \"\"\"\n",
    "    band1 = raster_img_predicted.read(1)"
   ]
  },
  {
   "cell_type": "code",
   "execution_count": null,
   "metadata": {},
   "outputs": [],
   "source": [
    "import matplotlib.pyplot as plt\n",
    "plt.figure(figsize=(12, 12))\n",
    "plt.imshow(band1)"
   ]
  },
  {
   "cell_type": "code",
   "execution_count": null,
   "metadata": {},
   "outputs": [],
   "source": [
    "with rio.open(TIF_PATH + CURRENT_TIF) as raster_img_original:\n",
    "    \"\"\" \n",
    "        The with statement is nice becuase it auto\n",
    "        closes all rasterio tifs opened once below\n",
    "        code is executed\n",
    "    \"\"\"\n",
    "    band1 = raster_img_original.read(1)\n",
    "    band2 = raster_img_original.read(2)\n",
    "    band3 = raster_img_original.read(3)"
   ]
  },
  {
   "cell_type": "code",
   "execution_count": null,
   "metadata": {},
   "outputs": [],
   "source": [
    "rgb_original_tif = np.dstack((band1, band2, band3))\n",
    "plt.figure(figsize=(12, 12))\n",
    "plt.imshow(rgb_original_tif)"
   ]
  },
  {
   "cell_type": "code",
   "execution_count": null,
   "metadata": {},
   "outputs": [],
   "source": []
  }
 ],
 "metadata": {
  "kernelspec": {
   "display_name": "Python [conda env:.conda-rapids-0.16]",
   "language": "python",
   "name": "conda-env-.conda-rapids-0.16-py"
  },
  "language_info": {
   "codemirror_mode": {
    "name": "ipython",
    "version": 3
   },
   "file_extension": ".py",
   "mimetype": "text/x-python",
   "name": "python",
   "nbconvert_exporter": "python",
   "pygments_lexer": "ipython3",
   "version": "3.7.8"
  }
 },
 "nbformat": 4,
 "nbformat_minor": 4
}
