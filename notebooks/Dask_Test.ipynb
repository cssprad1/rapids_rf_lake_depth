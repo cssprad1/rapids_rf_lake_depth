{
 "cells": [
  {
   "cell_type": "code",
   "execution_count": 1,
   "metadata": {},
   "outputs": [],
   "source": [
    "from cuml.dask.ensemble import RandomForestRegressor as cuRF\n",
    "from cuml.dask.common import to_dask_df\n",
    "from cuml.metrics import r2_score\n",
    "from dask.distributed import Client, wait\n",
    "from dask_cuda import LocalCUDACluster"
   ]
  },
  {
   "cell_type": "code",
   "execution_count": 2,
   "metadata": {},
   "outputs": [],
   "source": [
    "cluster = LocalCUDACluster(threads_per_worker=1)\n",
    "client = Client(cluster)"
   ]
  },
  {
   "cell_type": "code",
   "execution_count": 3,
   "metadata": {},
   "outputs": [],
   "source": [
    "n_total_partitions = len(list(client.has_what().keys()))"
   ]
  },
  {
   "cell_type": "code",
   "execution_count": 4,
   "metadata": {},
   "outputs": [
    {
     "name": "stdout",
     "output_type": "stream",
     "text": [
      "/att/gpfsfs/briskfs01/ppl/cssprad1/projects/rapids_rf_lake_depth\n",
      " - from DATA: dropped column: FID\n",
      " - from DATA: dropped column: Date\n"
     ]
    }
   ],
   "source": [
    "import os\n",
    "import cudf\n",
    "import numpy as np\n",
    "print(os.getcwd())\n",
    "data = cudf.read_csv('load_dataset/LakeDepth/pts_merged_final.csv')\n",
    "predictor = 'Depth_m'\n",
    "cols_to_drop = ['FID', 'Date']\n",
    "for col_to_drop in cols_to_drop:\n",
    "\tdata = data.drop([col_to_drop], axis = 1)\n",
    "\tprint(\" - from DATA: dropped column:\", col_to_drop)\n",
    "    \n",
    "y = data[predictor]\n",
    "X = data.drop([predictor], axis = 1)\n",
    "\n",
    "X = X.astype(np.float32)\n",
    "y = y.astype(np.float32)"
   ]
  },
  {
   "cell_type": "code",
   "execution_count": 5,
   "metadata": {},
   "outputs": [
    {
     "data": {
      "text/plain": [
       "DoneAndNotDoneFutures(done=set(), not_done=set())"
      ]
     },
     "execution_count": 5,
     "metadata": {},
     "output_type": "execute_result"
    }
   ],
   "source": [
    "import dask_cudf\n",
    "X_cudf = dask_cudf.from_cudf(X, npartitions=n_total_partitions)\n",
    "wait(X_cudf)\n",
    "y_cudf = dask_cudf.from_cudf(y, npartitions=n_total_partitions)\n",
    "wait(y_cudf)"
   ]
  },
  {
   "cell_type": "code",
   "execution_count": 6,
   "metadata": {},
   "outputs": [],
   "source": [
    "x_df = to_dask_df(X_cudf)"
   ]
  },
  {
   "cell_type": "code",
   "execution_count": 7,
   "metadata": {},
   "outputs": [],
   "source": [
    "y_df = to_dask_df(y_cudf)"
   ]
  },
  {
   "cell_type": "code",
   "execution_count": 8,
   "metadata": {},
   "outputs": [
    {
     "name": "stdout",
     "output_type": "stream",
     "text": [
      "CPU times: user 71.9 ms, sys: 10.7 ms, total: 82.6 ms\n",
      "Wall time: 1.32 s\n"
     ]
    }
   ],
   "source": [
    "%%time\n",
    "\n",
    "cuml_model = cuRF(n_estimators = 500)"
   ]
  },
  {
   "cell_type": "code",
   "execution_count": 9,
   "metadata": {},
   "outputs": [
    {
     "name": "stdout",
     "output_type": "stream",
     "text": [
      "CPU times: user 211 ms, sys: 42.3 ms, total: 253 ms\n",
      "Wall time: 4.17 s\n"
     ]
    },
    {
     "data": {
      "text/plain": [
       "<cuml.dask.ensemble.randomforestregressor.RandomForestRegressor at 0x7f9c9fc3eed0>"
      ]
     },
     "execution_count": 9,
     "metadata": {},
     "output_type": "execute_result"
    }
   ],
   "source": [
    "%%time\n",
    "cuml_model.fit(X_cudf, y_cudf)"
   ]
  },
  {
   "cell_type": "code",
   "execution_count": 10,
   "metadata": {},
   "outputs": [],
   "source": [
    "labels_cuml = cuml_model.predict(X_cudf).compute()"
   ]
  },
  {
   "cell_type": "code",
   "execution_count": 14,
   "metadata": {},
   "outputs": [
    {
     "name": "stdout",
     "output_type": "stream",
     "text": [
      "Scores --\n",
      "MAE:  0.6949109\n",
      "r2:  0.5861952469666736\n"
     ]
    }
   ],
   "source": [
    "from sklearn.metrics import mean_absolute_error as m_a_e, r2_score as r2d2\n",
    "\n",
    "mae_score = m_a_e(y.to_pandas(), labels_cuml.to_pandas())\n",
    "r2_score = r2d2(y.to_pandas(), labels_cuml.to_pandas())\n",
    "print(\"Scores --\")\n",
    "print(\"MAE: \", mae_score)\n",
    "print(\"r2: \", r2_score)"
   ]
  },
  {
   "cell_type": "code",
   "execution_count": null,
   "metadata": {},
   "outputs": [],
   "source": []
  }
 ],
 "metadata": {
  "kernelspec": {
   "display_name": "Python [conda env:.conda-rapids-0.16]",
   "language": "python",
   "name": "conda-env-.conda-rapids-0.16-py"
  },
  "language_info": {
   "codemirror_mode": {
    "name": "ipython",
    "version": 3
   },
   "file_extension": ".py",
   "mimetype": "text/x-python",
   "name": "python",
   "nbconvert_exporter": "python",
   "pygments_lexer": "ipython3",
   "version": "3.7.8"
  }
 },
 "nbformat": 4,
 "nbformat_minor": 4
}
