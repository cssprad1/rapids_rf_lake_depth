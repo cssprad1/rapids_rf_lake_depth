{
 "cells": [
  {
   "cell_type": "markdown",
   "metadata": {},
   "source": [
    "# Lake Depth Random Forest model\n",
    "\n",
    "#### Using:\n",
    "1. cuDf for data pre-processing\n",
    "2. cuML for machine learning algorithm implementations\n",
    "3. Dask for rapids parallelization of GPU code\n",
    "4. sklearn for metrics\n",
    "\n",
    "#### Import our model object\n",
    "Best model is saved"
   ]
  },
  {
   "cell_type": "code",
   "execution_count": 1,
   "metadata": {},
   "outputs": [],
   "source": [
    "from load_dataset import custom_lakedepth\n",
    "from models import custom_RF as crf\n",
    "import matplotlib.pyplot as plt\n",
    "plt.rcParams['figure.figsize'] = [10, 7]\n",
    "from pprint import pprint"
   ]
  },
  {
   "cell_type": "markdown",
   "metadata": {},
   "source": [
    "#### Import LakeDepth dataset object\n",
    "##### Split into training and testing"
   ]
  },
  {
   "cell_type": "code",
   "execution_count": 2,
   "metadata": {},
   "outputs": [
    {
     "name": "stdout",
     "output_type": "stream",
     "text": [
      " - from DATA: reading csv into GPU memory\n",
      " - from DATA: done reading csv into GPU memory\n",
      " - from DATA: dropped column: FID\n",
      " - from DATA: dropped column: Date\n"
     ]
    }
   ],
   "source": [
    "primary_dataset = custom_lakedepth.LakeDepth(random_state = 42)\n",
    "covariates_train, covariates_test, labels_train, labels_test = primary_dataset.split(0.20)"
   ]
  },
  {
   "cell_type": "markdown",
   "metadata": {},
   "source": [
    "### Random Forest (best model so far) parameters"
   ]
  },
  {
   "cell_type": "code",
   "execution_count": 3,
   "metadata": {},
   "outputs": [
    {
     "name": "stdout",
     "output_type": "stream",
     "text": [
      "{'accuracy_metric': 'mean_ae',\n",
      " 'bootstrap': True,\n",
      " 'bootstrap_features': False,\n",
      " 'handle': <cuml.raft.common.handle.Handle object at 0x7fbd0c28a930>,\n",
      " 'max_batch_size': 128,\n",
      " 'max_depth': 60,\n",
      " 'max_features': 'sqrt',\n",
      " 'max_leaves': -1,\n",
      " 'min_impurity_decrease': 0.0,\n",
      " 'min_rows_per_node': 2,\n",
      " 'n_bins': 18,\n",
      " 'n_estimators': 484,\n",
      " 'output_type': 'cudf',\n",
      " 'quantile_per_tree': False,\n",
      " 'rows_sample': 1.0,\n",
      " 'split_algo': 1,\n",
      " 'split_criterion': 2,\n",
      " 'use_experimental_backend': False,\n",
      " 'verbose': 4}\n"
     ]
    }
   ],
   "source": [
    "best_rf_model = crf.load_model('best_test_01.sav')\n",
    "pprint(best_rf_model.model.get_params())"
   ]
  },
  {
   "cell_type": "markdown",
   "metadata": {},
   "source": [
    "### Training times (w/ Dask Implementation):\n",
    "#### with max-depth at sub-80\n",
    "1.        trees < 500  : 01-02 sec training time\n",
    "2. 500  < trees < 1000 : 03-04 sec training time\n",
    "3. 100  < trees < 1500 : 04-05 sec training time\n",
    "5. 1500 < trees < 2000 : 05-12 sec training time\n",
    "\n",
    "#### with max-depth at 80+\n",
    "1.        trees < 500  : 03-04 sec training time\n",
    "2. 500  < trees < 1000 : 04-09 sec training time\n",
    "3. 100  < trees < 1500 : 09-15 sec training time\n",
    "5. 1500 < trees < 2000 : 15-25 sec training time"
   ]
  },
  {
   "cell_type": "markdown",
   "metadata": {},
   "source": [
    "## Metrics\n",
    "#### measure the models abilities through\n",
    "1. Mean Absolute Error\n",
    "2. r2_score\n",
    "3. Mean Square Error"
   ]
  },
  {
   "cell_type": "code",
   "execution_count": 4,
   "metadata": {},
   "outputs": [
    {
     "name": "stdout",
     "output_type": "stream",
     "text": [
      "Scores ------\n",
      " MAE:  0.3410129\n",
      "  r2:  0.8941115067598612\n",
      " MSE:  0.3922593\n"
     ]
    }
   ],
   "source": [
    "predictions, mae, r2, mse = best_rf_model.get_metrics(covariates_test, labels_test)"
   ]
  },
  {
   "cell_type": "markdown",
   "metadata": {},
   "source": [
    "-- Still not great on MAE considering the limited range of depths we're working for"
   ]
  },
  {
   "cell_type": "markdown",
   "metadata": {},
   "source": [
    "## Results Visualization"
   ]
  },
  {
   "cell_type": "code",
   "execution_count": 5,
   "metadata": {},
   "outputs": [
    {
     "data": {
      "image/png": "[encoded data removed]",
      "text/plain": [
       "<Figure size 720x504 with 1 Axes>"
      ]
     },
     "metadata": {
      "needs_background": "light"
     },
     "output_type": "display_data"
    }
   ],
   "source": [
    "plt.scatter(labels_test.to_array(), predictions.to_array())\n",
    "plt.xlabel(\"Actual Depth: $Y_i$\")\n",
    "plt.ylabel(\"Predicted Depth: $\\hat{Y}_i$\")\n",
    "plt.title(\"Actual lake depth vs. Predicted Depth: $Y_i$ vs $\\hat{Y}_i$\")\n",
    "plt.show()"
   ]
  },
  {
   "cell_type": "markdown",
   "metadata": {},
   "source": [
    "### Random sampling of actual vs predicted data"
   ]
  },
  {
   "cell_type": "code",
   "execution_count": 6,
   "metadata": {},
   "outputs": [
    {
     "name": "stdout",
     "output_type": "stream",
     "text": [
      "Data-point:  1766 Actual:   1.4459199905395508 Predicted:    1.522056221961975\n",
      "Data-point:  2921 Actual:   1.9478000402450562 Predicted:   1.9157911539077759\n",
      "Data-point:  3945 Actual:    1.812000036239624 Predicted:   1.7558488845825195\n",
      "Data-point:   248 Actual:    0.375234991312027 Predicted:   0.6749032735824585\n",
      "Data-point:   807 Actual:   2.5411601066589355 Predicted:   2.5940794944763184\n",
      "Data-point:  1654 Actual:   1.8838399648666382 Predicted:    1.812453269958496\n",
      "Data-point:  3160 Actual:    5.020830154418945 Predicted:    4.247395992279053\n",
      "Data-point:   960 Actual:   2.3375399112701416 Predicted:   2.6588261127471924\n",
      "Data-point:  2572 Actual:    4.454110145568848 Predicted:   3.1644999980926514\n",
      "Data-point:  2825 Actual:    1.657770037651062 Predicted:    1.749803900718689\n",
      "Data-point:  2831 Actual:   1.5921499729156494 Predicted:    1.576387882232666\n",
      "Data-point:  1521 Actual:       3.007080078125 Predicted:   2.5970444679260254\n",
      "Data-point:  2087 Actual:   1.5236300230026245 Predicted:    2.241823673248291\n",
      "Data-point:  3562 Actual:   1.2374999523162842 Predicted:   1.2905771732330322\n",
      "Data-point:  1095 Actual:    1.967419981956482 Predicted:   1.8655853271484375\n",
      "Data-point:   329 Actual:   1.0822700262069702 Predicted:   1.3520667552947998\n",
      "Data-point:  1801 Actual:    9.922220230102539 Predicted:    8.966286659240723\n",
      "Data-point:  3994 Actual:     6.40254020690918 Predicted:    4.411318778991699\n",
      "Data-point:  3681 Actual:    1.318179965019226 Predicted:   1.6570733785629272\n",
      "Data-point:  1164 Actual:    2.002500057220459 Predicted:   1.7695719003677368\n"
     ]
    }
   ],
   "source": [
    "# Lets look at a random sample of datapoints to see the actual vs predicted depths\n",
    "import random\n",
    "for i in range(20):\n",
    "    random_data_point = random.randint(0, 4635)\n",
    "    print('Data-point: {:5} Actual: {:20} Predicted: {:20}'.format(random_data_point, labels_test.to_array()[random_data_point],\n",
    "                                               predictions.to_array()[random_data_point]))"
   ]
  },
  {
   "cell_type": "markdown",
   "metadata": {},
   "source": [
    "## Feature Importance\n",
    "\n",
    "Using sklearn's permutation importance\n"
   ]
  },
  {
   "cell_type": "code",
   "execution_count": 7,
   "metadata": {},
   "outputs": [
    {
     "name": "stdout",
     "output_type": "stream",
     "text": [
      "Variables: b35_LC8_07           Importance: -0.04202\n",
      "Variables: b27_LC8_07           Importance: -0.04872\n",
      "Variables: b32_LC8_07           Importance: -0.05115\n",
      "Variables: b16_LC8_07           Importance: -0.05195\n",
      "Variables: b15_LC8_07           Importance: -0.05198\n",
      "Variables: b31_LC8_07           Importance: -0.05259\n",
      "Variables: b6_LC8_075           Importance: -0.0527\n",
      "Variables: b4_LC8_075           Importance: -0.0575\n",
      "Variables: b28_LC8_07           Importance: -0.06011\n",
      "Variables: b22_LC8_07           Importance: -0.06069\n",
      "Variables: b5_LC8_075           Importance: -0.06349\n",
      "Variables: b9_LC8_075           Importance: -0.06713\n",
      "Variables: b11_LC8_07           Importance: -0.06753\n",
      "Variables: b33_LC8_07           Importance: -0.06938\n",
      "Variables: b10_LC8_07           Importance: -0.0706\n",
      "Variables: b14_LC8_07           Importance: -0.07062\n",
      "Variables: b34_LC8_07           Importance: -0.07547\n",
      "Variables: b21_LC8_07           Importance: -0.07918\n",
      "Variables: b30_LC8_07           Importance: -0.08099\n",
      "Variables: b2_LC8_075           Importance: -0.08563\n",
      "Variables: b26_LC8_07           Importance: -0.08909\n",
      "Variables: b1_LC8_075           Importance: -0.09185\n",
      "Variables: b25_LC8_07           Importance: -0.09326\n",
      "Variables: b29_LC8_07           Importance: -0.10582\n",
      "Variables: b23_LC8_07           Importance: -0.10643\n",
      "Variables: b3_LC8_075           Importance: -0.10994\n",
      "Variables: b19_LC8_07           Importance: -0.12194\n",
      "Variables: b13_LC8_07           Importance: -0.12201\n",
      "Variables: b20_LC8_07           Importance: -0.13051\n",
      "Variables: b7_LC8_075           Importance: -0.13623\n",
      "Variables: b12_LC8_07           Importance: -0.14601\n",
      "Variables: b18_LC8_07           Importance: -0.15248\n",
      "Variables: b24_LC8_07           Importance: -0.19385\n",
      "Variables: b8_LC8_075           Importance: -0.20023\n",
      "Variables: b17_LC8_07           Importance: -0.20496\n"
     ]
    },
    {
     "data": {
      "image/png": "[encoded data removed]",
      "text/plain": [
       "<Figure size 1440x576 with 1 Axes>"
      ]
     },
     "metadata": {
      "needs_background": "light"
     },
     "output_type": "display_data"
    }
   ],
   "source": [
    "best_rf_model.feature_importances(covariates_train, labels_train, show = True)"
   ]
  },
  {
   "cell_type": "markdown",
   "metadata": {},
   "source": [
    "## Final Points\n",
    "\n",
    "* Dask combined with cuDF/cuML is still experimental\n",
    "* We see significant speedups during training time"
   ]
  },
  {
   "cell_type": "code",
   "execution_count": null,
   "metadata": {},
   "outputs": [],
   "source": []
  }
 ],
 "metadata": {
  "kernelspec": {
   "display_name": "Python [conda env:.conda-rapids-0.16]",
   "language": "python",
   "name": "conda-env-.conda-rapids-0.16-py"
  },
  "language_info": {
   "codemirror_mode": {
    "name": "ipython",
    "version": 3
   },
   "file_extension": ".py",
   "mimetype": "text/x-python",
   "name": "python",
   "nbconvert_exporter": "python",
   "pygments_lexer": "ipython3",
   "version": "3.7.8"
  }
 },
 "nbformat": 4,
 "nbformat_minor": 4
}
