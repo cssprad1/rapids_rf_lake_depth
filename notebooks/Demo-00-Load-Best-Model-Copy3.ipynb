{
 "cells": [
  {
   "cell_type": "markdown",
   "metadata": {},
   "source": [
    "# Lake Depth Random Forest model\n",
    "\n",
    "#### Using:\n",
    "1. cuDf for data pre-processing\n",
    "2. cuML for machine learning algorithm implementations\n",
    "3. Dask for rapids parallelization of GPU code\n",
    "4. sklearn for metrics\n",
    "\n",
    "#### Import our model object\n",
    "Best model is saved"
   ]
  },
  {
   "cell_type": "code",
   "execution_count": 1,
   "metadata": {},
   "outputs": [],
   "source": [
    "from load_dataset import custom_lakedepth\n",
    "from models import custom_RF as crf\n",
    "import matplotlib.pyplot as plt\n",
    "plt.rcParams['figure.figsize'] = [10, 7]\n",
    "from pprint import pprint"
   ]
  },
  {
   "cell_type": "markdown",
   "metadata": {},
   "source": [
    "#### Import LakeDepth dataset object\n",
    "##### Split into training and testing"
   ]
  },
  {
   "cell_type": "code",
   "execution_count": 2,
   "metadata": {},
   "outputs": [
    {
     "name": "stdout",
     "output_type": "stream",
     "text": [
      " - from DATA: reading csv into GPU memory\n",
      " - from DATA: done reading csv into GPU memory\n",
      " - from DATA: dropped column: FID\n",
      " - from DATA: dropped column: Date\n"
     ]
    }
   ],
   "source": [
    "primary_dataset = custom_lakedepth.LakeDepth(random_state = 42)\n",
    "covariates_train, covariates_test, labels_train, labels_test = primary_dataset.split(0.20)"
   ]
  },
  {
   "cell_type": "markdown",
   "metadata": {},
   "source": [
    "### Random Forest (best model so far) parameters"
   ]
  },
  {
   "cell_type": "code",
   "execution_count": 3,
   "metadata": {},
   "outputs": [
    {
     "name": "stdout",
     "output_type": "stream",
     "text": [
      "{'accuracy_metric': 'mean_ae',\n",
      " 'bootstrap': True,\n",
      " 'bootstrap_features': False,\n",
      " 'handle': <cuml.raft.common.handle.Handle object at 0x7f93f3219b90>,\n",
      " 'max_batch_size': 128,\n",
      " 'max_depth': 100,\n",
      " 'max_features': 'sqrt',\n",
      " 'max_leaves': -1,\n",
      " 'min_impurity_decrease': 0.0,\n",
      " 'min_rows_per_node': 2,\n",
      " 'n_bins': 16,\n",
      " 'n_estimators': 1621,\n",
      " 'output_type': 'cudf',\n",
      " 'quantile_per_tree': False,\n",
      " 'rows_sample': 1.0,\n",
      " 'split_algo': 1,\n",
      " 'split_criterion': 2,\n",
      " 'use_experimental_backend': False,\n",
      " 'verbose': 4}\n"
     ]
    }
   ],
   "source": [
    "best_rf_model = crf.load_model('best_test_04.sav')\n",
    "pprint(best_rf_model.model.get_params())"
   ]
  },
  {
   "cell_type": "markdown",
   "metadata": {},
   "source": [
    "### Training times (w/ Dask Implementation):\n",
    "#### with max-depth at sub-80\n",
    "1.        trees < 500  : 01-02 sec training time\n",
    "2. 500  < trees < 1000 : 03-04 sec training time\n",
    "3. 100  < trees < 1500 : 04-05 sec training time\n",
    "5. 1500 < trees < 2000 : 05-12 sec training time\n",
    "\n",
    "#### with max-depth at 80+\n",
    "1.        trees < 500  : 03-04 sec training time\n",
    "2. 500  < trees < 1000 : 04-09 sec training time\n",
    "3. 100  < trees < 1500 : 09-15 sec training time\n",
    "5. 1500 < trees < 2000 : 15-25 sec training time"
   ]
  },
  {
   "cell_type": "markdown",
   "metadata": {},
   "source": [
    "## Metrics\n",
    "#### measure the models abilities through\n",
    "1. Mean Absolute Error\n",
    "2. r2_score\n",
    "3. Mean Square Error"
   ]
  },
  {
   "cell_type": "code",
   "execution_count": 4,
   "metadata": {},
   "outputs": [
    {
     "name": "stdout",
     "output_type": "stream",
     "text": [
      "Scores ------\n",
      " MAE:  0.3535175\n",
      "  r2:  0.8700720756140472\n",
      " MSE:  0.4495084\n"
     ]
    }
   ],
   "source": [
    "predictions, mae, r2, mse = best_rf_model.get_metrics(covariates_test, labels_test)"
   ]
  },
  {
   "cell_type": "markdown",
   "metadata": {},
   "source": [
    "-- Still not great on MAE considering the limited range of depths we're working for"
   ]
  },
  {
   "cell_type": "markdown",
   "metadata": {},
   "source": [
    "## Results Visualization"
   ]
  },
  {
   "cell_type": "code",
   "execution_count": 5,
   "metadata": {},
   "outputs": [
    {
     "data": {
      "image/png": "[encoded data removed]",
      "text/plain": [
       "<Figure size 720x504 with 1 Axes>"
      ]
     },
     "metadata": {
      "needs_background": "light"
     },
     "output_type": "display_data"
    }
   ],
   "source": [
    "plt.scatter(labels_test.to_array(), predictions.to_array())\n",
    "plt.xlabel(\"Actual Depth: $Y_i$\")\n",
    "plt.ylabel(\"Predicted Depth: $\\hat{Y}_i$\")\n",
    "plt.title(\"Actual lake depth vs. Predicted Depth: $Y_i$ vs $\\hat{Y}_i$\")\n",
    "plt.show()"
   ]
  },
  {
   "cell_type": "markdown",
   "metadata": {},
   "source": [
    "### Random sampling of actual vs predicted data"
   ]
  },
  {
   "cell_type": "code",
   "execution_count": 6,
   "metadata": {},
   "outputs": [
    {
     "name": "stdout",
     "output_type": "stream",
     "text": [
      "Data-point:  3580 Actual:   2.0474600791931152 Predicted:   2.1441352367401123\n",
      "Data-point:  3480 Actual:    1.730430006980896 Predicted:   1.9948105812072754\n",
      "Data-point:   321 Actual:   2.8420000076293945 Predicted:    2.784285068511963\n",
      "Data-point:  4538 Actual:   2.9714300632476807 Predicted:    3.420234203338623\n",
      "Data-point:   353 Actual:   0.5536670088768005 Predicted:   1.0335729122161865\n",
      "Data-point:  1705 Actual:   2.0088601112365723 Predicted:   2.5883190631866455\n",
      "Data-point:  1452 Actual:    4.023079872131348 Predicted:   3.1575756072998047\n",
      "Data-point:  1145 Actual:    2.127500057220459 Predicted:   2.0353527069091797\n",
      "Data-point:  1590 Actual:    0.746999979019165 Predicted:   1.2259587049484253\n",
      "Data-point:   902 Actual:   1.7975000143051147 Predicted:   1.7657151222229004\n",
      "Data-point:  1417 Actual:   1.7356499433517456 Predicted:   1.7288182973861694\n",
      "Data-point:  3624 Actual:   3.7795000076293945 Predicted:   3.3195478916168213\n",
      "Data-point:   555 Actual:   0.6639999747276306 Predicted:   1.0224803686141968\n",
      "Data-point:   211 Actual:  0.30000001192092896 Predicted:   1.4190067052841187\n",
      "Data-point:  1561 Actual:    4.760000228881836 Predicted:   3.1777520179748535\n",
      "Data-point:  3788 Actual:    4.230500221252441 Predicted:    2.754922389984131\n",
      "Data-point:  3855 Actual:    2.314539909362793 Predicted:   2.4509096145629883\n",
      "Data-point:  3050 Actual:   0.5912309885025024 Predicted:   0.8288584351539612\n",
      "Data-point:  4211 Actual:   0.9506109952926636 Predicted:   1.2182608842849731\n",
      "Data-point:  2082 Actual:   0.3652940094470978 Predicted:    1.098615050315857\n"
     ]
    }
   ],
   "source": [
    "# Lets look at a random sample of datapoints to see the actual vs predicted depths\n",
    "import random\n",
    "for i in range(20):\n",
    "    random_data_point = random.randint(0, 4635)\n",
    "    print('Data-point: {:5} Actual: {:20} Predicted: {:20}'.format(random_data_point, labels_test.to_array()[random_data_point],\n",
    "                                               predictions.to_array()[random_data_point]))"
   ]
  },
  {
   "cell_type": "markdown",
   "metadata": {},
   "source": [
    "## Feature Importance\n",
    "\n",
    "Using sklearn's permutation importance\n"
   ]
  },
  {
   "cell_type": "code",
   "execution_count": null,
   "metadata": {},
   "outputs": [],
   "source": [
    "best_rf_model.feature_importances(covariates_train, labels_train, show = True)"
   ]
  },
  {
   "cell_type": "markdown",
   "metadata": {},
   "source": [
    "## Final Points\n",
    "\n",
    "* Dask combined with cuDF/cuML is still experimental\n",
    "* We see significant speedups during training time"
   ]
  },
  {
   "cell_type": "code",
   "execution_count": null,
   "metadata": {},
   "outputs": [],
   "source": []
  }
 ],
 "metadata": {
  "kernelspec": {
   "display_name": "Python [conda env:.conda-rapids-0.16]",
   "language": "python",
   "name": "conda-env-.conda-rapids-0.16-py"
  },
  "language_info": {
   "codemirror_mode": {
    "name": "ipython",
    "version": 3
   },
   "file_extension": ".py",
   "mimetype": "text/x-python",
   "name": "python",
   "nbconvert_exporter": "python",
   "pygments_lexer": "ipython3",
   "version": "3.7.8"
  }
 },
 "nbformat": 4,
 "nbformat_minor": 4
}
