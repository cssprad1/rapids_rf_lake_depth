{
 "cells": [
  {
   "cell_type": "markdown",
   "metadata": {},
   "source": [
    "# Lake Depth Random Forest model\n",
    "\n",
    "#### Using:\n",
    "1. cuDf for data pre-processing\n",
    "2. cuML for machine learning algorithm implementations\n",
    "3. Dask for rapids parallelization of GPU code\n",
    "4. sklearn for metrics\n",
    "\n",
    "#### Import our model object\n",
    "Best model is saved"
   ]
  },
  {
   "cell_type": "code",
   "execution_count": 2,
   "metadata": {},
   "outputs": [],
   "source": [
    "from load_dataset import custom_lakedepth\n",
    "from models import custom_RF as crf\n",
    "import matplotlib.pyplot as plt\n",
    "plt.rcParams['figure.figsize'] = [10, 7]\n",
    "from pprint import pprint"
   ]
  },
  {
   "cell_type": "markdown",
   "metadata": {},
   "source": [
    "#### Import LakeDepth dataset object\n",
    "##### Split into training and testing"
   ]
  },
  {
   "cell_type": "code",
   "execution_count": 3,
   "metadata": {},
   "outputs": [
    {
     "name": "stdout",
     "output_type": "stream",
     "text": [
      " - from DATA: reading csv into GPU memory\n",
      " - from DATA: done reading csv into GPU memory\n",
      " - from DATA: dropped column: FID\n",
      " - from DATA: dropped column: Date\n"
     ]
    }
   ],
   "source": [
    "primary_dataset = custom_lakedepth.LakeDepth(random_state = 42)\n",
    "covariates_train, covariates_test, labels_train, labels_test = primary_dataset.split(0.20)"
   ]
  },
  {
   "cell_type": "markdown",
   "metadata": {},
   "source": [
    "### Random Forest (best model so far) parameters"
   ]
  },
  {
   "cell_type": "code",
   "execution_count": 4,
   "metadata": {},
   "outputs": [
    {
     "name": "stdout",
     "output_type": "stream",
     "text": [
      "{'accuracy_metric': 'mean_ae',\n",
      " 'bootstrap': False,\n",
      " 'bootstrap_features': False,\n",
      " 'handle': <cuml.raft.common.handle.Handle object at 0x7fa7257ad470>,\n",
      " 'max_batch_size': 128,\n",
      " 'max_depth': 90,\n",
      " 'max_features': 'sqrt',\n",
      " 'max_leaves': -1,\n",
      " 'min_impurity_decrease': 0.0,\n",
      " 'min_rows_per_node': 2,\n",
      " 'n_bins': 18,\n",
      " 'n_estimators': 1715,\n",
      " 'output_type': 'cudf',\n",
      " 'quantile_per_tree': False,\n",
      " 'rows_sample': 1.0,\n",
      " 'split_algo': 1,\n",
      " 'split_criterion': 2,\n",
      " 'use_experimental_backend': False,\n",
      " 'verbose': 4}\n"
     ]
    }
   ],
   "source": [
    "best_rf_model = crf.load_model('best_test_02.sav')\n",
    "pprint(best_rf_model.model.get_params())"
   ]
  },
  {
   "cell_type": "markdown",
   "metadata": {},
   "source": [
    "### Training times (w/ Dask Implementation):\n",
    "#### with max-depth at sub-80\n",
    "1.        trees < 500  : 01-02 sec training time\n",
    "2. 500  < trees < 1000 : 03-04 sec training time\n",
    "3. 100  < trees < 1500 : 04-05 sec training time\n",
    "5. 1500 < trees < 2000 : 05-12 sec training time\n",
    "\n",
    "#### with max-depth at 80+\n",
    "1.        trees < 500  : 03-04 sec training time\n",
    "2. 500  < trees < 1000 : 04-09 sec training time\n",
    "3. 100  < trees < 1500 : 09-15 sec training time\n",
    "5. 1500 < trees < 2000 : 15-25 sec training time"
   ]
  },
  {
   "cell_type": "markdown",
   "metadata": {},
   "source": [
    "## Metrics\n",
    "#### measure the models abilities through\n",
    "1. Mean Absolute Error\n",
    "2. r2_score\n",
    "3. Mean Square Error"
   ]
  },
  {
   "cell_type": "code",
   "execution_count": 5,
   "metadata": {},
   "outputs": [
    {
     "name": "stdout",
     "output_type": "stream",
     "text": [
      "Scores ------\n",
      " MAE:  0.17171578\n",
      "  r2:  0.9232614030700259\n",
      " MSE:  0.25320458\n"
     ]
    }
   ],
   "source": [
    "predictions, mae, r2, mse = best_rf_model.get_metrics(covariates_test, labels_test)"
   ]
  },
  {
   "cell_type": "markdown",
   "metadata": {},
   "source": [
    "-- Still not great on MAE considering the limited range of depths we're working for"
   ]
  },
  {
   "cell_type": "markdown",
   "metadata": {},
   "source": [
    "## Results Visualization"
   ]
  },
  {
   "cell_type": "code",
   "execution_count": 6,
   "metadata": {},
   "outputs": [
    {
     "data": {
      "image/png": "[encoded data removed]",
      "text/plain": [
       "<Figure size 720x504 with 1 Axes>"
      ]
     },
     "metadata": {
      "needs_background": "light"
     },
     "output_type": "display_data"
    }
   ],
   "source": [
    "plt.scatter(labels_test.to_array(), predictions.to_array())\n",
    "plt.xlabel(\"Actual Depth: $Y_i$\")\n",
    "plt.ylabel(\"Predicted Depth: $\\hat{Y}_i$\")\n",
    "plt.title(\"Actual lake depth vs. Predicted Depth: $Y_i$ vs $\\hat{Y}_i$\")\n",
    "plt.show()"
   ]
  },
  {
   "cell_type": "markdown",
   "metadata": {},
   "source": [
    "### Random sampling of actual vs predicted data"
   ]
  },
  {
   "cell_type": "code",
   "execution_count": 7,
   "metadata": {},
   "outputs": [
    {
     "name": "stdout",
     "output_type": "stream",
     "text": [
      "Data-point:  1533 Actual:   1.3824399709701538 Predicted:   1.9674100875854492\n",
      "Data-point:  2838 Actual:   1.3484300374984741 Predicted:    1.360365629196167\n",
      "Data-point:  3070 Actual:    5.712699890136719 Predicted:   5.6087799072265625\n",
      "Data-point:  3892 Actual:   1.8312699794769287 Predicted:   1.8072260618209839\n",
      "Data-point:  2911 Actual:   1.3176499605178833 Predicted:   1.3776131868362427\n",
      "Data-point:  3030 Actual:   1.8472000360488892 Predicted:   1.8346235752105713\n",
      "Data-point:  1824 Actual:    1.128999948501587 Predicted:   1.1646407842636108\n",
      "Data-point:  2604 Actual:   0.6299999952316284 Predicted:   0.7716125845909119\n",
      "Data-point:  1218 Actual:    2.695499897003174 Predicted:    2.730579137802124\n",
      "Data-point:   225 Actual:   2.1983299255371094 Predicted:   2.1990458965301514\n",
      "Data-point:  1897 Actual:  0.44999998807907104 Predicted:    0.450412780046463\n",
      "Data-point:  3706 Actual:   1.8705300092697144 Predicted:   1.8414651155471802\n",
      "Data-point:    21 Actual:   1.9743800163269043 Predicted:    2.199479341506958\n",
      "Data-point:  3389 Actual:    3.833329916000366 Predicted:    4.242923736572266\n",
      "Data-point:  2316 Actual:   2.1078600883483887 Predicted:    2.109375238418579\n",
      "Data-point:  4590 Actual:    2.160830020904541 Predicted:    2.159463405609131\n",
      "Data-point:   170 Actual:    2.299459934234619 Predicted:    2.297907590866089\n",
      "Data-point:  4112 Actual:     1.96343994140625 Predicted:   1.9652737379074097\n",
      "Data-point:  2082 Actual:    4.876190185546875 Predicted:     4.85870361328125\n",
      "Data-point:  3432 Actual:  0.47200000286102295 Predicted:    0.781203031539917\n"
     ]
    }
   ],
   "source": [
    "# Lets look at a random sample of datapoints to see the actual vs predicted depths\n",
    "import random\n",
    "for i in range(20):\n",
    "    random_data_point = random.randint(0, 4635)\n",
    "    print('Data-point: {:5} Actual: {:20} Predicted: {:20}'.format(random_data_point, labels_test.to_array()[random_data_point],\n",
    "                                               predictions.to_array()[random_data_point]))"
   ]
  },
  {
   "cell_type": "markdown",
   "metadata": {},
   "source": [
    "## Feature Importance\n",
    "\n",
    "Using sklearn's permutation importance\n"
   ]
  },
  {
   "cell_type": "code",
   "execution_count": 8,
   "metadata": {},
   "outputs": [
    {
     "name": "stdout",
     "output_type": "stream",
     "text": [
      "Variables: b35_LC8_07           Importance: -0.07565\n",
      "Variables: b27_LC8_07           Importance: -0.07609\n",
      "Variables: b15_LC8_07           Importance: -0.07717\n",
      "Variables: b28_LC8_07           Importance: -0.07832\n",
      "Variables: b31_LC8_07           Importance: -0.07849\n",
      "Variables: b16_LC8_07           Importance: -0.08179\n",
      "Variables: b32_LC8_07           Importance: -0.08718\n",
      "Variables: b9_LC8_075           Importance: -0.09359\n",
      "Variables: b22_LC8_07           Importance: -0.09563\n",
      "Variables: b14_LC8_07           Importance: -0.09585\n",
      "Variables: b33_LC8_07           Importance: -0.09611\n",
      "Variables: b6_LC8_075           Importance: -0.09988\n",
      "Variables: b4_LC8_075           Importance: -0.10109\n",
      "Variables: b10_LC8_07           Importance: -0.10326\n",
      "Variables: b11_LC8_07           Importance: -0.10628\n",
      "Variables: b5_LC8_075           Importance: -0.10841\n",
      "Variables: b34_LC8_07           Importance: -0.11652\n",
      "Variables: b30_LC8_07           Importance: -0.11926\n",
      "Variables: b21_LC8_07           Importance: -0.12418\n",
      "Variables: b26_LC8_07           Importance: -0.1363\n",
      "Variables: b25_LC8_07           Importance: -0.13889\n",
      "Variables: b23_LC8_07           Importance: -0.13949\n",
      "Variables: b2_LC8_075           Importance: -0.14432\n",
      "Variables: b1_LC8_075           Importance: -0.15172\n",
      "Variables: b3_LC8_075           Importance: -0.15538\n",
      "Variables: b29_LC8_07           Importance: -0.15821\n",
      "Variables: b19_LC8_07           Importance: -0.16837\n",
      "Variables: b20_LC8_07           Importance: -0.17083\n",
      "Variables: b13_LC8_07           Importance: -0.19307\n",
      "Variables: b12_LC8_07           Importance: -0.20733\n",
      "Variables: b7_LC8_075           Importance: -0.20817\n",
      "Variables: b18_LC8_07           Importance: -0.23044\n",
      "Variables: b24_LC8_07           Importance: -0.2568\n",
      "Variables: b8_LC8_075           Importance: -0.27514\n",
      "Variables: b17_LC8_07           Importance: -0.277\n"
     ]
    },
    {
     "data": {
      "image/png": "[encoded data removed]",
      "text/plain": [
       "<Figure size 1440x576 with 1 Axes>"
      ]
     },
     "metadata": {
      "needs_background": "light"
     },
     "output_type": "display_data"
    }
   ],
   "source": [
    "best_rf_model.feature_importances(covariates_train, labels_train, show = True)"
   ]
  },
  {
   "cell_type": "markdown",
   "metadata": {},
   "source": [
    "## Final Points\n",
    "\n",
    "* Dask combined with cuDF/cuML is still experimental\n",
    "* We see significant speedups during training time"
   ]
  },
  {
   "cell_type": "code",
   "execution_count": null,
   "metadata": {},
   "outputs": [],
   "source": []
  }
 ],
 "metadata": {
  "kernelspec": {
   "display_name": "Python [conda env:.conda-rapids-0.16]",
   "language": "python",
   "name": "conda-env-.conda-rapids-0.16-py"
  },
  "language_info": {
   "codemirror_mode": {
    "name": "ipython",
    "version": 3
   },
   "file_extension": ".py",
   "mimetype": "text/x-python",
   "name": "python",
   "nbconvert_exporter": "python",
   "pygments_lexer": "ipython3",
   "version": "3.7.8"
  }
 },
 "nbformat": 4,
 "nbformat_minor": 4
}
