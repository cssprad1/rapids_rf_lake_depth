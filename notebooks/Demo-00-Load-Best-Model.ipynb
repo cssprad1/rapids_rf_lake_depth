{
 "cells": [
  {
   "cell_type": "markdown",
   "metadata": {},
   "source": [
    "# Lake Depth Random Forest model\n",
    "\n",
    "#### Using:\n",
    "1. cuDf for data pre-processing\n",
    "2. cuML for machine learning algorithm implementations\n",
    "3. Dask for rapids parallelization of GPU code\n",
    "4. sklearn for metrics\n",
    "\n",
    "#### Import our model object\n",
    "Best model is saved"
   ]
  },
  {
   "cell_type": "code",
   "execution_count": 21,
   "metadata": {},
   "outputs": [],
   "source": [
    "from load_dataset import custom_lakedepth\n",
    "from models import custom_RF as crf\n",
    "import matplotlib.pyplot as plt\n",
    "plt.rcParams['figure.figsize'] = [10, 7]\n",
    "from pprint import pprint"
   ]
  },
  {
   "cell_type": "markdown",
   "metadata": {},
   "source": [
    "#### Import LakeDepth dataset object\n",
    "##### Split into training and testing"
   ]
  },
  {
   "cell_type": "code",
   "execution_count": 2,
   "metadata": {},
   "outputs": [
    {
     "name": "stdout",
     "output_type": "stream",
     "text": [
      " - from DATA: reading csv into GPU memory\n",
      " - from DATA: done reading csv into GPU memory\n",
      " - from DATA: dropped column: FID\n",
      " - from DATA: dropped column: Date\n"
     ]
    }
   ],
   "source": [
    "primary_dataset = custom_lakedepth.LakeDepth(random_state = 42)\n",
    "covariates_train, covariates_test, labels_train, labels_test = primary_dataset.split(0.20)"
   ]
  },
  {
   "cell_type": "markdown",
   "metadata": {},
   "source": [
    "### Random Forest (best model so far) parameters"
   ]
  },
  {
   "cell_type": "code",
   "execution_count": 25,
   "metadata": {},
   "outputs": [
    {
     "name": "stdout",
     "output_type": "stream",
     "text": [
      "{'accuracy_metric': 'mean_ae',\n",
      " 'bootstrap': True,\n",
      " 'bootstrap_features': False,\n",
      " 'handle': <cuml.raft.common.handle.Handle object at 0x7fc0ac2e7df0>,\n",
      " 'max_batch_size': 128,\n",
      " 'max_depth': 110,\n",
      " 'max_features': 'sqrt',\n",
      " 'max_leaves': -1,\n",
      " 'min_impurity_decrease': 0.0,\n",
      " 'min_rows_per_node': 2,\n",
      " 'n_bins': 6,\n",
      " 'n_estimators': 1150,\n",
      " 'output_type': 'cudf',\n",
      " 'quantile_per_tree': False,\n",
      " 'rows_sample': 1.0,\n",
      " 'split_algo': 1,\n",
      " 'split_criterion': 2,\n",
      " 'use_experimental_backend': False,\n",
      " 'verbose': 4}\n"
     ]
    }
   ],
   "source": [
    "best_rf_model = crf.load_model('raw_test_01.sav')\n",
    "pprint(best_rf_model.model.get_params())"
   ]
  },
  {
   "cell_type": "markdown",
   "metadata": {},
   "source": [
    "### Training times (w/ Dask Implementation):\n",
    "#### with max-depth at sub-80\n",
    "1.        trees < 500  : 01-02 sec training time\n",
    "2. 500  < trees < 1000 : 03-04 sec training time\n",
    "3. 100  < trees < 1500 : 04-05 sec training time\n",
    "5. 1500 < trees < 2000 : 05-12 sec training time\n",
    "\n",
    "#### with max-depth at 80+\n",
    "1.        trees < 500  : 03-04 sec training time\n",
    "2. 500  < trees < 1000 : 04-09 sec training time\n",
    "3. 100  < trees < 1500 : 09-15 sec training time\n",
    "5. 1500 < trees < 2000 : 15-25 sec training time"
   ]
  },
  {
   "cell_type": "markdown",
   "metadata": {},
   "source": [
    "## Metrics\n",
    "#### measure the models abilities through\n",
    "1. Mean Absolute Error\n",
    "2. r2_score\n",
    "3. Mean Square Error"
   ]
  },
  {
   "cell_type": "code",
   "execution_count": 9,
   "metadata": {},
   "outputs": [
    {
     "name": "stdout",
     "output_type": "stream",
     "text": [
      "Scores ------\n",
      " MAE:  0.39157444\n",
      "  r2:  0.840202601744723\n",
      " MSE:  0.5075837\n"
     ]
    }
   ],
   "source": [
    "predictions, mae, r2, mse = best_rf_model.get_metrics(covariates_test, labels_test)"
   ]
  },
  {
   "cell_type": "markdown",
   "metadata": {},
   "source": [
    "-- Still not great on MAE considering the limited range of depths we're working for"
   ]
  },
  {
   "cell_type": "markdown",
   "metadata": {},
   "source": [
    "## Results Visualization"
   ]
  },
  {
   "cell_type": "code",
   "execution_count": 26,
   "metadata": {},
   "outputs": [
    {
     "data": {
      "image/png": "[encoded data removed]",
      "text/plain": [
       "<Figure size 720x504 with 1 Axes>"
      ]
     },
     "metadata": {
      "needs_background": "light"
     },
     "output_type": "display_data"
    }
   ],
   "source": [
    "plt.scatter(labels_test.to_array(), predictions.to_array())\n",
    "plt.xlabel(\"Actual Depth: $Y_i$\")\n",
    "plt.ylabel(\"Predicted Depth: $\\hat{Y}_i$\")\n",
    "plt.title(\"Actual lake depth vs. Predicted Depth: $Y_i$ vs $\\hat{Y}_i$\")\n",
    "plt.show()"
   ]
  },
  {
   "cell_type": "markdown",
   "metadata": {},
   "source": [
    "### Random sampling of actual vs predicted data"
   ]
  },
  {
   "cell_type": "code",
   "execution_count": 12,
   "metadata": {},
   "outputs": [
    {
     "name": "stdout",
     "output_type": "stream",
     "text": [
      "Data-point:   598 Actual:   1.9269200563430786 Predicted:    2.297135829925537\n",
      "Data-point:  2893 Actual:   0.9115560054779053 Predicted:   1.1094872951507568\n",
      "Data-point:  4093 Actual:    2.084249973297119 Predicted:   2.1085076332092285\n",
      "Data-point:  2140 Actual:   0.9046429991722107 Predicted:   0.9348396062850952\n",
      "Data-point:  1833 Actual:   2.2056400775909424 Predicted:    2.063981294631958\n",
      "Data-point:  2366 Actual:   1.4731999635696411 Predicted:   1.6351839303970337\n",
      "Data-point:  4333 Actual:   0.5170000195503235 Predicted:   1.1460553407669067\n",
      "Data-point:  1628 Actual:   2.3083300590515137 Predicted:    6.209043979644775\n",
      "Data-point:   112 Actual:   1.7484500408172607 Predicted:   1.8336858749389648\n",
      "Data-point:  2038 Actual:   1.6403299570083618 Predicted:   2.0214388370513916\n",
      "Data-point:  3098 Actual:    2.168149948120117 Predicted:   3.0056867599487305\n",
      "Data-point:  3273 Actual:    1.554419994354248 Predicted:   1.6191328763961792\n",
      "Data-point:  4492 Actual:    1.389799952507019 Predicted:   1.4593358039855957\n",
      "Data-point:  1054 Actual:   1.1969200372695923 Predicted:   1.4015777111053467\n",
      "Data-point:  1905 Actual:   1.0290299654006958 Predicted:   1.6781479120254517\n",
      "Data-point:  3511 Actual:   1.3035800457000732 Predicted:   1.4041147232055664\n",
      "Data-point:  1949 Actual:   1.6890000104904175 Predicted:    1.648923635482788\n",
      "Data-point:  3318 Actual:   2.4873299598693848 Predicted:   2.4359614849090576\n",
      "Data-point:  4182 Actual:   21.006900787353516 Predicted:   18.560077667236328\n",
      "Data-point:  4627 Actual:    2.285710096359253 Predicted:    2.560101270675659\n"
     ]
    }
   ],
   "source": [
    "# Lets look at a random sample of datapoints to see the actual vs predicted depths\n",
    "import random\n",
    "for i in range(20):\n",
    "    random_data_point = random.randint(0, 4635)\n",
    "    print('Data-point: {:5} Actual: {:20} Predicted: {:20}'.format(random_data_point, labels_test.to_array()[random_data_point],\n",
    "                                               predictions.to_array()[random_data_point]))"
   ]
  },
  {
   "cell_type": "markdown",
   "metadata": {},
   "source": [
    "## Feature Importance\n",
    "\n",
    "Using sklearn's permutation importance\n"
   ]
  },
  {
   "cell_type": "code",
   "execution_count": 27,
   "metadata": {},
   "outputs": [
    {
     "name": "stdout",
     "output_type": "stream",
     "text": [
      "Variables: b32_LC8_07           Importance: -0.04106\n",
      "Variables: b16_LC8_07           Importance: -0.04114\n",
      "Variables: b15_LC8_07           Importance: -0.04279\n",
      "Variables: b27_LC8_07           Importance: -0.04325\n",
      "Variables: b4_LC8_075           Importance: -0.04418\n",
      "Variables: b31_LC8_07           Importance: -0.0451\n",
      "Variables: b35_LC8_07           Importance: -0.04638\n",
      "Variables: b28_LC8_07           Importance: -0.04749\n",
      "Variables: b6_LC8_075           Importance: -0.05101\n",
      "Variables: b14_LC8_07           Importance: -0.05281\n",
      "Variables: b22_LC8_07           Importance: -0.05361\n",
      "Variables: b33_LC8_07           Importance: -0.05367\n",
      "Variables: b21_LC8_07           Importance: -0.05583\n",
      "Variables: b9_LC8_075           Importance: -0.0588\n",
      "Variables: b5_LC8_075           Importance: -0.06539\n",
      "Variables: b30_LC8_07           Importance: -0.06754\n",
      "Variables: b34_LC8_07           Importance: -0.06889\n",
      "Variables: b2_LC8_075           Importance: -0.07304\n",
      "Variables: b23_LC8_07           Importance: -0.07327\n",
      "Variables: b11_LC8_07           Importance: -0.07405\n",
      "Variables: b1_LC8_075           Importance: -0.07496\n",
      "Variables: b3_LC8_075           Importance: -0.07602\n",
      "Variables: b29_LC8_07           Importance: -0.07832\n",
      "Variables: b26_LC8_07           Importance: -0.07911\n",
      "Variables: b10_LC8_07           Importance: -0.08294\n",
      "Variables: b13_LC8_07           Importance: -0.08504\n",
      "Variables: b25_LC8_07           Importance: -0.09427\n",
      "Variables: b20_LC8_07           Importance: -0.09926\n",
      "Variables: b19_LC8_07           Importance: -0.10745\n",
      "Variables: b7_LC8_075           Importance: -0.11602\n",
      "Variables: b18_LC8_07           Importance: -0.11827\n",
      "Variables: b12_LC8_07           Importance: -0.13247\n",
      "Variables: b24_LC8_07           Importance: -0.1568\n",
      "Variables: b8_LC8_075           Importance: -0.16429\n",
      "Variables: b17_LC8_07           Importance: -0.18389\n"
     ]
    },
    {
     "data": {
      "image/png": "[encoded data removed]",
      "text/plain": [
       "<Figure size 1440x576 with 1 Axes>"
      ]
     },
     "metadata": {
      "needs_background": "light"
     },
     "output_type": "display_data"
    }
   ],
   "source": [
    "best_rf_model.feature_importances(covariates_train, labels_train, show = True)"
   ]
  },
  {
   "cell_type": "markdown",
   "metadata": {},
   "source": [
    "## Final Points\n",
    "\n",
    "* Dask combined with cuDF/cuML is still experimental\n",
    "* We see significant speedups during training time"
   ]
  },
  {
   "cell_type": "code",
   "execution_count": null,
   "metadata": {},
   "outputs": [],
   "source": []
  }
 ],
 "metadata": {
  "kernelspec": {
   "display_name": "Python [conda env:.conda-rapids-0.16]",
   "language": "python",
   "name": "conda-env-.conda-rapids-0.16-py"
  },
  "language_info": {
   "codemirror_mode": {
    "name": "ipython",
    "version": 3
   },
   "file_extension": ".py",
   "mimetype": "text/x-python",
   "name": "python",
   "nbconvert_exporter": "python",
   "pygments_lexer": "ipython3",
   "version": "3.7.8"
  }
 },
 "nbformat": 4,
 "nbformat_minor": 4
}
