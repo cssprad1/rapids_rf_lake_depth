{
 "cells": [
  {
   "cell_type": "code",
   "execution_count": 1,
   "metadata": {},
   "outputs": [],
   "source": [
    "from models import custom_RF as rf\n",
    "from load_dataset import custom_lakedepth as ld"
   ]
  },
  {
   "cell_type": "code",
   "execution_count": 2,
   "metadata": {},
   "outputs": [
    {
     "name": "stdout",
     "output_type": "stream",
     "text": [
      " - from DATA: reading csv into GPU memory\n",
      " - from DATA: done reading csv into GPU memory\n",
      " - from DATA: dropped column: FID\n",
      " - from DATA: dropped column: Date\n"
     ]
    }
   ],
   "source": [
    "data = ld.LakeDepth(42)\n",
    "cv_train, cv_test, l_train, l_test = data.split(0.20)"
   ]
  },
  {
   "cell_type": "code",
   "execution_count": 3,
   "metadata": {},
   "outputs": [
    {
     "name": "stdout",
     "output_type": "stream",
     "text": [
      "{'ACCURACY_METRIC': 'mean_ae',\n",
      " 'BOOTSTRAP': True,\n",
      " 'BOOTSTRAP_FEATURES': False,\n",
      " 'MAX_DEPTH': 110,\n",
      " 'MAX_FEATURES': 'sqrt',\n",
      " 'MAX_LEAVES': -1,\n",
      " 'MIN_IMPURITY_DECREASE': 0.0,\n",
      " 'MIN_ROWS_PER_NODE': 2,\n",
      " 'N_BINS': 6,\n",
      " 'N_ESTIMATORS': 1150,\n",
      " 'QUANTILEPT': False,\n",
      " 'ROWS_SAMPLE': 1.0,\n",
      " 'SEED': 42,\n",
      " 'SPLIT_ALGO': 1,\n",
      " 'SPLIT_CRITERION': 2,\n",
      " 'VERBOSE': False}\n"
     ]
    }
   ],
   "source": [
    "hyperparameters = {'N_ESTIMATORS' : 1150,\n",
    "\t\t\t\t\t   'SPLIT_ALGO' : 1,\n",
    "\t\t\t\t\t   'SPLIT_CRITERION' : 2,\n",
    "\t\t\t\t\t   'BOOTSTRAP' : True,\n",
    "\t\t\t\t\t   'BOOTSTRAP_FEATURES' : False,\n",
    "\t\t\t\t\t   'ROWS_SAMPLE' : 1.0,\n",
    "\t\t\t\t\t   'MAX_DEPTH' : 110,\n",
    "\t\t\t\t\t   'MAX_LEAVES' : -1,\n",
    "\t\t\t\t\t   'MAX_FEATURES' : 'sqrt',\n",
    "\t\t\t\t\t   'N_BINS' : 6,\n",
    "\t\t\t\t\t   'MIN_ROWS_PER_NODE' : 2,\n",
    "\t\t\t\t\t   'MIN_IMPURITY_DECREASE' : 0.0,\n",
    "\t\t\t\t\t   'ACCURACY_METRIC' : 'mean_ae', # 'mse' #'r2' # 'median_aw' # \n",
    "\t\t\t\t\t   'QUANTILEPT' : False,\n",
    "\t\t\t\t\t   'SEED' :  42,\n",
    "\t\t\t\t\t   'VERBOSE' : False\n",
    "\t\t\t\t\t   }\n",
    "from pprint import pprint\n",
    "pprint(hyperparameters)"
   ]
  },
  {
   "cell_type": "code",
   "execution_count": 4,
   "metadata": {},
   "outputs": [
    {
     "name": "stderr",
     "output_type": "stream",
     "text": [
      "/att/gpfsfs/briskfs01/ppl/cssprad1/projects/rapids_rf_lake_depth/models/custom_RF.py:155: UserWarning: For reproducible results in Random Forest Classifier or for almost reproducible results in Random Forest Regressor, n_streams==1 is recommended. If n_streams is > 1, results may vary due to stream/thread timing differences, even when random_state is set\n",
      "  verbose=param['VERBOSE'])\n"
     ]
    }
   ],
   "source": [
    "rf_model1 = rf.cuRF(hyperparameters)"
   ]
  },
  {
   "cell_type": "code",
   "execution_count": 5,
   "metadata": {},
   "outputs": [
    {
     "name": "stdout",
     "output_type": "stream",
     "text": [
      "Time to train (sec) 8.926137924194336\n"
     ]
    }
   ],
   "source": [
    "import time\n",
    "\n",
    "st = time.time()\n",
    "rf_model1.train(cv_train, l_train)\n",
    "et = time.time()\n",
    "print(\"Time to train (sec)\", et-st)"
   ]
  },
  {
   "cell_type": "code",
   "execution_count": 6,
   "metadata": {},
   "outputs": [
    {
     "name": "stdout",
     "output_type": "stream",
     "text": [
      "The history saving thread hit an unexpected error (OperationalError('database is locked')).History will not be written to the database.\n",
      "Scores ------\n",
      " MAE:  0.47657734\n",
      "  r2:  0.7557918428754148\n",
      " MSE:  0.7578933\n"
     ]
    },
    {
     "data": {
      "text/plain": [
       "(0.47657734, 0.7557918428754148, 0.7578933)"
      ]
     },
     "execution_count": 6,
     "metadata": {},
     "output_type": "execute_result"
    }
   ],
   "source": [
    "rf_model1.get_metrics(cv_test, l_test)"
   ]
  },
  {
   "cell_type": "markdown",
   "metadata": {},
   "source": [
    "### Isolate the  b8 spectral band\n",
    "\n",
    "We're gonna train without it and get the r2 score"
   ]
  },
  {
   "cell_type": "code",
   "execution_count": 7,
   "metadata": {},
   "outputs": [],
   "source": [
    "data.covariates = data.covariates.drop(['b32_LC8_07'], axis=1)\n",
    "cv_train1, cv_test1, l_train1, l_test1 = data.split(0.20)"
   ]
  },
  {
   "cell_type": "code",
   "execution_count": 8,
   "metadata": {},
   "outputs": [
    {
     "data": {
      "text/html": [
       "<div>\n",
       "<style scoped>\n",
       "    .dataframe tbody tr th:only-of-type {\n",
       "        vertical-align: middle;\n",
       "    }\n",
       "\n",
       "    .dataframe tbody tr th {\n",
       "        vertical-align: top;\n",
       "    }\n",
       "\n",
       "    .dataframe thead th {\n",
       "        text-align: right;\n",
       "    }\n",
       "</style>\n",
       "<table border=\"1\" class=\"dataframe\">\n",
       "  <thead>\n",
       "    <tr style=\"text-align: right;\">\n",
       "      <th></th>\n",
       "      <th>b1_LC8_075</th>\n",
       "      <th>b2_LC8_075</th>\n",
       "      <th>b3_LC8_075</th>\n",
       "      <th>b4_LC8_075</th>\n",
       "      <th>b5_LC8_075</th>\n",
       "      <th>b6_LC8_075</th>\n",
       "      <th>b7_LC8_075</th>\n",
       "      <th>b8_LC8_075</th>\n",
       "      <th>b9_LC8_075</th>\n",
       "      <th>b10_LC8_07</th>\n",
       "      <th>...</th>\n",
       "      <th>b25_LC8_07</th>\n",
       "      <th>b26_LC8_07</th>\n",
       "      <th>b27_LC8_07</th>\n",
       "      <th>b28_LC8_07</th>\n",
       "      <th>b29_LC8_07</th>\n",
       "      <th>b30_LC8_07</th>\n",
       "      <th>b31_LC8_07</th>\n",
       "      <th>b33_LC8_07</th>\n",
       "      <th>b34_LC8_07</th>\n",
       "      <th>b35_LC8_07</th>\n",
       "    </tr>\n",
       "  </thead>\n",
       "  <tbody>\n",
       "    <tr>\n",
       "      <th>1913</th>\n",
       "      <td>132.0</td>\n",
       "      <td>202.0</td>\n",
       "      <td>97.0</td>\n",
       "      <td>38.0</td>\n",
       "      <td>17.0</td>\n",
       "      <td>15.0</td>\n",
       "      <td>653.0</td>\n",
       "      <td>1361.0</td>\n",
       "      <td>3474.0</td>\n",
       "      <td>7765.0</td>\n",
       "      <td>...</td>\n",
       "      <td>2235.0</td>\n",
       "      <td>2533.0</td>\n",
       "      <td>129.0</td>\n",
       "      <td>84.0</td>\n",
       "      <td>175.0</td>\n",
       "      <td>447.0</td>\n",
       "      <td>114.0</td>\n",
       "      <td>155.0</td>\n",
       "      <td>395.0</td>\n",
       "      <td>882.0</td>\n",
       "    </tr>\n",
       "    <tr>\n",
       "      <th>8926</th>\n",
       "      <td>151.0</td>\n",
       "      <td>242.0</td>\n",
       "      <td>208.0</td>\n",
       "      <td>328.0</td>\n",
       "      <td>299.0</td>\n",
       "      <td>216.0</td>\n",
       "      <td>624.0</td>\n",
       "      <td>726.0</td>\n",
       "      <td>460.0</td>\n",
       "      <td>505.0</td>\n",
       "      <td>...</td>\n",
       "      <td>1097.0</td>\n",
       "      <td>1519.0</td>\n",
       "      <td>1980.0</td>\n",
       "      <td>1236.0</td>\n",
       "      <td>1438.0</td>\n",
       "      <td>912.0</td>\n",
       "      <td>1430.0</td>\n",
       "      <td>1038.0</td>\n",
       "      <td>659.0</td>\n",
       "      <td>722.0</td>\n",
       "    </tr>\n",
       "    <tr>\n",
       "      <th>14706</th>\n",
       "      <td>596.0</td>\n",
       "      <td>592.0</td>\n",
       "      <td>589.0</td>\n",
       "      <td>892.0</td>\n",
       "      <td>834.0</td>\n",
       "      <td>615.0</td>\n",
       "      <td>1007.0</td>\n",
       "      <td>1012.0</td>\n",
       "      <td>668.0</td>\n",
       "      <td>715.0</td>\n",
       "      <td>...</td>\n",
       "      <td>1070.0</td>\n",
       "      <td>1450.0</td>\n",
       "      <td>1399.0</td>\n",
       "      <td>1409.0</td>\n",
       "      <td>1416.0</td>\n",
       "      <td>935.0</td>\n",
       "      <td>1032.0</td>\n",
       "      <td>1044.0</td>\n",
       "      <td>689.0</td>\n",
       "      <td>737.0</td>\n",
       "    </tr>\n",
       "    <tr>\n",
       "      <th>3503</th>\n",
       "      <td>212.0</td>\n",
       "      <td>350.0</td>\n",
       "      <td>172.0</td>\n",
       "      <td>73.0</td>\n",
       "      <td>42.0</td>\n",
       "      <td>33.0</td>\n",
       "      <td>606.0</td>\n",
       "      <td>1233.0</td>\n",
       "      <td>2904.0</td>\n",
       "      <td>5048.0</td>\n",
       "      <td>...</td>\n",
       "      <td>1738.0</td>\n",
       "      <td>2212.0</td>\n",
       "      <td>198.0</td>\n",
       "      <td>120.0</td>\n",
       "      <td>244.0</td>\n",
       "      <td>575.0</td>\n",
       "      <td>156.0</td>\n",
       "      <td>192.0</td>\n",
       "      <td>452.0</td>\n",
       "      <td>786.0</td>\n",
       "    </tr>\n",
       "    <tr>\n",
       "      <th>7744</th>\n",
       "      <td>1219.0</td>\n",
       "      <td>1226.0</td>\n",
       "      <td>1146.0</td>\n",
       "      <td>913.0</td>\n",
       "      <td>350.0</td>\n",
       "      <td>289.0</td>\n",
       "      <td>994.0</td>\n",
       "      <td>1064.0</td>\n",
       "      <td>1335.0</td>\n",
       "      <td>3483.0</td>\n",
       "      <td>...</td>\n",
       "      <td>2609.0</td>\n",
       "      <td>3159.0</td>\n",
       "      <td>287.0</td>\n",
       "      <td>285.0</td>\n",
       "      <td>305.0</td>\n",
       "      <td>383.0</td>\n",
       "      <td>237.0</td>\n",
       "      <td>252.0</td>\n",
       "      <td>317.0</td>\n",
       "      <td>826.0</td>\n",
       "    </tr>\n",
       "  </tbody>\n",
       "</table>\n",
       "<p>5 rows × 34 columns</p>\n",
       "</div>"
      ],
      "text/plain": [
       "       b1_LC8_075  b2_LC8_075  b3_LC8_075  b4_LC8_075  b5_LC8_075  b6_LC8_075  \\\n",
       "1913        132.0       202.0        97.0        38.0        17.0        15.0   \n",
       "8926        151.0       242.0       208.0       328.0       299.0       216.0   \n",
       "14706       596.0       592.0       589.0       892.0       834.0       615.0   \n",
       "3503        212.0       350.0       172.0        73.0        42.0        33.0   \n",
       "7744       1219.0      1226.0      1146.0       913.0       350.0       289.0   \n",
       "\n",
       "       b7_LC8_075  b8_LC8_075  b9_LC8_075  b10_LC8_07  ...  b25_LC8_07  \\\n",
       "1913        653.0      1361.0      3474.0      7765.0  ...      2235.0   \n",
       "8926        624.0       726.0       460.0       505.0  ...      1097.0   \n",
       "14706      1007.0      1012.0       668.0       715.0  ...      1070.0   \n",
       "3503        606.0      1233.0      2904.0      5048.0  ...      1738.0   \n",
       "7744        994.0      1064.0      1335.0      3483.0  ...      2609.0   \n",
       "\n",
       "       b26_LC8_07  b27_LC8_07  b28_LC8_07  b29_LC8_07  b30_LC8_07  b31_LC8_07  \\\n",
       "1913       2533.0       129.0        84.0       175.0       447.0       114.0   \n",
       "8926       1519.0      1980.0      1236.0      1438.0       912.0      1430.0   \n",
       "14706      1450.0      1399.0      1409.0      1416.0       935.0      1032.0   \n",
       "3503       2212.0       198.0       120.0       244.0       575.0       156.0   \n",
       "7744       3159.0       287.0       285.0       305.0       383.0       237.0   \n",
       "\n",
       "       b33_LC8_07  b34_LC8_07  b35_LC8_07  \n",
       "1913        155.0       395.0       882.0  \n",
       "8926       1038.0       659.0       722.0  \n",
       "14706      1044.0       689.0       737.0  \n",
       "3503        192.0       452.0       786.0  \n",
       "7744        252.0       317.0       826.0  \n",
       "\n",
       "[5 rows x 34 columns]"
      ]
     },
     "execution_count": 8,
     "metadata": {},
     "output_type": "execute_result"
    }
   ],
   "source": [
    "cv_train1.head(5)"
   ]
  },
  {
   "cell_type": "code",
   "execution_count": 9,
   "metadata": {},
   "outputs": [
    {
     "name": "stderr",
     "output_type": "stream",
     "text": [
      "/att/gpfsfs/briskfs01/ppl/cssprad1/projects/rapids_rf_lake_depth/models/custom_RF.py:155: UserWarning: For reproducible results in Random Forest Classifier or for almost reproducible results in Random Forest Regressor, n_streams==1 is recommended. If n_streams is > 1, results may vary due to stream/thread timing differences, even when random_state is set\n",
      "  verbose=param['VERBOSE'])\n"
     ]
    }
   ],
   "source": [
    "rf_model2 = rf.cuRF(hyperparameters)"
   ]
  },
  {
   "cell_type": "code",
   "execution_count": 10,
   "metadata": {},
   "outputs": [],
   "source": [
    "rf_model2.train(cv_train1, l_train1)"
   ]
  },
  {
   "cell_type": "code",
   "execution_count": 11,
   "metadata": {},
   "outputs": [
    {
     "name": "stdout",
     "output_type": "stream",
     "text": [
      "Scores ------\n",
      " MAE:  0.49186188\n",
      "  r2:  0.7403002871086541\n",
      " MSE:  0.8067346\n"
     ]
    }
   ],
   "source": [
    "r2s_list = []\n",
    "_, r2_2, _ = rf_model2.get_metrics(cv_test1, l_test1)\n",
    "r2s_list.append(r2_2)"
   ]
  },
  {
   "cell_type": "code",
   "execution_count": 12,
   "metadata": {},
   "outputs": [
    {
     "name": "stderr",
     "output_type": "stream",
     "text": [
      "/att/gpfsfs/briskfs01/ppl/cssprad1/projects/rapids_rf_lake_depth/models/custom_RF.py:155: UserWarning: For reproducible results in Random Forest Classifier or for almost reproducible results in Random Forest Regressor, n_streams==1 is recommended. If n_streams is > 1, results may vary due to stream/thread timing differences, even when random_state is set\n",
      "  verbose=param['VERBOSE'])\n"
     ]
    },
    {
     "name": "stdout",
     "output_type": "stream",
     "text": [
      "Scores ------\n",
      " MAE:  0.5017001\n",
      "  r2:  0.7731209960404318\n",
      " MSE:  0.875981\n"
     ]
    }
   ],
   "source": [
    "rf_model3 = rf.cuRF(hyperparameters)\n",
    "cv_3, cv_t3, l_3, l_t3 = data.split(0.20)\n",
    "rf_model3.train(cv_3, l_3)\n",
    "_, r2_3, _ = rf_model3.get_metrics(cv_t3, l_t3)\n",
    "r2s_list.append(r2_3)"
   ]
  },
  {
   "cell_type": "code",
   "execution_count": 13,
   "metadata": {},
   "outputs": [
    {
     "name": "stderr",
     "output_type": "stream",
     "text": [
      "/att/gpfsfs/briskfs01/ppl/cssprad1/projects/rapids_rf_lake_depth/models/custom_RF.py:155: UserWarning: For reproducible results in Random Forest Classifier or for almost reproducible results in Random Forest Regressor, n_streams==1 is recommended. If n_streams is > 1, results may vary due to stream/thread timing differences, even when random_state is set\n",
      "  verbose=param['VERBOSE'])\n"
     ]
    },
    {
     "name": "stdout",
     "output_type": "stream",
     "text": [
      "Scores ------\n",
      " MAE:  0.49880743\n",
      "  r2:  0.7570322540773884\n",
      " MSE:  0.9274649\n"
     ]
    }
   ],
   "source": [
    "rf_model4 = rf.cuRF(hyperparameters)\n",
    "cv_4, cv_t4, l_4, l_t4 = data.split(0.20)\n",
    "rf_model4.train(cv_4, l_4)\n",
    "_, r2_4, _ = rf_model4.get_metrics(cv_t4, l_t4)\n",
    "r2s_list.append(r2_4)"
   ]
  },
  {
   "cell_type": "code",
   "execution_count": 14,
   "metadata": {},
   "outputs": [
    {
     "name": "stderr",
     "output_type": "stream",
     "text": [
      "/att/gpfsfs/briskfs01/ppl/cssprad1/projects/rapids_rf_lake_depth/models/custom_RF.py:155: UserWarning: For reproducible results in Random Forest Classifier or for almost reproducible results in Random Forest Regressor, n_streams==1 is recommended. If n_streams is > 1, results may vary due to stream/thread timing differences, even when random_state is set\n",
      "  verbose=param['VERBOSE'])\n"
     ]
    },
    {
     "name": "stdout",
     "output_type": "stream",
     "text": [
      "Scores ------\n",
      " MAE:  0.48655018\n",
      "  r2:  0.7688098643156092\n",
      " MSE:  0.87456846\n"
     ]
    }
   ],
   "source": [
    "rf_model5 = rf.cuRF(hyperparameters)\n",
    "cv_5, cv_t5, l_5, l_t5 = data.split(0.20)\n",
    "rf_model5.train(cv_5, l_5)\n",
    "_, r2_5, _ = rf_model5.get_metrics(cv_t5, l_t5)\n",
    "r2s_list.append(r2_5)"
   ]
  },
  {
   "cell_type": "code",
   "execution_count": 15,
   "metadata": {},
   "outputs": [
    {
     "name": "stderr",
     "output_type": "stream",
     "text": [
      "/att/gpfsfs/briskfs01/ppl/cssprad1/projects/rapids_rf_lake_depth/models/custom_RF.py:155: UserWarning: For reproducible results in Random Forest Classifier or for almost reproducible results in Random Forest Regressor, n_streams==1 is recommended. If n_streams is > 1, results may vary due to stream/thread timing differences, even when random_state is set\n",
      "  verbose=param['VERBOSE'])\n"
     ]
    },
    {
     "name": "stdout",
     "output_type": "stream",
     "text": [
      "Scores ------\n",
      " MAE:  0.5018901\n",
      "  r2:  0.7614600032471758\n",
      " MSE:  0.8611403\n"
     ]
    }
   ],
   "source": [
    "rf_model6 = rf.cuRF(hyperparameters)\n",
    "cv_6, cv_t6, l_6, l_t6 = data.split(0.20)\n",
    "rf_model6.train(cv_6, l_6)\n",
    "_, r2_6, _ = rf_model6.get_metrics(cv_t6, l_t6)\n",
    "r2s_list.append(r2_6)"
   ]
  },
  {
   "cell_type": "code",
   "execution_count": 16,
   "metadata": {},
   "outputs": [],
   "source": [
    "import numpy as np"
   ]
  },
  {
   "cell_type": "code",
   "execution_count": 17,
   "metadata": {},
   "outputs": [
    {
     "name": "stdout",
     "output_type": "stream",
     "text": [
      "[0.7403002871086541, 0.7731209960404318, 0.7570322540773884, 0.7688098643156092, 0.7614600032471758]\n"
     ]
    }
   ],
   "source": [
    "print(r2s_list)"
   ]
  },
  {
   "cell_type": "code",
   "execution_count": 18,
   "metadata": {},
   "outputs": [
    {
     "name": "stdout",
     "output_type": "stream",
     "text": [
      "0.760144680957852\n"
     ]
    }
   ],
   "source": [
    "r2_mean2 = np.mean(r2s_list)\n",
    "print(r2_mean2)"
   ]
  }
 ],
 "metadata": {
  "kernelspec": {
   "display_name": "Python [conda env:.conda-rapids-0.16]",
   "language": "python",
   "name": "conda-env-.conda-rapids-0.16-py"
  },
  "language_info": {
   "codemirror_mode": {
    "name": "ipython",
    "version": 3
   },
   "file_extension": ".py",
   "mimetype": "text/x-python",
   "name": "python",
   "nbconvert_exporter": "python",
   "pygments_lexer": "ipython3",
   "version": "3.7.8"
  }
 },
 "nbformat": 4,
 "nbformat_minor": 4
}
