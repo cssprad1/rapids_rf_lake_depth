{
 "cells": [
  {
   "cell_type": "code",
   "execution_count": 1,
   "metadata": {},
   "outputs": [],
   "source": [
    "from models import custom_RF as cm\n",
    "from load_dataset import custom_lakedepth as ld\n",
    "from pprint import pprint\n",
    "import matplotlib.pyplot as plt\n",
    "plt.rcParams['figure.figsize'] = [10, 7]\n",
    "from pprint import pprint\n",
    "import numpy as np"
   ]
  },
  {
   "cell_type": "code",
   "execution_count": 2,
   "metadata": {},
   "outputs": [
    {
     "name": "stdout",
     "output_type": "stream",
     "text": [
      " - from DATA: reading csv into GPU memory\n",
      " - from DATA: done reading csv into GPU memory\n",
      " - from DATA: dropped column: FID\n",
      " - from DATA: dropped column: Date\n"
     ]
    },
    {
     "data": {
      "text/html": [
       "<div>\n",
       "<style scoped>\n",
       "    .dataframe tbody tr th:only-of-type {\n",
       "        vertical-align: middle;\n",
       "    }\n",
       "\n",
       "    .dataframe tbody tr th {\n",
       "        vertical-align: top;\n",
       "    }\n",
       "\n",
       "    .dataframe thead th {\n",
       "        text-align: right;\n",
       "    }\n",
       "</style>\n",
       "<table border=\"1\" class=\"dataframe\">\n",
       "  <thead>\n",
       "    <tr style=\"text-align: right;\">\n",
       "      <th></th>\n",
       "      <th>b1_LC8_075</th>\n",
       "      <th>b2_LC8_075</th>\n",
       "      <th>b3_LC8_075</th>\n",
       "      <th>b4_LC8_075</th>\n",
       "      <th>b5_LC8_075</th>\n",
       "      <th>b6_LC8_075</th>\n",
       "    </tr>\n",
       "  </thead>\n",
       "  <tbody>\n",
       "    <tr>\n",
       "      <th>0</th>\n",
       "      <td>164.0</td>\n",
       "      <td>271.0</td>\n",
       "      <td>199.0</td>\n",
       "      <td>42.0</td>\n",
       "      <td>27.0</td>\n",
       "      <td>16.0</td>\n",
       "    </tr>\n",
       "    <tr>\n",
       "      <th>1</th>\n",
       "      <td>165.0</td>\n",
       "      <td>272.0</td>\n",
       "      <td>196.0</td>\n",
       "      <td>44.0</td>\n",
       "      <td>29.0</td>\n",
       "      <td>16.0</td>\n",
       "    </tr>\n",
       "    <tr>\n",
       "      <th>2</th>\n",
       "      <td>154.0</td>\n",
       "      <td>260.0</td>\n",
       "      <td>193.0</td>\n",
       "      <td>40.0</td>\n",
       "      <td>32.0</td>\n",
       "      <td>19.0</td>\n",
       "    </tr>\n",
       "    <tr>\n",
       "      <th>3</th>\n",
       "      <td>156.0</td>\n",
       "      <td>250.0</td>\n",
       "      <td>195.0</td>\n",
       "      <td>48.0</td>\n",
       "      <td>40.0</td>\n",
       "      <td>26.0</td>\n",
       "    </tr>\n",
       "    <tr>\n",
       "      <th>4</th>\n",
       "      <td>117.0</td>\n",
       "      <td>164.0</td>\n",
       "      <td>78.0</td>\n",
       "      <td>38.0</td>\n",
       "      <td>23.0</td>\n",
       "      <td>17.0</td>\n",
       "    </tr>\n",
       "  </tbody>\n",
       "</table>\n",
       "</div>"
      ],
      "text/plain": [
       "   b1_LC8_075  b2_LC8_075  b3_LC8_075  b4_LC8_075  b5_LC8_075  b6_LC8_075\n",
       "0       164.0       271.0       199.0        42.0        27.0        16.0\n",
       "1       165.0       272.0       196.0        44.0        29.0        16.0\n",
       "2       154.0       260.0       193.0        40.0        32.0        19.0\n",
       "3       156.0       250.0       195.0        48.0        40.0        26.0\n",
       "4       117.0       164.0        78.0        38.0        23.0        17.0"
      ]
     },
     "execution_count": 2,
     "metadata": {},
     "output_type": "execute_result"
    }
   ],
   "source": [
    "lake_depth_data = ld.LakeDepth(random_state = 42)\n",
    "\"\"\"\n",
    "corr = lake_depth_data.covariates.corr()\n",
    "cols = np.full((corr.shape[0],), True, dtype=bool)\n",
    "for i in range(corr.shape[0]):\n",
    "    for j in range(i+1, corr.shape[0]):\n",
    "        if corr.iloc[i,j] >=0.9:\n",
    "            if cols[j]:\n",
    "                cols[j] = False\n",
    "selected_cols = lake_depth_data.covariates.columns[cols]\n",
    "lake_depth_data.covariates = lake_depth_data.covariates[selected_cols]\n",
    "\"\"\"\n",
    "# Only take first 6 bands\n",
    "adjusted_columns_idx = lake_depth_data.covariates.columns[:6]\n",
    "lake_depth_data.covariates = lake_depth_data.covariates[adjusted_columns_idx]\n",
    "covariates_train, covariates_test, labels_train, labels_test = lake_depth_data.split(0.20)\n",
    "\n",
    "# Make sure we did it right\n",
    "lake_depth_data.covariates.head(5)"
   ]
  },
  {
   "cell_type": "code",
   "execution_count": 3,
   "metadata": {},
   "outputs": [
    {
     "name": "stdout",
     "output_type": "stream",
     "text": [
      "{'ACCURACY_METRIC': 'mean_ae',\n",
      " 'BOOTSTRAP': False,\n",
      " 'BOOTSTRAP_FEATURES': False,\n",
      " 'MAX_DEPTH': 50,\n",
      " 'MAX_FEATURES': 'sqrt',\n",
      " 'MAX_LEAVES': -1,\n",
      " 'MIN_IMPURITY_DECREASE': 0.0,\n",
      " 'MIN_ROWS_PER_NODE': 2,\n",
      " 'N_BINS': 16,\n",
      " 'N_ESTIMATORS': 1052,\n",
      " 'QUANTILEPT': False,\n",
      " 'ROWS_SAMPLE': 1.0,\n",
      " 'SEED': 42,\n",
      " 'SPLIT_ALGO': 1,\n",
      " 'SPLIT_CRITERION': 2,\n",
      " 'VERBOSE': False}\n"
     ]
    }
   ],
   "source": [
    "# Params for our fancy GPU-based RF model\n",
    "hyperparameters = {'N_ESTIMATORS' : 1052,\n",
    "\t\t\t\t\t   'SPLIT_ALGO' : 1,\n",
    "\t\t\t\t\t   'SPLIT_CRITERION' : 2,\n",
    "\t\t\t\t\t   'BOOTSTRAP' : False,\n",
    "\t\t\t\t\t   'BOOTSTRAP_FEATURES' : False,\n",
    "\t\t\t\t\t   'ROWS_SAMPLE' : 1.0,\n",
    "\t\t\t\t\t   'MAX_DEPTH' : 50,\n",
    "\t\t\t\t\t   'MAX_LEAVES' : -1,\n",
    "\t\t\t\t\t   'MAX_FEATURES' : 'sqrt',\n",
    "\t\t\t\t\t   'N_BINS' : 16,\n",
    "\t\t\t\t\t   'MIN_ROWS_PER_NODE' : 2,\n",
    "\t\t\t\t\t   'MIN_IMPURITY_DECREASE' : 0.0,\n",
    "\t\t\t\t\t   'ACCURACY_METRIC' : 'mean_ae', # 'mse' #'r2' # 'median_aw' # \n",
    "\t\t\t\t\t   'QUANTILEPT' : False,\n",
    "\t\t\t\t\t   'SEED' :  42,\n",
    "\t\t\t\t\t   'VERBOSE' : False\n",
    "\t\t\t\t\t   }\n",
    "pprint(hyperparameters)"
   ]
  },
  {
   "cell_type": "code",
   "execution_count": 4,
   "metadata": {},
   "outputs": [
    {
     "name": "stderr",
     "output_type": "stream",
     "text": [
      "/att/gpfsfs/briskfs01/ppl/cssprad1/projects/rapids_rf_lake_depth/models/custom_RF.py:154: UserWarning: For reproducible results in Random Forest Classifier or for almost reproducible results in Random Forest Regressor, n_streams==1 is recommended. If n_streams is > 1, results may vary due to stream/thread timing differences, even when random_state is set\n",
      "  verbose=param['VERBOSE'])\n"
     ]
    },
    {
     "name": "stdout",
     "output_type": "stream",
     "text": [
      "Time to train:  5.417667865753174\n"
     ]
    }
   ],
   "source": [
    "import time\n",
    "rf_model_bands_one_six = cm.cuRF(hyperparameters)\n",
    "st = time.time()\n",
    "rf_model_bands_one_six.train(covariates_train, labels_train)\n",
    "et = time.time()\n",
    "print(\"Time to train: \", et-st)"
   ]
  },
  {
   "cell_type": "code",
   "execution_count": 5,
   "metadata": {},
   "outputs": [
    {
     "name": "stdout",
     "output_type": "stream",
     "text": [
      "Scores ------\n",
      " MAE:  0.5622773\n",
      "  r2:  0.6403507776927668\n",
      " MSE:  1.2313956\n"
     ]
    }
   ],
   "source": [
    "predictions, _, _, _ = rf_model_bands_one_six.get_metrics(covariates_test, labels_test)"
   ]
  },
  {
   "cell_type": "code",
   "execution_count": 6,
   "metadata": {},
   "outputs": [
    {
     "name": "stdout",
     "output_type": "stream",
     "text": [
      "Variables: b6_LC8_075           Importance: -0.2883\n",
      "Variables: b5_LC8_075           Importance: -0.31371\n",
      "Variables: b2_LC8_075           Importance: -0.42452\n",
      "Variables: b4_LC8_075           Importance: -0.56957\n",
      "Variables: b1_LC8_075           Importance: -0.7263\n",
      "Variables: b3_LC8_075           Importance: -0.89241\n"
     ]
    },
    {
     "data": {
      "image/png": "[encoded data removed]",
      "text/plain": [
       "<Figure size 1440x576 with 1 Axes>"
      ]
     },
     "metadata": {
      "needs_background": "light"
     },
     "output_type": "display_data"
    }
   ],
   "source": [
    "rf_model_bands_one_six.feature_importances(covariates_train, labels_train, show = False)"
   ]
  },
  {
   "cell_type": "markdown",
   "metadata": {},
   "source": [
    "## Hard-code the permutation_importance to check for errors"
   ]
  },
  {
   "cell_type": "code",
   "execution_count": 7,
   "metadata": {},
   "outputs": [],
   "source": [
    "from sklearn.inspection import permutation_importance\n",
    "result = permutation_importance(rf_model_bands_one_six.model, \n",
    "                                covariates_train, \n",
    "                                labels_train, \n",
    "                                n_repeats=5, \n",
    "                                random_state=42)"
   ]
  },
  {
   "cell_type": "code",
   "execution_count": 8,
   "metadata": {},
   "outputs": [
    {
     "name": "stdout",
     "output_type": "stream",
     "text": [
      "Feature: 0, Score: -0.28817\n",
      "Feature: 1, Score: -0.31362\n",
      "Feature: 2, Score: -0.42631\n",
      "Feature: 3, Score: -0.57035\n",
      "Feature: 4, Score: -0.72450\n",
      "Feature: 5, Score: -0.89107\n"
     ]
    },
    {
     "data": {
      "image/png": "[encoded data removed]",
      "text/plain": [
       "<Figure size 1440x576 with 1 Axes>"
      ]
     },
     "metadata": {
      "needs_background": "light"
     },
     "output_type": "display_data"
    },
    {
     "name": "stdout",
     "output_type": "stream",
     "text": [
      "Importances_mean:  [-0.72450082 -0.4263059  -0.89106582 -0.57035173 -0.31362457 -0.28817413]\n",
      "Importances_std:  [0.0063552  0.00523126 0.00860254 0.00465118 0.00245373 0.00469485]\n"
     ]
    }
   ],
   "source": [
    "import numpy as np\n",
    "sorted_idx = result.importances_mean.argsort()\n",
    "sorted_idx = np.flip(sorted_idx)\n",
    "importance = result.importances_mean\n",
    "for i, v in enumerate(importance[sorted_idx]):\n",
    "    print('Feature: %0d, Score: %.5f' %(i, v))\n",
    "plt.figure(figsize=(20, 8))\n",
    "plt.bar([x for x in range(len(importance))], importance[sorted_idx])\n",
    "plt.xticks(range(len(importance)), list(covariates_train.columns[sorted_idx]))\n",
    "plt.title(\"Mean Permutation_importance n_iters=5\")\n",
    "plt.show()\n",
    "print(\"Importances_mean: \",result.importances_mean)\n",
    "print(\"Importances_std: \",result.importances_std)"
   ]
  },
  {
   "cell_type": "code",
   "execution_count": null,
   "metadata": {},
   "outputs": [],
   "source": []
  },
  {
   "cell_type": "code",
   "execution_count": 9,
   "metadata": {},
   "outputs": [
    {
     "data": {
      "image/png": "[encoded data removed]",
      "text/plain": [
       "<Figure size 720x504 with 1 Axes>"
      ]
     },
     "metadata": {
      "needs_background": "light"
     },
     "output_type": "display_data"
    }
   ],
   "source": [
    "plt.scatter(labels_test.to_array(), predictions.to_array())\n",
    "plt.xlabel(\"Actual Depth: $Y_i$\")\n",
    "plt.ylabel(\"Predicted Depth: $\\hat{Y}_i$\")\n",
    "plt.title(\"Actual lake depth vs. Predicted Depth: $Y_i$ vs $\\hat{Y}_i$\")\n",
    "plt.show()"
   ]
  },
  {
   "cell_type": "markdown",
   "metadata": {},
   "source": [
    "### Random sampling to compare actual vs predicted values"
   ]
  },
  {
   "cell_type": "code",
   "execution_count": 10,
   "metadata": {},
   "outputs": [
    {
     "name": "stdout",
     "output_type": "stream",
     "text": [
      "Data-point:  2661 Actual:   2.0284299850463867 Predicted:   2.0822975635528564\n",
      "Data-point:  4510 Actual:   2.2108500003814697 Predicted:    2.010662794113159\n",
      "Data-point:  4343 Actual:    2.127500057220459 Predicted:   2.1197617053985596\n",
      "Data-point:  1892 Actual:    1.719920039176941 Predicted:    1.785485863685608\n",
      "Data-point:  3575 Actual:    2.078089952468872 Predicted:   1.5543180704116821\n",
      "Data-point:   505 Actual:    1.559499979019165 Predicted:    2.097175121307373\n",
      "Data-point:  2194 Actual:    1.555999994277954 Predicted:   1.4365489482879639\n",
      "Data-point:  2799 Actual:   0.8007689714431763 Predicted:    2.117337942123413\n",
      "Data-point:   223 Actual:   1.7426400184631348 Predicted:   1.7523741722106934\n",
      "Data-point:  3724 Actual:    4.356249809265137 Predicted:    6.883606910705566\n",
      "Data-point:  4028 Actual:   2.0078299045562744 Predicted:   1.7869693040847778\n",
      "Data-point:  1812 Actual:   1.5579999685287476 Predicted:   1.3987534046173096\n",
      "Data-point:   964 Actual:   1.4974199533462524 Predicted:    1.355169653892517\n",
      "Data-point:  2854 Actual:    2.081170082092285 Predicted:    2.056370973587036\n",
      "Data-point:   123 Actual:   1.5970799922943115 Predicted:   1.4677422046661377\n",
      "Data-point:   974 Actual:   1.4338300228118896 Predicted:   1.7539727687835693\n",
      "Data-point:  4525 Actual:   1.6054199934005737 Predicted:   1.5976309776306152\n",
      "Data-point:  4286 Actual:   1.6275399923324585 Predicted:   1.7276207208633423\n",
      "Data-point:   950 Actual:   2.1026699542999268 Predicted:    3.098348617553711\n",
      "Data-point:  2685 Actual:   0.9030830264091492 Predicted:   1.0842838287353516\n"
     ]
    }
   ],
   "source": [
    "# Lets look at a random sample of datapoints to see the actual vs predicted depths\n",
    "import random\n",
    "for i in range(20):\n",
    "    random_data_point = random.randint(0, 4635)\n",
    "    print('Data-point: {:5} Actual: {:20} Predicted: {:20}'.format(random_data_point, labels_test.to_array()[random_data_point],\n",
    "                                               predictions.to_array()[random_data_point]))"
   ]
  }
 ],
 "metadata": {
  "kernelspec": {
   "display_name": "Python [conda env:.conda-rapids-0.16]",
   "language": "python",
   "name": "conda-env-.conda-rapids-0.16-py"
  },
  "language_info": {
   "codemirror_mode": {
    "name": "ipython",
    "version": 3
   },
   "file_extension": ".py",
   "mimetype": "text/x-python",
   "name": "python",
   "nbconvert_exporter": "python",
   "pygments_lexer": "ipython3",
   "version": "3.7.8"
  }
 },
 "nbformat": 4,
 "nbformat_minor": 4
}
