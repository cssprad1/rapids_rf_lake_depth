{
 "cells": [
  {
   "cell_type": "code",
   "execution_count": 1,
   "metadata": {},
   "outputs": [],
   "source": [
    "from models import custom_RF as cm\n",
    "from load_dataset import custom_lakedepth as ld\n",
    "from pprint import pprint\n",
    "import matplotlib.pyplot as plt\n",
    "plt.rcParams['figure.figsize'] = [10, 7]\n",
    "from pprint import pprint"
   ]
  },
  {
   "cell_type": "code",
   "execution_count": 2,
   "metadata": {},
   "outputs": [
    {
     "name": "stdout",
     "output_type": "stream",
     "text": [
      " - from DATA: reading csv into GPU memory\n",
      " - from DATA: done reading csv into GPU memory\n",
      " - from DATA: dropped column: FID\n",
      " - from DATA: dropped column: Date\n"
     ]
    },
    {
     "data": {
      "text/html": [
       "<div>\n",
       "<style scoped>\n",
       "    .dataframe tbody tr th:only-of-type {\n",
       "        vertical-align: middle;\n",
       "    }\n",
       "\n",
       "    .dataframe tbody tr th {\n",
       "        vertical-align: top;\n",
       "    }\n",
       "\n",
       "    .dataframe thead th {\n",
       "        text-align: right;\n",
       "    }\n",
       "</style>\n",
       "<table border=\"1\" class=\"dataframe\">\n",
       "  <thead>\n",
       "    <tr style=\"text-align: right;\">\n",
       "      <th></th>\n",
       "      <th>b1_LC8_075</th>\n",
       "      <th>b2_LC8_075</th>\n",
       "      <th>b3_LC8_075</th>\n",
       "      <th>b4_LC8_075</th>\n",
       "      <th>b5_LC8_075</th>\n",
       "      <th>b6_LC8_075</th>\n",
       "    </tr>\n",
       "  </thead>\n",
       "  <tbody>\n",
       "    <tr>\n",
       "      <th>0</th>\n",
       "      <td>164.0</td>\n",
       "      <td>271.0</td>\n",
       "      <td>199.0</td>\n",
       "      <td>42.0</td>\n",
       "      <td>27.0</td>\n",
       "      <td>16.0</td>\n",
       "    </tr>\n",
       "    <tr>\n",
       "      <th>1</th>\n",
       "      <td>165.0</td>\n",
       "      <td>272.0</td>\n",
       "      <td>196.0</td>\n",
       "      <td>44.0</td>\n",
       "      <td>29.0</td>\n",
       "      <td>16.0</td>\n",
       "    </tr>\n",
       "    <tr>\n",
       "      <th>2</th>\n",
       "      <td>154.0</td>\n",
       "      <td>260.0</td>\n",
       "      <td>193.0</td>\n",
       "      <td>40.0</td>\n",
       "      <td>32.0</td>\n",
       "      <td>19.0</td>\n",
       "    </tr>\n",
       "    <tr>\n",
       "      <th>3</th>\n",
       "      <td>156.0</td>\n",
       "      <td>250.0</td>\n",
       "      <td>195.0</td>\n",
       "      <td>48.0</td>\n",
       "      <td>40.0</td>\n",
       "      <td>26.0</td>\n",
       "    </tr>\n",
       "    <tr>\n",
       "      <th>4</th>\n",
       "      <td>117.0</td>\n",
       "      <td>164.0</td>\n",
       "      <td>78.0</td>\n",
       "      <td>38.0</td>\n",
       "      <td>23.0</td>\n",
       "      <td>17.0</td>\n",
       "    </tr>\n",
       "  </tbody>\n",
       "</table>\n",
       "</div>"
      ],
      "text/plain": [
       "   b1_LC8_075  b2_LC8_075  b3_LC8_075  b4_LC8_075  b5_LC8_075  b6_LC8_075\n",
       "0       164.0       271.0       199.0        42.0        27.0        16.0\n",
       "1       165.0       272.0       196.0        44.0        29.0        16.0\n",
       "2       154.0       260.0       193.0        40.0        32.0        19.0\n",
       "3       156.0       250.0       195.0        48.0        40.0        26.0\n",
       "4       117.0       164.0        78.0        38.0        23.0        17.0"
      ]
     },
     "execution_count": 2,
     "metadata": {},
     "output_type": "execute_result"
    }
   ],
   "source": [
    "lake_depth_data = ld.LakeDepth(random_state = 42)\n",
    "\n",
    "# Only take first 6 bands\n",
    "adjusted_columns_idx = lake_depth_data.covariates.columns[:6]\n",
    "lake_depth_data.covariates = lake_depth_data.covariates[adjusted_columns_idx]\n",
    "covariates_train, covariates_test, labels_train, labels_test = lake_depth_data.split(0.20)\n",
    "\n",
    "# Make sure we did it right\n",
    "lake_depth_data.covariates.head(5)"
   ]
  },
  {
   "cell_type": "code",
   "execution_count": 3,
   "metadata": {},
   "outputs": [
    {
     "name": "stdout",
     "output_type": "stream",
     "text": [
      "{'ACCURACY_METRIC': 'mean_ae',\n",
      " 'BOOTSTRAP': False,\n",
      " 'BOOTSTRAP_FEATURES': False,\n",
      " 'MAX_DEPTH': 50,\n",
      " 'MAX_FEATURES': 'sqrt',\n",
      " 'MAX_LEAVES': -1,\n",
      " 'MIN_IMPURITY_DECREASE': 0.0,\n",
      " 'MIN_ROWS_PER_NODE': 2,\n",
      " 'N_BINS': 16,\n",
      " 'N_ESTIMATORS': 1052,\n",
      " 'QUANTILEPT': False,\n",
      " 'ROWS_SAMPLE': 1.0,\n",
      " 'SEED': 42,\n",
      " 'SPLIT_ALGO': 1,\n",
      " 'SPLIT_CRITERION': 2,\n",
      " 'VERBOSE': False}\n"
     ]
    }
   ],
   "source": [
    "# Params for our fancy GPU-based RF model\n",
    "hyperparameters = {'N_ESTIMATORS' : 1052,\n",
    "\t\t\t\t\t   'SPLIT_ALGO' : 1,\n",
    "\t\t\t\t\t   'SPLIT_CRITERION' : 2,\n",
    "\t\t\t\t\t   'BOOTSTRAP' : False,\n",
    "\t\t\t\t\t   'BOOTSTRAP_FEATURES' : False,\n",
    "\t\t\t\t\t   'ROWS_SAMPLE' : 1.0,\n",
    "\t\t\t\t\t   'MAX_DEPTH' : 50,\n",
    "\t\t\t\t\t   'MAX_LEAVES' : -1,\n",
    "\t\t\t\t\t   'MAX_FEATURES' : 'sqrt',\n",
    "\t\t\t\t\t   'N_BINS' : 16,\n",
    "\t\t\t\t\t   'MIN_ROWS_PER_NODE' : 2,\n",
    "\t\t\t\t\t   'MIN_IMPURITY_DECREASE' : 0.0,\n",
    "\t\t\t\t\t   'ACCURACY_METRIC' : 'mean_ae', # 'mse' #'r2' # 'median_aw' # \n",
    "\t\t\t\t\t   'QUANTILEPT' : False,\n",
    "\t\t\t\t\t   'SEED' :  42,\n",
    "\t\t\t\t\t   'VERBOSE' : False\n",
    "\t\t\t\t\t   }\n",
    "pprint(hyperparameters)"
   ]
  },
  {
   "cell_type": "code",
   "execution_count": 4,
   "metadata": {},
   "outputs": [
    {
     "name": "stderr",
     "output_type": "stream",
     "text": [
      "/att/gpfsfs/briskfs01/ppl/cssprad1/projects/rapids_rf_lake_depth/models/custom_RF.py:154: UserWarning: For reproducible results in Random Forest Classifier or for almost reproducible results in Random Forest Regressor, n_streams==1 is recommended. If n_streams is > 1, results may vary due to stream/thread timing differences, even when random_state is set\n",
      "  verbose=param['VERBOSE'])\n"
     ]
    },
    {
     "name": "stdout",
     "output_type": "stream",
     "text": [
      "Time to train:  6.295085191726685\n"
     ]
    }
   ],
   "source": [
    "import time\n",
    "rf_model_bands_one_six = cm.cuRF(hyperparameters)\n",
    "st = time.time()\n",
    "rf_model_bands_one_six.train(covariates_train, labels_train)\n",
    "et = time.time()\n",
    "print(\"Time to train: \", et-st)"
   ]
  },
  {
   "cell_type": "code",
   "execution_count": 5,
   "metadata": {},
   "outputs": [
    {
     "name": "stdout",
     "output_type": "stream",
     "text": [
      "Scores ------\n",
      " MAE:  0.563588\n",
      "  r2:  0.6421920905381562\n",
      " MSE:  1.3636352\n"
     ]
    }
   ],
   "source": [
    "predictions, _, _, _ = rf_model_bands_one_six.get_metrics(covariates_test, labels_test)"
   ]
  },
  {
   "cell_type": "code",
   "execution_count": 6,
   "metadata": {},
   "outputs": [
    {
     "name": "stdout",
     "output_type": "stream",
     "text": [
      "Variables: b6_LC8_075           Importance: -0.27734\n",
      "Variables: b5_LC8_075           Importance: -0.32161\n",
      "Variables: b2_LC8_075           Importance: -0.39602\n",
      "Variables: b4_LC8_075           Importance: -0.56455\n",
      "Variables: b1_LC8_075           Importance: -0.74304\n",
      "Variables: b3_LC8_075           Importance: -0.90728\n"
     ]
    },
    {
     "data": {
      "image/png": "[encoded data removed]",
      "text/plain": [
       "<Figure size 1440x576 with 1 Axes>"
      ]
     },
     "metadata": {
      "needs_background": "light"
     },
     "output_type": "display_data"
    }
   ],
   "source": [
    "rf_model_bands_one_six.feature_importances(covariates_train, labels_train, show = False)"
   ]
  },
  {
   "cell_type": "markdown",
   "metadata": {},
   "source": [
    "## Hard-code the permutation_importance to check for errors"
   ]
  },
  {
   "cell_type": "code",
   "execution_count": 10,
   "metadata": {},
   "outputs": [],
   "source": [
    "from sklearn.inspection import permutation_importance\n",
    "result = permutation_importance(rf_model_bands_one_six.model, \n",
    "                                covariates_train, \n",
    "                                labels_train, \n",
    "                                n_repeats=5, \n",
    "                                random_state=42)"
   ]
  },
  {
   "cell_type": "code",
   "execution_count": 21,
   "metadata": {},
   "outputs": [
    {
     "name": "stdout",
     "output_type": "stream",
     "text": [
      "Feature: 0, Score: -0.27879\n",
      "Feature: 1, Score: -0.32295\n",
      "Feature: 2, Score: -0.39373\n",
      "Feature: 3, Score: -0.56305\n",
      "Feature: 4, Score: -0.73796\n",
      "Feature: 5, Score: -0.90151\n"
     ]
    },
    {
     "data": {
      "image/png": "[encoded data removed]",
      "text/plain": [
       "<Figure size 1440x576 with 1 Axes>"
      ]
     },
     "metadata": {
      "needs_background": "light"
     },
     "output_type": "display_data"
    },
    {
     "name": "stdout",
     "output_type": "stream",
     "text": [
      "Importances_mean:  [-0.73795779 -0.3937282  -0.90150766 -0.56305225 -0.32295171 -0.27878996]\n",
      "Importances_std:  [0.00768603 0.00098691 0.00635885 0.00413913 0.00305672 0.00158862]\n"
     ]
    }
   ],
   "source": [
    "import numpy as np\n",
    "sorted_idx = result.importances_mean.argsort()\n",
    "sorted_idx = np.flip(sorted_idx)\n",
    "importance = result.importances_mean\n",
    "for i, v in enumerate(importance[sorted_idx]):\n",
    "    print('Feature: %0d, Score: %.5f' %(i, v))\n",
    "plt.figure(figsize=(20, 8))\n",
    "plt.bar([x for x in range(len(importance))], importance[sorted_idx])\n",
    "plt.xticks(range(len(importance)), list(covariates_train.columns[sorted_idx]))\n",
    "plt.title(\"Mean Permutation_importance n_iters=5\")\n",
    "plt.show()\n",
    "print(\"Importances_mean: \",result.importances_mean)\n",
    "print(\"Importances_std: \",result.importances_std)"
   ]
  },
  {
   "cell_type": "code",
   "execution_count": null,
   "metadata": {},
   "outputs": [],
   "source": []
  },
  {
   "cell_type": "code",
   "execution_count": 7,
   "metadata": {},
   "outputs": [
    {
     "data": {
      "image/png": "[encoded data removed]",
      "text/plain": [
       "<Figure size 720x504 with 1 Axes>"
      ]
     },
     "metadata": {
      "needs_background": "light"
     },
     "output_type": "display_data"
    }
   ],
   "source": [
    "plt.scatter(labels_test.to_array(), predictions.to_array())\n",
    "plt.xlabel(\"Actual Depth: $Y_i$\")\n",
    "plt.ylabel(\"Predicted Depth: $\\hat{Y}_i$\")\n",
    "plt.title(\"Actual lake depth vs. Predicted Depth: $Y_i$ vs $\\hat{Y}_i$\")\n",
    "plt.show()"
   ]
  },
  {
   "cell_type": "markdown",
   "metadata": {},
   "source": [
    "### Random sampling to compare actual vs predicted values"
   ]
  },
  {
   "cell_type": "code",
   "execution_count": 8,
   "metadata": {},
   "outputs": [
    {
     "name": "stdout",
     "output_type": "stream",
     "text": [
      "Data-point:  2923 Actual:    1.874500036239624 Predicted:   1.3000214099884033\n",
      "Data-point:   779 Actual:   1.6454700231552124 Predicted:   1.6088783740997314\n",
      "Data-point:   246 Actual:   1.2772300243377686 Predicted:    1.425452470779419\n",
      "Data-point:  2652 Actual:    2.314539909362793 Predicted:    2.460891008377075\n",
      "Data-point:   687 Actual:   1.8826700448989868 Predicted:   2.1907904148101807\n",
      "Data-point:  4390 Actual:   1.5405399799346924 Predicted:   1.4659477472305298\n",
      "Data-point:  4524 Actual:    1.715250015258789 Predicted:   1.7018545866012573\n",
      "Data-point:  4394 Actual:    2.182539939880371 Predicted:   2.3599331378936768\n",
      "Data-point:  1404 Actual:   2.4341399669647217 Predicted:   2.3712589740753174\n",
      "Data-point:  1486 Actual:    4.451920032501221 Predicted:   2.2208077907562256\n",
      "Data-point:   364 Actual:    0.642857015132904 Predicted:   0.6927602291107178\n",
      "Data-point:  1694 Actual:   16.338899612426758 Predicted:   15.707343101501465\n",
      "Data-point:  2157 Actual:   2.8682401180267334 Predicted:    2.021144151687622\n",
      "Data-point:  1903 Actual:    1.861199975013733 Predicted:   1.8151980638504028\n",
      "Data-point:  3432 Actual:   2.1046199798583984 Predicted:    2.067405939102173\n",
      "Data-point:  3506 Actual:   3.1263198852539062 Predicted:    3.045802116394043\n",
      "Data-point:  2481 Actual:   1.4060900211334229 Predicted:   1.3710590600967407\n",
      "Data-point:  2028 Actual:   0.5387269854545593 Predicted:   1.0455881357192993\n",
      "Data-point:  3696 Actual:   1.7276699542999268 Predicted:   2.8318183422088623\n",
      "Data-point:  3070 Actual:    5.712699890136719 Predicted:    5.116818428039551\n"
     ]
    }
   ],
   "source": [
    "# Lets look at a random sample of datapoints to see the actual vs predicted depths\n",
    "import random\n",
    "for i in range(20):\n",
    "    random_data_point = random.randint(0, 4635)\n",
    "    print('Data-point: {:5} Actual: {:20} Predicted: {:20}'.format(random_data_point, labels_test.to_array()[random_data_point],\n",
    "                                               predictions.to_array()[random_data_point]))"
   ]
  }
 ],
 "metadata": {
  "kernelspec": {
   "display_name": "Python [conda env:.conda-rapids-0.16]",
   "language": "python",
   "name": "conda-env-.conda-rapids-0.16-py"
  },
  "language_info": {
   "codemirror_mode": {
    "name": "ipython",
    "version": 3
   },
   "file_extension": ".py",
   "mimetype": "text/x-python",
   "name": "python",
   "nbconvert_exporter": "python",
   "pygments_lexer": "ipython3",
   "version": "3.7.8"
  }
 },
 "nbformat": 4,
 "nbformat_minor": 4
}
