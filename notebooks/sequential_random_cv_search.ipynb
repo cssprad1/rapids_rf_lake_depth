{
 "cells": [
  {
   "cell_type": "code",
   "execution_count": 1,
   "metadata": {},
   "outputs": [],
   "source": [
    "# Import sytem and python modules\n",
    "\n",
    "import os\n",
    "import time\n",
    "import random\n",
    "from pprint import pprint\n",
    "import numpy as np\n",
    "import cupy as cp\n",
    "from pprint import pprint\n",
    "# Import RAPIDS specific modules\n",
    "\n",
    "import cudf as df\n",
    "import cuml\n",
    "from cuml import train_test_split\n",
    "from cuml.metrics.regression import r2_score as r2d2\n",
    "from cuml.ensemble import RandomForestRegressor as clRF\n",
    "\n",
    "# Import sklearn specific modules\n",
    "from sklearn.model_selection import KFold\n",
    "from sklearn.inspection import permutation_importance\n",
    "from sklearn.model_selection import RandomizedSearchCV\n",
    "from sklearn.metrics import mean_absolute_error, r2_score, mean_squared_error\n",
    "# Import data-visualization modules\n",
    "\n",
    "import matplotlib.pyplot as plt"
   ]
  },
  {
   "cell_type": "code",
   "execution_count": 2,
   "metadata": {},
   "outputs": [
    {
     "data": {
      "text/html": [
       "<div>\n",
       "<style scoped>\n",
       "    .dataframe tbody tr th:only-of-type {\n",
       "        vertical-align: middle;\n",
       "    }\n",
       "\n",
       "    .dataframe tbody tr th {\n",
       "        vertical-align: top;\n",
       "    }\n",
       "\n",
       "    .dataframe thead th {\n",
       "        text-align: right;\n",
       "    }\n",
       "</style>\n",
       "<table border=\"1\" class=\"dataframe\">\n",
       "  <thead>\n",
       "    <tr style=\"text-align: right;\">\n",
       "      <th></th>\n",
       "      <th>Depth_m</th>\n",
       "      <th>b1_LC8_075</th>\n",
       "      <th>b2_LC8_075</th>\n",
       "      <th>b3_LC8_075</th>\n",
       "      <th>b4_LC8_075</th>\n",
       "      <th>b5_LC8_075</th>\n",
       "      <th>b6_LC8_075</th>\n",
       "      <th>b7_LC8_075</th>\n",
       "      <th>b8_LC8_075</th>\n",
       "      <th>b9_LC8_075</th>\n",
       "      <th>...</th>\n",
       "      <th>b26_LC8_07</th>\n",
       "      <th>b27_LC8_07</th>\n",
       "      <th>b28_LC8_07</th>\n",
       "      <th>b29_LC8_07</th>\n",
       "      <th>b30_LC8_07</th>\n",
       "      <th>b31_LC8_07</th>\n",
       "      <th>b32_LC8_07</th>\n",
       "      <th>b33_LC8_07</th>\n",
       "      <th>b34_LC8_07</th>\n",
       "      <th>b35_LC8_07</th>\n",
       "    </tr>\n",
       "  </thead>\n",
       "  <tbody>\n",
       "    <tr>\n",
       "      <th>0</th>\n",
       "      <td>0.630000</td>\n",
       "      <td>164</td>\n",
       "      <td>271</td>\n",
       "      <td>199</td>\n",
       "      <td>42</td>\n",
       "      <td>27</td>\n",
       "      <td>16</td>\n",
       "      <td>605</td>\n",
       "      <td>824</td>\n",
       "      <td>3905</td>\n",
       "      <td>...</td>\n",
       "      <td>2625</td>\n",
       "      <td>165</td>\n",
       "      <td>100</td>\n",
       "      <td>136</td>\n",
       "      <td>643</td>\n",
       "      <td>98</td>\n",
       "      <td>59</td>\n",
       "      <td>80</td>\n",
       "      <td>381</td>\n",
       "      <td>593</td>\n",
       "    </tr>\n",
       "    <tr>\n",
       "      <th>1</th>\n",
       "      <td>0.672727</td>\n",
       "      <td>165</td>\n",
       "      <td>272</td>\n",
       "      <td>196</td>\n",
       "      <td>44</td>\n",
       "      <td>29</td>\n",
       "      <td>16</td>\n",
       "      <td>607</td>\n",
       "      <td>842</td>\n",
       "      <td>3750</td>\n",
       "      <td>...</td>\n",
       "      <td>2750</td>\n",
       "      <td>176</td>\n",
       "      <td>107</td>\n",
       "      <td>148</td>\n",
       "      <td>659</td>\n",
       "      <td>97</td>\n",
       "      <td>59</td>\n",
       "      <td>82</td>\n",
       "      <td>364</td>\n",
       "      <td>552</td>\n",
       "    </tr>\n",
       "    <tr>\n",
       "      <th>2</th>\n",
       "      <td>0.670588</td>\n",
       "      <td>154</td>\n",
       "      <td>260</td>\n",
       "      <td>193</td>\n",
       "      <td>40</td>\n",
       "      <td>32</td>\n",
       "      <td>19</td>\n",
       "      <td>592</td>\n",
       "      <td>798</td>\n",
       "      <td>3850</td>\n",
       "      <td>...</td>\n",
       "      <td>2105</td>\n",
       "      <td>208</td>\n",
       "      <td>123</td>\n",
       "      <td>166</td>\n",
       "      <td>800</td>\n",
       "      <td>123</td>\n",
       "      <td>73</td>\n",
       "      <td>98</td>\n",
       "      <td>475</td>\n",
       "      <td>594</td>\n",
       "    </tr>\n",
       "    <tr>\n",
       "      <th>3</th>\n",
       "      <td>0.822222</td>\n",
       "      <td>156</td>\n",
       "      <td>250</td>\n",
       "      <td>195</td>\n",
       "      <td>48</td>\n",
       "      <td>40</td>\n",
       "      <td>26</td>\n",
       "      <td>624</td>\n",
       "      <td>800</td>\n",
       "      <td>3250</td>\n",
       "      <td>...</td>\n",
       "      <td>1846</td>\n",
       "      <td>256</td>\n",
       "      <td>160</td>\n",
       "      <td>205</td>\n",
       "      <td>833</td>\n",
       "      <td>167</td>\n",
       "      <td>104</td>\n",
       "      <td>133</td>\n",
       "      <td>542</td>\n",
       "      <td>650</td>\n",
       "    </tr>\n",
       "    <tr>\n",
       "      <th>4</th>\n",
       "      <td>1.725000</td>\n",
       "      <td>117</td>\n",
       "      <td>164</td>\n",
       "      <td>78</td>\n",
       "      <td>38</td>\n",
       "      <td>23</td>\n",
       "      <td>17</td>\n",
       "      <td>713</td>\n",
       "      <td>1500</td>\n",
       "      <td>3079</td>\n",
       "      <td>...</td>\n",
       "      <td>2235</td>\n",
       "      <td>197</td>\n",
       "      <td>140</td>\n",
       "      <td>295</td>\n",
       "      <td>605</td>\n",
       "      <td>145</td>\n",
       "      <td>104</td>\n",
       "      <td>218</td>\n",
       "      <td>447</td>\n",
       "      <td>739</td>\n",
       "    </tr>\n",
       "  </tbody>\n",
       "</table>\n",
       "<p>5 rows × 36 columns</p>\n",
       "</div>"
      ],
      "text/plain": [
       "    Depth_m  b1_LC8_075  b2_LC8_075  b3_LC8_075  b4_LC8_075  b5_LC8_075  \\\n",
       "0  0.630000         164         271         199          42          27   \n",
       "1  0.672727         165         272         196          44          29   \n",
       "2  0.670588         154         260         193          40          32   \n",
       "3  0.822222         156         250         195          48          40   \n",
       "4  1.725000         117         164          78          38          23   \n",
       "\n",
       "   b6_LC8_075  b7_LC8_075  b8_LC8_075  b9_LC8_075  ...  b26_LC8_07  \\\n",
       "0          16         605         824        3905  ...        2625   \n",
       "1          16         607         842        3750  ...        2750   \n",
       "2          19         592         798        3850  ...        2105   \n",
       "3          26         624         800        3250  ...        1846   \n",
       "4          17         713        1500        3079  ...        2235   \n",
       "\n",
       "   b27_LC8_07  b28_LC8_07  b29_LC8_07  b30_LC8_07  b31_LC8_07  b32_LC8_07  \\\n",
       "0         165         100         136         643          98          59   \n",
       "1         176         107         148         659          97          59   \n",
       "2         208         123         166         800         123          73   \n",
       "3         256         160         205         833         167         104   \n",
       "4         197         140         295         605         145         104   \n",
       "\n",
       "   b33_LC8_07  b34_LC8_07  b35_LC8_07  \n",
       "0          80         381         593  \n",
       "1          82         364         552  \n",
       "2          98         475         594  \n",
       "3         133         542         650  \n",
       "4         218         447         739  \n",
       "\n",
       "[5 rows x 36 columns]"
      ]
     },
     "execution_count": 2,
     "metadata": {},
     "output_type": "execute_result"
    }
   ],
   "source": [
    "FEATURES_PATH = 'load_dataset/LakeDepth/pts_merged_final.csv'\n",
    "DEPTH = 'Depth_m'\n",
    "DATE = 'Date'\n",
    "FID = 'FID'\n",
    "\n",
    "TEST_SIZE = 0.2\n",
    "RANDOM_STATE = 42\n",
    "\n",
    "# Load everything into GPU-based DF\n",
    "lakes_depth_df = df.read_csv(FEATURES_PATH)\n",
    "lakes_depth_nd = lakes_depth_df.drop(['FID', 'Date'], axis = 1)\n",
    "lakes_depth_nd.head(5)"
   ]
  },
  {
   "cell_type": "code",
   "execution_count": 3,
   "metadata": {},
   "outputs": [
    {
     "data": {
      "text/plain": [
       "0    0.630000\n",
       "1    0.672727\n",
       "2    0.670588\n",
       "3    0.822222\n",
       "4    1.725000\n",
       "Name: Depth_m, dtype: float64"
      ]
     },
     "execution_count": 3,
     "metadata": {},
     "output_type": "execute_result"
    }
   ],
   "source": [
    "# Make our acutal_predictions i.e. labels and our covariates dataframes\n",
    "labels = lakes_depth_nd['Depth_m']\n",
    "covariates = lakes_depth_nd.drop(['Depth_m'], axis=1)\n",
    "\n",
    "# Check to ensure everything looks good\n",
    "labels.head(5)"
   ]
  },
  {
   "cell_type": "code",
   "execution_count": 4,
   "metadata": {},
   "outputs": [],
   "source": [
    "# Make sure we change all our covariate and label data to float32\n",
    "\n",
    "labels = labels.astype(cp.float32)\n",
    "covariates = covariates.astype(cp.float32)"
   ]
  },
  {
   "cell_type": "code",
   "execution_count": 5,
   "metadata": {},
   "outputs": [],
   "source": [
    "cv_train, cv_test, labels_train, labels_test = train_test_split(covariates, labels,\n",
    "                                                               test_size=TEST_SIZE, random_state=RANDOM_STATE)"
   ]
  },
  {
   "cell_type": "code",
   "execution_count": 6,
   "metadata": {},
   "outputs": [
    {
     "name": "stdout",
     "output_type": "stream",
     "text": [
      "{'bootstrap': [True, False],\n",
      " 'max_depth': [10, 20, 30, 40, 50, 60, 70, 80, 90, 100, 110],\n",
      " 'max_features': ['auto', 'sqrt'],\n",
      " 'n_bins': [5, 6, 8, 10, 11, 13, 15, 16, 18, 20],\n",
      " 'n_estimators': [200, 400, 600, 800, 1000, 1200, 1400, 1600, 1800, 2000]}\n"
     ]
    }
   ],
   "source": [
    "N_ESTIMATORS = [int(x) for x in np.linspace(start=200, stop=2000, num=10)]\n",
    "SPLIT_ALGO = 1\n",
    "SPLIT_CRITERION = 2\n",
    "BOOTSTRAP = [True, False]\n",
    "BOOTSTRAP_FEATURES = False\n",
    "ROWS_SAMPLE = 1.0\n",
    "MAX_DEPTH = [int(x) for x in np.linspace(10, 110, num=11)]\n",
    "MAX_LEAVES = -1\n",
    "MAX_FEATURES = ['auto', 'sqrt']\n",
    "N_BINS = [int(x) for x in np.linspace(start=5, stop=20, num=10)]\n",
    "MIN_ROWS_PER_NODE = 2\n",
    "MIN_IMPURITY_DECREASE = 0.0\n",
    "ACCURACY_METRIC = 'mean_ae'  # 'mse' #'r2' # 'median_aw' #\n",
    "QUANTILEPT = False\n",
    "SEED = 42\n",
    "VERBOSE = False\n",
    "\n",
    "random_grid = {'n_estimators': N_ESTIMATORS,\n",
    "               'max_depth': MAX_DEPTH,\n",
    "               'bootstrap': BOOTSTRAP,\n",
    "               'max_features': MAX_FEATURES,\n",
    "               'n_bins': N_BINS}\n",
    "\n",
    "pprint(random_grid)"
   ]
  },
  {
   "cell_type": "code",
   "execution_count": 7,
   "metadata": {},
   "outputs": [],
   "source": [
    "rf = clRF()"
   ]
  },
  {
   "cell_type": "code",
   "execution_count": 8,
   "metadata": {},
   "outputs": [],
   "source": [
    "rf_random = RandomizedSearchCV(estimator = rf, \n",
    "                               param_distributions = random_grid, \n",
    "                               n_iter = 5, \n",
    "                               cv = 3, \n",
    "                               verbose=2, \n",
    "                               random_state=42,\n",
    "                               n_jobs = -1)"
   ]
  },
  {
   "cell_type": "code",
   "execution_count": 9,
   "metadata": {},
   "outputs": [
    {
     "name": "stdout",
     "output_type": "stream",
     "text": [
      "Fitting 3 folds for each of 5 candidates, totalling 15 fits\n"
     ]
    },
    {
     "name": "stderr",
     "output_type": "stream",
     "text": [
      "[Parallel(n_jobs=-1)]: Using backend LokyBackend with 48 concurrent workers.\n",
      "[Parallel(n_jobs=-1)]: Done   8 out of  15 | elapsed:  5.5min remaining:  4.8min\n",
      "[Parallel(n_jobs=-1)]: Done  15 out of  15 | elapsed:  7.1min finished\n"
     ]
    },
    {
     "data": {
      "text/plain": [
       "RandomizedSearchCV(cv=3,\n",
       "                   estimator=RandomForestRegressor(n_estimators=100, max_depth=16, handle=<cuml.common.handle.Handle object at 0x7f96873d6d70>, max_features='auto', n_bins=8, n_streams=8, split_algo=1, split_criterion=2, bootstrap=True, bootstrap_features=False, verbose=2, min_rows_per_node=2, rows_sample=1.0, max_leaves=-1, accuracy_metric='mse', output_type='input', dtype=None, min_impurity_decrease=0.0, quantile_per_tree=False, seed=None),\n",
       "                   n_iter=5, n_jobs=-1,\n",
       "                   param_distributions={'bootstrap': [True, False],\n",
       "                                        'max_depth': [10, 20, 30, 40, 50, 60,\n",
       "                                                      70, 80, 90, 100, 110],\n",
       "                                        'max_features': ['auto', 'sqrt'],\n",
       "                                        'n_bins': [5, 6, 8, 10, 11, 13, 15, 16,\n",
       "                                                   18, 20],\n",
       "                                        'n_estimators': [200, 400, 600, 800,\n",
       "                                                         1000, 1200, 1400, 1600,\n",
       "                                                         1800, 2000]},\n",
       "                   random_state=42, verbose=2)"
      ]
     },
     "execution_count": 9,
     "metadata": {},
     "output_type": "execute_result"
    }
   ],
   "source": [
    "rf_random.fit(cv_train, labels_train)"
   ]
  },
  {
   "cell_type": "code",
   "execution_count": 10,
   "metadata": {},
   "outputs": [
    {
     "data": {
      "text/plain": [
       "{'n_estimators': 1000,\n",
       " 'n_bins': 11,\n",
       " 'max_features': 'auto',\n",
       " 'max_depth': 70,\n",
       " 'bootstrap': False}"
      ]
     },
     "execution_count": 10,
     "metadata": {},
     "output_type": "execute_result"
    }
   ],
   "source": [
    "rf_random.best_params_"
   ]
  },
  {
   "cell_type": "code",
   "execution_count": 11,
   "metadata": {},
   "outputs": [],
   "source": [
    "def evaluate(model, test_features, test_labels):\n",
    "    predictions = model.predict(test_features)\n",
    "    mae_score = mean_absolute_error(test_labels.to_pandas(), predictions.to_pandas())\n",
    "    r2 = r2_score(test_labels.to_pandas(), predictions.to_pandas())\n",
    "    mse_score = mean_squared_error(test_labels.to_pandas(), predictions.to_pandas())\n",
    "    print('Mean Absolute Error: {:0.4f} meters.'.format(mae_score))\n",
    "    print('Mean Squared Error: {:0.4f}'.format(mse_score))\n",
    "    print('r2 score: {:0.4f}'.format(r2))\n",
    "    return mae_score"
   ]
  },
  {
   "cell_type": "code",
   "execution_count": 14,
   "metadata": {},
   "outputs": [
    {
     "name": "stdout",
     "output_type": "stream",
     "text": [
      "Mean Absolute Error: 0.4693 meters.\n",
      "Mean Squared Error: 0.8310\n",
      "r2 score: 0.7368\n"
     ]
    }
   ],
   "source": [
    "base_model = clRF(n_estimators = 200)\n",
    "base_model.fit(cv_train, labels_train)\n",
    "base_accuracy = evaluate(base_model, cv_test, labels_test)\n"
   ]
  },
  {
   "cell_type": "code",
   "execution_count": 15,
   "metadata": {},
   "outputs": [
    {
     "name": "stdout",
     "output_type": "stream",
     "text": [
      "Mean Absolute Error: 0.5584 meters.\n",
      "Mean Squared Error: 1.4277\n",
      "r2 score: 0.5477\n"
     ]
    }
   ],
   "source": [
    "best_random = rf_random.best_estimator_\n",
    "random_accuracy = evaluate(best_random, cv_test, labels_test)"
   ]
  },
  {
   "cell_type": "code",
   "execution_count": null,
   "metadata": {},
   "outputs": [],
   "source": [
    "# Lets look at a random sample of datapoints to see the actual vs predicted depths\n",
    "for i in range(20):\n",
    "    random_data_point = random.randint(4635)\n",
    "    print('Actual: {:20} Predicted: {}'.format(labels_test.to_array()[random_data_point],\n",
    "                                               model_0_predictions.to_array()[random_data_point]))"
   ]
  }
 ],
 "metadata": {
  "kernelspec": {
   "display_name": "Python [conda env:.conda-myRapids]",
   "language": "python",
   "name": "conda-env-.conda-myRapids-py"
  },
  "language_info": {
   "codemirror_mode": {
    "name": "ipython",
    "version": 3
   },
   "file_extension": ".py",
   "mimetype": "text/x-python",
   "name": "python",
   "nbconvert_exporter": "python",
   "pygments_lexer": "ipython3",
   "version": "3.7.8"
  }
 },
 "nbformat": 4,
 "nbformat_minor": 4
}
