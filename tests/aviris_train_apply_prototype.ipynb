{
 "cells": [
  {
   "cell_type": "markdown",
   "metadata": {},
   "source": [
    "# Aviris 2020 random forest model training and testing"
   ]
  },
  {
   "cell_type": "code",
   "execution_count": 1,
   "metadata": {},
   "outputs": [],
   "source": [
    "import os\n",
    "import time\n",
    "from pprint import pprint\n",
    "\n",
    "import numpy as np\n",
    "import cupy\n",
    "\n",
    "from models.custom_RF import cuRF\n",
    "from load_dataset.aviris_dataset import Aviris\n",
    "from src.k_fold_train import k_fold_train\n",
    "from src import apply_model_to_raster as amr"
   ]
  },
  {
   "cell_type": "markdown",
   "metadata": {},
   "source": [
    "## Control Panel"
   ]
  },
  {
   "cell_type": "code",
   "execution_count": 4,
   "metadata": {},
   "outputs": [],
   "source": [
    "# Data sampling\n",
    "NTH_BAND = 10 # Sample every N-th band from dataset\n",
    "START_INDEX = 0 # Index to start nth band sampling\n",
    "PATH = '/att/nobackup/maronne/AVIRIS_2020/stacks/' # Path to raster stacks to be predicted\n"
   ]
  },
  {
   "cell_type": "markdown",
   "metadata": {},
   "source": [
    "## Data preprocessing"
   ]
  },
  {
   "cell_type": "code",
   "execution_count": 5,
   "metadata": {},
   "outputs": [
    {
     "name": "stdout",
     "output_type": "stream",
     "text": [
      " - from DATA: reading csv into GPU memory\n",
      " - from DATA: done reading csv into GPU memory\n",
      "Index(['b36_ang201', 'b46_ang201', 'b56_ang201', 'b66_ang201', 'b76_ang201',\n",
      "       'b86_ang201', 'b96_ang201', 'b106_ang20', 'b116_ang20', 'b126_ang20',\n",
      "       'b136_ang20', 'b146_ang20', 'b156_ang20', 'b166_ang20', 'b176_ang20',\n",
      "       'b186_ang20', 'b196_ang20', 'b206_ang20', 'b216_ang20', 'b226_ang20',\n",
      "       'b236_ang20', 'b246_ang20', 'b256_ang20', 'b266_ang20', 'b276_ang20',\n",
      "       'b286_ang20', 'b296_ang20', 'b306_ang20', 'b316_ang20', 'b326_ang20',\n",
      "       'b336_ang20', 'b346_ang20', 'b356_ang20', 'b366_ang20', 'b376_ang20',\n",
      "       'b386_ang20', 'b396_ang20', 'b406_ang20', 'b416_ang20'],\n",
      "      dtype='object')\n"
     ]
    }
   ],
   "source": [
    "aviris_dataset = Aviris()\n",
    "aviris_dataset.nth_row_sampling(START_INDEX, NTH_BAND)\n",
    "print(aviris_dataset.covariates.columns)\n",
    "aviris_dataset.split(0.10)\n",
    "\n",
    "# You can verify below that it samples the correct bands"
   ]
  },
  {
   "cell_type": "markdown",
   "metadata": {},
   "source": [
    "## Hyperparameters for the random forest model\n",
    "\n",
    "Change as you see fit"
   ]
  },
  {
   "cell_type": "code",
   "execution_count": 6,
   "metadata": {},
   "outputs": [],
   "source": [
    "hyperparameters = {'N_ESTIMATORS': 1052,\n",
    "                         'SPLIT_ALGO': 1,\n",
    "                         'SPLIT_CRITERION': 2,\n",
    "                         'BOOTSTRAP': True,\n",
    "                         'BOOTSTRAP_FEATURES': False,\n",
    "                         'ROWS_SAMPLE': 1.0,\n",
    "                         'MAX_DEPTH': 30,\n",
    "                         'MAX_LEAVES': -1,\n",
    "                         'MAX_FEATURES': 'auto',\n",
    "                         'N_BINS': 6,\n",
    "                         'MIN_ROWS_PER_NODE': 2,\n",
    "                         'MIN_IMPURITY_DECREASE': 0.0,\n",
    "                         'ACCURACY_METRIC': 'mean_ae',  # 'mse' #'r2' # 'median_aw' #\n",
    "                         'QUANTILEPT': False,\n",
    "                         'SEED':  42,\n",
    "                         'VERBOSE': False\n",
    "                         }"
   ]
  },
  {
   "cell_type": "markdown",
   "metadata": {},
   "source": [
    "## Random forest model\n",
    "- Initialization\n",
    "- Training\n",
    "- Metrics gathering"
   ]
  },
  {
   "cell_type": "code",
   "execution_count": 7,
   "metadata": {},
   "outputs": [
    {
     "name": "stderr",
     "output_type": "stream",
     "text": [
      "/att/gpfsfs/briskfs01/ppl/cssprad1/projects/rapids_rf_lake_depth/models/custom_RF.py:154: UserWarning: For reproducible results in Random Forest Classifier or for almost reproducible results in Random Forest Regressor, n_streams==1 is recommended. If n_streams is > 1, results may vary due to stream/thread timing differences, even when random_state is set\n",
      "  verbose=param['VERBOSE'])\n"
     ]
    }
   ],
   "source": [
    "rf_0 = cuRF(hyperparameters)"
   ]
  },
  {
   "cell_type": "markdown",
   "metadata": {},
   "source": [
    "We're going to use k_fold validation training to ensure some sort of protection against overfitting"
   ]
  },
  {
   "cell_type": "code",
   "execution_count": 8,
   "metadata": {},
   "outputs": [
    {
     "name": "stdout",
     "output_type": "stream",
     "text": [
      "   - from RS_CV: Fold #: 0\n",
      "   - from RS_CV: time to train (sec): 5.188384056091309\n",
      "   - from RS_CV: Score: 1.4465113832845464\n",
      "   - from RS_CV: Fold #: 1\n",
      "   - from RS_CV: time to train (sec): 3.935577869415283\n",
      "   - from RS_CV: Score: 1.4798963479476983\n",
      " - from k_fold: time to train and eval: 14.882799625396729\n"
     ]
    }
   ],
   "source": [
    "rf_0 = k_fold_train(2, rf_0, aviris_dataset.covariates_train, aviris_dataset.labels_train)\n",
    "#rf_0.train(aviris_dataset.covariates, aviris_dataset.labels_train)"
   ]
  },
  {
   "cell_type": "code",
   "execution_count": 9,
   "metadata": {},
   "outputs": [
    {
     "name": "stdout",
     "output_type": "stream",
     "text": [
      "Scores ------\n",
      " MAE:  0.27725598\n",
      "  r2:  0.8135172818188533\n",
      " MSE:  0.6662468\n"
     ]
    },
    {
     "data": {
      "text/plain": [
       "(0      1.298750\n",
       " 1      1.813153\n",
       " 2      1.722613\n",
       " 3      0.801375\n",
       " 4      0.703305\n",
       "          ...   \n",
       " 670    1.682699\n",
       " 671    1.334512\n",
       " 672    1.646680\n",
       " 673    1.519925\n",
       " 674    0.764098\n",
       " Length: 675, dtype: float32,\n",
       " 0.27725598,\n",
       " 0.8135172818188533,\n",
       " 0.6662468)"
      ]
     },
     "execution_count": 9,
     "metadata": {},
     "output_type": "execute_result"
    }
   ],
   "source": [
    "rf_0.get_metrics(aviris_dataset.covariates_test, aviris_dataset.labels_test)"
   ]
  },
  {
   "cell_type": "markdown",
   "metadata": {},
   "source": [
    "# Raster processing\n",
    "- Raster loading\n",
    "- Reshaping to model-friendly format\n",
    "- Batch prediction\n",
    "- Writing predictions out as tif"
   ]
  },
  {
   "cell_type": "code",
   "execution_count": 10,
   "metadata": {},
   "outputs": [
    {
     "name": "stdout",
     "output_type": "stream",
     "text": [
      "ang20170709t224222_corr_v2p9.tif\n"
     ]
    }
   ],
   "source": [
    "TIF_FILES = list(amr.list_files(PATH, 'tif'))\n",
    "print(TIF_FILES[3])"
   ]
  },
  {
   "cell_type": "code",
   "execution_count": 11,
   "metadata": {},
   "outputs": [
    {
     "name": "stdout",
     "output_type": "stream",
     "text": [
      "/att/nobackup/maronne/AVIRIS_2020/stacks/ang20170709t224222_corr_v2p9.tif\n",
      "(3103, 3421, 425, Affine(5.0999999999998975, 0.0, 576931.114813,\n",
      "       0.0, -5.0999999999998975, 7915247.221175592), CRS.from_epsg(32604), -9999.0)\n"
     ]
    }
   ],
   "source": [
    "img_nd_array, img_nd_array_properties = amr.get_array_from_raster(PATH, TIF_FILES[3])\n",
    "print(img_nd_array_properties)"
   ]
  },
  {
   "cell_type": "code",
   "execution_count": 12,
   "metadata": {},
   "outputs": [
    {
     "name": "stdout",
     "output_type": "stream",
     "text": [
      "(3421, 3103, 425)\n"
     ]
    }
   ],
   "source": [
    "print(img_nd_array.shape)"
   ]
  },
  {
   "cell_type": "code",
   "execution_count": 13,
   "metadata": {},
   "outputs": [],
   "source": [
    "img_nd_array1 = amr.change_img_shape(img_nd_array)"
   ]
  },
  {
   "cell_type": "code",
   "execution_count": 14,
   "metadata": {},
   "outputs": [
    {
     "name": "stdout",
     "output_type": "stream",
     "text": [
      "(10615363, 425)\n"
     ]
    }
   ],
   "source": [
    "print(img_nd_array1.shape)"
   ]
  },
  {
   "cell_type": "code",
   "execution_count": 15,
   "metadata": {},
   "outputs": [],
   "source": [
    "img_nd_array2 = img_nd_array1[:, 36+START_INDEX::NTH_BAND]"
   ]
  },
  {
   "cell_type": "code",
   "execution_count": 16,
   "metadata": {},
   "outputs": [
    {
     "data": {
      "text/plain": [
       "(10615363, 39)"
      ]
     },
     "execution_count": 16,
     "metadata": {},
     "output_type": "execute_result"
    }
   ],
   "source": [
    "img_nd_array2.shape\n",
    "#print(np.array_split(img_nd_array2, 10).shape)"
   ]
  },
  {
   "cell_type": "code",
   "execution_count": 17,
   "metadata": {},
   "outputs": [],
   "source": [
    "prediction_raster = amr.map_apply_reduce_pandas(img_nd_array2, rf_0, img_nd_array[:, :, 0].shape)"
   ]
  },
  {
   "cell_type": "code",
   "execution_count": 18,
   "metadata": {},
   "outputs": [
    {
     "data": {
      "text/plain": [
       "(3421, 3103)"
      ]
     },
     "execution_count": 18,
     "metadata": {},
     "output_type": "execute_result"
    }
   ],
   "source": [
    "prediction_raster.shape"
   ]
  },
  {
   "cell_type": "code",
   "execution_count": 19,
   "metadata": {},
   "outputs": [
    {
     "name": "stdout",
     "output_type": "stream",
     "text": [
      "ang20170709t224222_corr_v2p9_predicted.tif\n",
      "predictions/ang20170709t224222_corr_v2p9_predicted.tif\n"
     ]
    }
   ],
   "source": [
    "amr.output_gtiff(prediction_raster, img_nd_array_properties, img_nd_array, TIF_FILES[3], 'predictions/')"
   ]
  },
  {
   "cell_type": "code",
   "execution_count": null,
   "metadata": {},
   "outputs": [],
   "source": []
  }
 ],
 "metadata": {
  "kernelspec": {
   "display_name": "Python [conda env:.conda-rapids-0.16]",
   "language": "python",
   "name": "conda-env-.conda-rapids-0.16-py"
  },
  "language_info": {
   "codemirror_mode": {
    "name": "ipython",
    "version": 3
   },
   "file_extension": ".py",
   "mimetype": "text/x-python",
   "name": "python",
   "nbconvert_exporter": "python",
   "pygments_lexer": "ipython3",
   "version": "3.7.8"
  }
 },
 "nbformat": 4,
 "nbformat_minor": 4
}
