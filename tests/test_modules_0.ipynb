{
 "cells": [
  {
   "cell_type": "code",
   "execution_count": 4,
   "metadata": {},
   "outputs": [],
   "source": [
    "import dask_preperation as dp\n",
    "from dask.distributed import Client, wait\n",
    "import model as md\n",
    "import data_preperation as data_prep"
   ]
  },
  {
   "cell_type": "code",
   "execution_count": 5,
   "metadata": {},
   "outputs": [
    {
     "data": {
      "text/html": [
       "<table style=\"border: 2px solid white;\">\n",
       "<tr>\n",
       "<td style=\"vertical-align: top; border: 0px solid white\">\n",
       "<h3 style=\"text-align: left;\">Client</h3>\n",
       "<ul style=\"text-align: left; list-style: none; margin: 0; padding: 0;\">\n",
       "  <li><b>Scheduler: </b>tcp://127.0.0.1:44081</li>\n",
       "  <li><b>Dashboard: </b><a href='http://127.0.0.1:8787/status' target='_blank'>http://127.0.0.1:8787/status</a></li>\n",
       "</ul>\n",
       "</td>\n",
       "<td style=\"vertical-align: top; border: 0px solid white\">\n",
       "<h3 style=\"text-align: left;\">Cluster</h3>\n",
       "<ul style=\"text-align: left; list-style:none; margin: 0; padding: 0;\">\n",
       "  <li><b>Workers: </b>1</li>\n",
       "  <li><b>Cores: </b>1</li>\n",
       "  <li><b>Memory: </b>540.49 GB</li>\n",
       "</ul>\n",
       "</td>\n",
       "</tr>\n",
       "</table>"
      ],
      "text/plain": [
       "<Client: 'tcp://127.0.0.1:44081' processes=1 threads=1, memory=540.49 GB>"
      ]
     },
     "execution_count": 5,
     "metadata": {},
     "output_type": "execute_result"
    }
   ],
   "source": [
    "\n",
    "dask = dp.Dask(1, 8)\n",
    "c = Client(dask.cluster)\n",
    "dask.set_client(c)\n",
    "c"
   ]
  },
  {
   "cell_type": "code",
   "execution_count": 6,
   "metadata": {},
   "outputs": [
    {
     "name": "stdout",
     "output_type": "stream",
     "text": [
      " - from DATA: reading csv into GPU memory\n",
      " - from DATA: done reading csv into GPU memory\n",
      " - from DATA: dropped column: FID\n",
      " - from DATA: dropped column: Date\n"
     ]
    }
   ],
   "source": [
    "cols = ['FID', 'Date']\n",
    "pred = 'Depth_m'\n",
    "\n",
    "data = data_prep.Data('data/pts_merged_final.csv', pred, cols, 42)"
   ]
  },
  {
   "cell_type": "code",
   "execution_count": 7,
   "metadata": {},
   "outputs": [],
   "source": [
    "cv_train, cv_test, l_train, l_test = data.split(0.20)"
   ]
  },
  {
   "cell_type": "code",
   "execution_count": 8,
   "metadata": {},
   "outputs": [],
   "source": [
    "hyperparameters = {\t   'N_ESTIMATORS' : 2000,\n",
    "\t\t\t\t\t   'SPLIT_ALGO' : 1,\n",
    "\t\t\t\t\t   'SPLIT_CRITERION' : 2,\n",
    "\t\t\t\t\t   'BOOTSTRAP' : True,\n",
    "\t\t\t\t\t   'BOOTSTRAP_FEATURES' : False,\n",
    "\t\t\t\t\t   'ROWS_SAMPLE' : 1.0,\n",
    "\t\t\t\t\t   'MAX_DEPTH' : 16,\n",
    "\t\t\t\t\t   'MAX_LEAVES' : -1,\n",
    "\t\t\t\t\t   'MAX_FEATURES' : 'auto',\n",
    "\t\t\t\t\t   'N_BINS' : 8,\n",
    "\t\t\t\t\t   'MIN_ROWS_PER_NODE' : 2,\n",
    "\t\t\t\t\t   'MIN_IMPURITY_DECREASE' : 0.0,\n",
    "\t\t\t\t\t   'ACCURACY_METRIC' : 'mean_ae', # 'mse' #'r2' # 'median_aw' # \n",
    "\t\t\t\t\t   'QUANTILEPT' : False,\n",
    "\t\t\t\t\t   'SEED' :  42,\n",
    "\t\t\t\t\t   'VERBOSE' : False\n",
    "\t\t\t\t\t   }\n"
   ]
  },
  {
   "cell_type": "code",
   "execution_count": 9,
   "metadata": {},
   "outputs": [
    {
     "name": "stdout",
     "output_type": "stream",
     "text": [
      "{'N_ESTIMATORS': 2000, 'SPLIT_ALGO': 1, 'SPLIT_CRITERION': 2, 'BOOTSTRAP': True, 'BOOTSTRAP_FEATURES': False, 'ROWS_SAMPLE': 1.0, 'MAX_DEPTH': 16, 'MAX_LEAVES': -1, 'MAX_FEATURES': 'auto', 'N_BINS': 8, 'MIN_ROWS_PER_NODE': 2, 'MIN_IMPURITY_DECREASE': 0.0, 'ACCURACY_METRIC': 'mean_ae', 'QUANTILEPT': False, 'SEED': 42, 'VERBOSE': False}\n"
     ]
    }
   ],
   "source": [
    "print(hyperparameters)"
   ]
  },
  {
   "cell_type": "code",
   "execution_count": 10,
   "metadata": {},
   "outputs": [],
   "source": [
    "rf = md.DaskCumlRF(hyperparameters)"
   ]
  },
  {
   "cell_type": "code",
   "execution_count": 13,
   "metadata": {},
   "outputs": [],
   "source": [
    "cv_dt, l_dt = dask.distribute(cv_train, l_train)\n",
    "cv_dte, l_dte = dask.distribute(cv_test, l_test)"
   ]
  },
  {
   "cell_type": "code",
   "execution_count": 14,
   "metadata": {},
   "outputs": [
    {
     "name": "stdout",
     "output_type": "stream",
     "text": [
      "CPU times: user 217 ms, sys: 54 ms, total: 271 ms\n",
      "Wall time: 7.44 s\n"
     ]
    }
   ],
   "source": [
    "%%time\n",
    "\n",
    "rf.train(cv_dt, l_dt)"
   ]
  },
  {
   "cell_type": "code",
   "execution_count": 15,
   "metadata": {},
   "outputs": [
    {
     "name": "stdout",
     "output_type": "stream",
     "text": [
      "Scores ------\n",
      " MAE:  1.0146061\n",
      "  r2:  -0.0685635250369434\n",
      " MSE:  3.2579317\n"
     ]
    },
    {
     "data": {
      "text/plain": [
       "(1.0146061, -0.0685635250369434, 3.2579317)"
      ]
     },
     "execution_count": 15,
     "metadata": {},
     "output_type": "execute_result"
    }
   ],
   "source": [
    "rf.get_metrics(cv_dte, l_test)"
   ]
  },
  {
   "cell_type": "code",
   "execution_count": 19,
   "metadata": {},
   "outputs": [
    {
     "ename": "AttributeError",
     "evalue": "'DaskCumlRF' object has no attribute 'feature_importances'",
     "output_type": "error",
     "traceback": [
      "\u001b[0;31m---------------------------------------------------------------------------\u001b[0m",
      "\u001b[0;31mAttributeError\u001b[0m                            Traceback (most recent call last)",
      "\u001b[0;32m<ipython-input-19-dc7d3435d3de>\u001b[0m in \u001b[0;36m<module>\u001b[0;34m\u001b[0m\n\u001b[0;32m----> 1\u001b[0;31m \u001b[0mrf\u001b[0m\u001b[0;34m.\u001b[0m\u001b[0mfeature_importances\u001b[0m\u001b[0;34m(\u001b[0m\u001b[0mcv_dt\u001b[0m\u001b[0;34m,\u001b[0m \u001b[0ml_dt\u001b[0m\u001b[0;34m,\u001b[0m \u001b[0;32mTrue\u001b[0m\u001b[0;34m)\u001b[0m\u001b[0;34m\u001b[0m\u001b[0;34m\u001b[0m\u001b[0m\n\u001b[0m",
      "\u001b[0;31mAttributeError\u001b[0m: 'DaskCumlRF' object has no attribute 'feature_importances'"
     ]
    }
   ],
   "source": [
    "rf.feature_importances(cv_dt, l_dt, True)"
   ]
  },
  {
   "cell_type": "code",
   "execution_count": null,
   "metadata": {},
   "outputs": [],
   "source": []
  }
 ],
 "metadata": {
  "kernelspec": {
   "display_name": "Python [conda env:.conda-myRapids]",
   "language": "python",
   "name": "conda-env-.conda-myRapids-py"
  },
  "language_info": {
   "codemirror_mode": {
    "name": "ipython",
    "version": 3
   },
   "file_extension": ".py",
   "mimetype": "text/x-python",
   "name": "python",
   "nbconvert_exporter": "python",
   "pygments_lexer": "ipython3",
   "version": "3.7.8"
  }
 },
 "nbformat": 4,
 "nbformat_minor": 4
}
